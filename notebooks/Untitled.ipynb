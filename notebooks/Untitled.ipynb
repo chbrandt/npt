{
 "cells": [
  {
   "cell_type": "markdown",
   "id": "f966c1bf-59bd-4a59-a1e3-23c87096793a",
   "metadata": {},
   "source": [
    "# Mawrth_Vallis\n",
    "\n",
    "In this series of note(book)s we are going to review the library using Mars Mawrth Vallis (https://en.wikipedia.org/wiki/Mawrth_Vallis) as instrument-data.\n",
    "\n",
    "Mawrth Vallis (_MMV_ hereafter) is centered at (approx) 22.5<sup>o</sup>,343.5<sup>o</sup> (lat,lon; +0E).\n",
    "Let's define the region of interest as a box of 1 degree sides around those coordinates:"
   ]
  },
  {
   "cell_type": "code",
   "execution_count": 1,
   "id": "e3e510b1-14c1-43bf-a269-7c955175cb98",
   "metadata": {},
   "outputs": [],
   "source": [
    "bbox = {\n",
    "    'minlat': 22,\n",
    "    'maxlat': 24,\n",
    "    'westlon': 343,\n",
    "    'eastlon': 344\n",
    "}"
   ]
  },
  {
   "cell_type": "markdown",
   "id": "056c822d-9061-49a6-bd7c-18c894a1e8cd",
   "metadata": {},
   "source": [
    "## Data query\n",
    "\n",
    "The we are eventually going to download comes from USGS/PDS; to know where the data is available for download (ie, URL),\n",
    "we query USGS' ODE (https://ode.rsl.wustl.edu/) servers.\n",
    "All those quirks -- query, retrieve, select, etc. -- are implemented in the lib.\n",
    "\n",
    "First thing we do is to query what are the datasets the (NPT) lib supports; And then we go query for them products."
   ]
  },
  {
   "cell_type": "code",
   "execution_count": 2,
   "id": "50671c66-236f-4f0d-beb1-59e287eaab32",
   "metadata": {},
   "outputs": [
    {
     "name": "stdout",
     "output_type": "stream",
     "text": [
      "mars/mro/ctx/edr\n",
      "mars/mro/hirise/rdrv3\n"
     ]
    }
   ],
   "source": [
    "import npt\n",
    "\n",
    "npt.datasets.list()"
   ]
  },
  {
   "cell_type": "markdown",
   "id": "4493b53b-ba89-4d30-b4c1-17479e746078",
   "metadata": {},
   "source": [
    "### CTX"
   ]
  },
  {
   "cell_type": "code",
   "execution_count": 3,
   "id": "67f71048-697a-4eaf-9d30-a0974e3ca03b",
   "metadata": {},
   "outputs": [
    {
     "data": {
      "text/plain": [
       "<module 'npt' from '/Users/chbrandt/Coisas/repos/NEANIAS/npt/npt/__init__.py'>"
      ]
     },
     "execution_count": 3,
     "metadata": {},
     "output_type": "execute_result"
    }
   ],
   "source": [
    "from importlib import reload\n",
    "reload(npt)"
   ]
  },
  {
   "cell_type": "code",
   "execution_count": 4,
   "id": "59813140-c0b3-4cd2-968c-a6fb16b20d6a",
   "metadata": {},
   "outputs": [
    {
     "name": "stdout",
     "output_type": "stream",
     "text": [
      "30 products found\n"
     ]
    }
   ],
   "source": [
    "query_results_ctx = npt.search.ode(dataset='mars/mro/ctx/edr', bbox=bbox, match='intersect', filter=None)"
   ]
  },
  {
   "cell_type": "code",
   "execution_count": 5,
   "id": "a7ef5a5c-4698-4ee6-8949-9435a8bfe006",
   "metadata": {},
   "outputs": [
    {
     "data": {
      "text/plain": [
       "{'id': 'P06_003208_2046_XN_24N017W',\n",
       " 'mission': 'MRO',\n",
       " 'inst': 'CTX',\n",
       " 'type': 'EDR',\n",
       " 'Target_name': 'MARS',\n",
       " 'Footprints_cross_meridian': 'False',\n",
       " 'Map_scale': '5.67',\n",
       " 'Center_latitude': '24.4055',\n",
       " 'Center_longitude': '342.6312',\n",
       " 'Easternmost_longitude': '343.2',\n",
       " 'Westernmost_longitude': '342.04',\n",
       " 'Minimum_latitude': '21.9346',\n",
       " 'Maximum_latitude': '26.8763',\n",
       " 'Emission_angle': '0.09',\n",
       " 'Incidence_angle': '64.33',\n",
       " 'Phase_angle': '64.36',\n",
       " 'Solar_longitude': '212.17',\n",
       " 'Observation_time': '2007-04-03T10:12:52.088',\n",
       " 'Product_creation_time': '2007-11-05T19:42:35.000',\n",
       " 'UTC_start_time': '2007-04-03T10:12:05.965',\n",
       " 'UTC_stop_time': '2007-04-03T10:13:38.211',\n",
       " 'geometry': 'POLYGON ((342.57 26.8763, 343.2 21.9941, 342.69 21.9346, 342.04 26.8167, 342.57 26.8763))',\n",
       " 'image_url': 'https://pds-imaging.jpl.nasa.gov/data/mro/mars_reconnaissance_orbiter/ctx/mrox_0079/data/P06_003208_2046_XN_24N017W.IMG',\n",
       " 'label_url': None,\n",
       " 'browse_url': None}"
      ]
     },
     "execution_count": 5,
     "metadata": {},
     "output_type": "execute_result"
    }
   ],
   "source": [
    "query_results_ctx[0]"
   ]
  },
  {
   "cell_type": "markdown",
   "id": "a5dd5514-2004-4903-987b-0b73a4c5615c",
   "metadata": {},
   "source": [
    "### HiRISE"
   ]
  },
  {
   "cell_type": "code",
   "execution_count": 6,
   "id": "28627a53-7801-4175-9acf-e9da1ee8402e",
   "metadata": {},
   "outputs": [
    {
     "name": "stdout",
     "output_type": "stream",
     "text": [
      "24 products found\n"
     ]
    }
   ],
   "source": [
    "query_results_hirise = npt.search.ode(dataset='mars/mro/hirise/rdrv11', bbox=bbox, match='intersect', filter=None)"
   ]
  },
  {
   "cell_type": "code",
   "execution_count": 7,
   "id": "07cd3550-1e5c-4a11-8ce4-2e0f04fe6a02",
   "metadata": {},
   "outputs": [
    {
     "data": {
      "text/plain": [
       "{'id': 'ESP_018609_2045_COLOR',\n",
       " 'mission': 'MRO',\n",
       " 'inst': 'HIRISE',\n",
       " 'type': 'RDRV11',\n",
       " 'Target_name': 'MARS',\n",
       " 'Footprints_cross_meridian': 'False',\n",
       " 'Map_scale': '0.5',\n",
       " 'Center_latitude': '24.1081',\n",
       " 'Center_longitude': '343.725',\n",
       " 'Easternmost_longitude': '343.754',\n",
       " 'Westernmost_longitude': '343.696',\n",
       " 'Minimum_latitude': '23.9629',\n",
       " 'Maximum_latitude': '24.2534',\n",
       " 'Emission_angle': '4.980914',\n",
       " 'Incidence_angle': '46.312416',\n",
       " 'Phase_angle': '41.430083',\n",
       " 'Solar_longitude': '119.091716',\n",
       " 'Observation_time': '2010-07-16T12:47:04.944',\n",
       " 'Product_creation_time': '2010-07-22T05:26:55.000',\n",
       " 'UTC_start_time': '2010-07-16T12:47:02.090',\n",
       " 'UTC_stop_time': '2010-07-16T12:47:07.799',\n",
       " 'geometry': 'POLYGON ((343.754 23.9651, 343.733 23.9629, 343.696 24.2511, 343.718 24.2534, 343.754 23.9651))',\n",
       " 'image_url': 'https://hirise.lpl.arizona.edu/PDS/RDR/ESP/ORB_018600_018699/ESP_018609_2045/ESP_018609_2045_COLOR.JP2',\n",
       " 'label_url': 'https://hirise.lpl.arizona.edu/PDS/RDR/ESP/ORB_018600_018699/ESP_018609_2045/ESP_018609_2045_COLOR.LBL',\n",
       " 'browse_url': 'https://hirise.lpl.arizona.edu/PDS/EXTRAS/RDR/ESP/ORB_018600_018699/ESP_018609_2045/ESP_018609_2045_COLOR.browse.jpg'}"
      ]
     },
     "execution_count": 7,
     "metadata": {},
     "output_type": "execute_result"
    }
   ],
   "source": [
    "query_results_hirise[0]"
   ]
  },
  {
   "cell_type": "markdown",
   "id": "03b6ed40-2826-4df4-b182-a12c403254a9",
   "metadata": {},
   "source": [
    "### HRSC"
   ]
  },
  {
   "cell_type": "code",
   "execution_count": 8,
   "id": "db132c8c-a00b-437f-8929-fc702a74498b",
   "metadata": {},
   "outputs": [
    {
     "name": "stdout",
     "output_type": "stream",
     "text": [
      "85 products found\n"
     ]
    }
   ],
   "source": [
    "query_results_hrsc = npt.search.ode(dataset='mars/mex/hrsc/refdr3', bbox=bbox, match='intersect', filter=None)"
   ]
  },
  {
   "cell_type": "code",
   "execution_count": 9,
   "id": "5f6346b1-af9c-423c-ba23-9b5c97d9b125",
   "metadata": {},
   "outputs": [
    {
     "data": {
      "text/plain": [
       "{'id': 'H2196_0001_BL3.JP2',\n",
       " 'mission': 'MEX',\n",
       " 'inst': 'HRSC',\n",
       " 'type': 'REFDR3',\n",
       " 'Target_name': 'MARS',\n",
       " 'Footprints_cross_meridian': 'False',\n",
       " 'Map_scale': '100',\n",
       " 'Center_latitude': '16.1869',\n",
       " 'Center_longitude': '344.0416',\n",
       " 'Easternmost_longitude': '345.85',\n",
       " 'Westernmost_longitude': '342.617',\n",
       " 'Minimum_latitude': '8.562',\n",
       " 'Maximum_latitude': '23.8123',\n",
       " 'Emission_angle': None,\n",
       " 'Incidence_angle': None,\n",
       " 'Phase_angle': None,\n",
       " 'Solar_longitude': None,\n",
       " 'Observation_time': '2005-09-29T15:27:53.194',\n",
       " 'Product_creation_time': '2016-03-14T11:38:04.000',\n",
       " 'UTC_start_time': '2005-09-29T15:25:35.203',\n",
       " 'UTC_stop_time': '2005-09-29T15:30:11.186',\n",
       " 'geometry': 'POLYGON ((343.427 8.562, 343.421 8.712, 343.415 8.865, 343.408 9.016, 343.402 9.168, 343.396 9.322, 343.39 9.475, 343.383 9.629, 343.377 9.785, 343.37 9.94, 343.364 10.096, 343.357 10.253, 343.35 10.41, 343.343 10.568, 343.337 10.727, 343.33 10.885, 343.323 11.046, 343.316 11.204, 343.309 11.366, 343.301 11.528, 343.294 11.689, 343.287 11.851, 343.28 12.013, 343.272 12.173, 343.265 12.335, 343.257 12.496, 343.25 12.655, 343.243 12.816, 343.235 12.977, 343.227 13.135, 343.22 13.296, 343.212 13.456, 343.205 13.614, 343.197 13.773, 343.189 13.931, 343.182 14.09, 343.174 14.249, 343.166 14.406, 343.158 14.565, 343.15 14.723, 343.142 14.879, 343.134 15.037, 343.126 15.195, 343.118 15.351, 343.11 15.508, 343.102 15.665, 343.094 15.82, 343.086 15.976, 343.078 16.133, 343.07 16.287, 343.061 16.443, 343.053 16.597, 343.045 16.753, 343.036 16.908, 343.028 17.061, 343.02 17.216, 343.011 17.37, 343.003 17.523, 342.994 17.677, 342.986 17.831, 342.977 17.984, 342.969 18.137, 342.96 18.29, 342.951 18.442, 342.943 18.594, 342.934 18.747, 342.925 18.898, 342.916 19.05, 342.908 19.201, 342.899 19.352, 342.89 19.504, 342.881 19.653, 342.872 19.804, 342.863 19.955, 342.854 20.104, 342.845 20.255, 342.836 20.405, 342.827 20.553, 342.817 20.703, 342.808 20.853, 342.799 21, 342.79 21.149, 342.78 21.298, 342.771 21.445, 342.762 21.594, 342.752 21.741, 342.743 21.889, 342.733 22.036, 342.724 22.182, 342.714 22.33, 342.705 22.477, 342.695 22.622, 342.686 22.769, 342.676 22.915, 342.666 23.06, 342.656 23.206, 342.647 23.352, 342.637 23.496, 342.627 23.641, 342.617 23.785, 345.85 23.812, 345.844 23.669, 345.837 23.523, 345.83 23.379, 345.823 23.234, 345.816 23.088, 345.81 22.943, 345.803 22.796, 345.797 22.65, 345.79 22.504, 345.783 22.357, 345.777 22.21, 345.771 22.064, 345.764 21.916, 345.758 21.768, 345.752 21.621, 345.745 21.473, 345.739 21.325, 345.733 21.177, 345.727 21.027, 345.721 20.88, 345.715 20.73, 345.709 20.58, 345.703 20.432, 345.697 20.281, 345.691 20.131, 345.685 19.982, 345.68 19.831, 345.674 19.68, 345.668 19.53, 345.662 19.378, 345.657 19.227, 345.651 19.076, 345.646 18.924, 345.64 18.773, 345.635 18.62, 345.629 18.467, 345.624 18.316, 345.619 18.162, 345.613 18.009, 345.608 17.857, 345.603 17.703, 345.598 17.548, 345.592 17.396, 345.587 17.241, 345.582 17.086, 345.577 16.932, 345.572 16.777, 345.567 16.622, 345.562 16.467, 345.557 16.311, 345.553 16.157, 345.548 16, 345.543 15.844, 345.538 15.688, 345.533 15.531, 345.529 15.374, 345.524 15.218, 345.519 15.06, 345.515 14.903, 345.51 14.746, 345.506 14.588, 345.501 14.429, 345.497 14.272, 345.492 14.113, 345.488 13.954, 345.484 13.796, 345.479 13.636, 345.475 13.478, 345.471 13.318, 345.467 13.157, 345.462 12.998, 345.458 12.838, 345.454 12.677, 345.45 12.517, 345.446 12.356, 345.442 12.194, 345.438 12.034, 345.434 11.872, 345.43 11.71, 345.426 11.549, 345.422 11.386, 345.418 11.225, 345.414 11.066, 345.411 10.905, 345.407 10.746, 345.403 10.588, 345.4 10.429, 345.396 10.272, 345.393 10.116, 345.389 9.959, 345.386 9.804, 345.383 9.648, 345.379 9.494, 345.376 9.341, 345.373 9.186, 345.369 9.034, 345.366 8.883, 345.363 8.73, 345.36 8.58, 343.427 8.562))',\n",
       " 'image_url': 'https://pds-geosciences.wustl.edu/mex/mex-m-hrsc-5-refdr-mapprojected-v3/mexhrs_1003/data/2196/h2196_0001_bl3.jp2',\n",
       " 'label_url': 'https://pds-geosciences.wustl.edu/mex/mex-m-hrsc-5-refdr-mapprojected-v3/mexhrs_1003/data/2196/h2196_0001_bl3.lbl',\n",
       " 'browse_url': 'https://pds-geosciences.wustl.edu/mex/mex-m-hrsc-5-refdr-mapprojected-v3/mexhrs_1003/browse/2196/h2196_0001_bl3.jpg'}"
      ]
     },
     "execution_count": 9,
     "metadata": {},
     "output_type": "execute_result"
    }
   ],
   "source": [
    "query_results_hrsc[0]"
   ]
  },
  {
   "cell_type": "code",
   "execution_count": null,
   "id": "4717e160-ae7b-4609-8a79-38aadcb21f1f",
   "metadata": {},
   "outputs": [],
   "source": []
  }
 ],
 "metadata": {
  "kernelspec": {
   "display_name": "Python (NPT)",
   "language": "python",
   "name": "npt"
  },
  "language_info": {
   "codemirror_mode": {
    "name": "ipython",
    "version": 3
   },
   "file_extension": ".py",
   "mimetype": "text/x-python",
   "name": "python",
   "nbconvert_exporter": "python",
   "pygments_lexer": "ipython3",
   "version": "3.10.2"
  }
 },
 "nbformat": 4,
 "nbformat_minor": 5
}
