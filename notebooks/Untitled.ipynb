{
 "cells": [
  {
   "cell_type": "markdown",
   "id": "f966c1bf-59bd-4a59-a1e3-23c87096793a",
   "metadata": {},
   "source": [
    "# Mawrth_Vallis\n",
    "\n",
    "In this series of note(book)s we are going to review the library using Mars Mawrth Vallis (https://en.wikipedia.org/wiki/Mawrth_Vallis) as instrument-data.\n",
    "\n",
    "Mawrth Vallis (_MMV_ hereafter) is centered at (approx) 22.5<sup>o</sup>,343.5<sup>o</sup> (lat,lon; +0E).\n",
    "Let's define the region of interest as a box of 1 degree sides around those coordinates:"
   ]
  },
  {
   "cell_type": "code",
   "execution_count": 1,
   "id": "e3e510b1-14c1-43bf-a269-7c955175cb98",
   "metadata": {},
   "outputs": [],
   "source": [
    "bbox = {\n",
    "    'min_lat': 22,\n",
    "    'max_lat': 24,\n",
    "    'west_lon': 343,\n",
    "    'east_lon': 344\n",
    "}"
   ]
  },
  {
   "cell_type": "markdown",
   "id": "056c822d-9061-49a6-bd7c-18c894a1e8cd",
   "metadata": {},
   "source": [
    "## Data query\n",
    "\n",
    "The we are eventually going to download comes from USGS/PDS; to know where the data is available for download (ie, URL),\n",
    "we query USGS' ODE (https://ode.rsl.wustl.edu/) servers.\n",
    "All those quirks -- query, retrieve, select, etc. -- are implemented in the lib.\n",
    "\n",
    "First thing we do is to query what are the datasets the (NPT) lib supports; And then we go query for them products."
   ]
  },
  {
   "cell_type": "code",
   "execution_count": 2,
   "id": "daa86192-3c6c-468c-b053-9f3933650f59",
   "metadata": {},
   "outputs": [
    {
     "name": "stdout",
     "output_type": "stream",
     "text": [
      "env: PYTHONDONTWRITEBYTECODE=1\n"
     ]
    }
   ],
   "source": [
    "%env PYTHONDONTWRITEBYTECODE=1"
   ]
  },
  {
   "cell_type": "code",
   "execution_count": 3,
   "id": "50671c66-236f-4f0d-beb1-59e287eaab32",
   "metadata": {},
   "outputs": [
    {
     "name": "stdout",
     "output_type": "stream",
     "text": [
      "mars/mro/ctx/edr\n",
      "mars/mro/hirise/rdrv3\n"
     ]
    }
   ],
   "source": [
    "import npt\n",
    "\n",
    "npt.datasets.list()"
   ]
  },
  {
   "cell_type": "markdown",
   "id": "4493b53b-ba89-4d30-b4c1-17479e746078",
   "metadata": {},
   "source": [
    "### CTX"
   ]
  },
  {
   "cell_type": "code",
   "execution_count": 3,
   "id": "59813140-c0b3-4cd2-968c-a6fb16b20d6a",
   "metadata": {},
   "outputs": [
    {
     "ename": "NameError",
     "evalue": "name 'npt' is not defined",
     "output_type": "error",
     "traceback": [
      "\u001b[0;31m---------------------------------------------------------------------------\u001b[0m",
      "\u001b[0;31mNameError\u001b[0m                                 Traceback (most recent call last)",
      "Input \u001b[0;32mIn [3]\u001b[0m, in \u001b[0;36m<module>\u001b[0;34m\u001b[0m\n\u001b[0;32m----> 1\u001b[0m query_results_ctx \u001b[38;5;241m=\u001b[39m \u001b[43mnpt\u001b[49m\u001b[38;5;241m.\u001b[39msearch\u001b[38;5;241m.\u001b[39mode(dataset\u001b[38;5;241m=\u001b[39m\u001b[38;5;124m'\u001b[39m\u001b[38;5;124mmars/mro/ctx\u001b[39m\u001b[38;5;124m'\u001b[39m, bbox\u001b[38;5;241m=\u001b[39mbbox)\n",
      "\u001b[0;31mNameError\u001b[0m: name 'npt' is not defined"
     ]
    }
   ],
   "source": [
    "query_results_ctx = npt.search.ode(dataset='mars/mro/ctx', bbox=bbox, match='intersect', filter=None)"
   ]
  },
  {
   "cell_type": "markdown",
   "id": "a5dd5514-2004-4903-987b-0b73a4c5615c",
   "metadata": {},
   "source": [
    "### HiRISE"
   ]
  },
  {
   "cell_type": "code",
   "execution_count": 4,
   "id": "28627a53-7801-4175-9acf-e9da1ee8402e",
   "metadata": {},
   "outputs": [
    {
     "ename": "NameError",
     "evalue": "name 'npt' is not defined",
     "output_type": "error",
     "traceback": [
      "\u001b[0;31m---------------------------------------------------------------------------\u001b[0m",
      "\u001b[0;31mNameError\u001b[0m                                 Traceback (most recent call last)",
      "Input \u001b[0;32mIn [4]\u001b[0m, in \u001b[0;36m<module>\u001b[0;34m\u001b[0m\n\u001b[0;32m----> 1\u001b[0m query_results_hirise \u001b[38;5;241m=\u001b[39m \u001b[43mnpt\u001b[49m\u001b[38;5;241m.\u001b[39msearch\u001b[38;5;241m.\u001b[39mode(dataset\u001b[38;5;241m=\u001b[39m\u001b[38;5;124m'\u001b[39m\u001b[38;5;124mmars/mro/hirise\u001b[39m\u001b[38;5;124m'\u001b[39m, bbox\u001b[38;5;241m=\u001b[39mbbox)\n",
      "\u001b[0;31mNameError\u001b[0m: name 'npt' is not defined"
     ]
    }
   ],
   "source": [
    "query_results_hirise = npt.search.ode(dataset='mars/mro/hirise', bbox=bbox, match='intersect', filter=None)"
   ]
  },
  {
   "cell_type": "markdown",
   "id": "03b6ed40-2826-4df4-b182-a12c403254a9",
   "metadata": {},
   "source": [
    "### HRSC"
   ]
  },
  {
   "cell_type": "code",
   "execution_count": 6,
   "id": "db132c8c-a00b-437f-8929-fc702a74498b",
   "metadata": {},
   "outputs": [
    {
     "ename": "NameError",
     "evalue": "name 'npt' is not defined",
     "output_type": "error",
     "traceback": [
      "\u001b[0;31m---------------------------------------------------------------------------\u001b[0m",
      "\u001b[0;31mNameError\u001b[0m                                 Traceback (most recent call last)",
      "Input \u001b[0;32mIn [6]\u001b[0m, in \u001b[0;36m<module>\u001b[0;34m\u001b[0m\n\u001b[0;32m----> 1\u001b[0m query_results_ctx \u001b[38;5;241m=\u001b[39m \u001b[43mnpt\u001b[49m\u001b[38;5;241m.\u001b[39msearch\u001b[38;5;241m.\u001b[39mode(dataset\u001b[38;5;241m=\u001b[39m\u001b[38;5;124m'\u001b[39m\u001b[38;5;124mmars/mex/hrsc\u001b[39m\u001b[38;5;124m'\u001b[39m, bbox\u001b[38;5;241m=\u001b[39mbbox, match\u001b[38;5;241m=\u001b[39m\u001b[38;5;124m'\u001b[39m\u001b[38;5;124mintersect\u001b[39m\u001b[38;5;124m'\u001b[39m, \u001b[38;5;28mfilter\u001b[39m\u001b[38;5;241m=\u001b[39m\u001b[38;5;28;01mNone\u001b[39;00m)\n",
      "\u001b[0;31mNameError\u001b[0m: name 'npt' is not defined"
     ]
    }
   ],
   "source": [
    "query_results_ctx = npt.search.ode(dataset='mars/mex/hrsc', bbox=bbox, match='intersect', filter=None)"
   ]
  },
  {
   "cell_type": "code",
   "execution_count": null,
   "id": "5f6346b1-af9c-423c-ba23-9b5c97d9b125",
   "metadata": {},
   "outputs": [],
   "source": []
  }
 ],
 "metadata": {
  "kernelspec": {
   "display_name": "Python (NPT)",
   "language": "python",
   "name": "npt"
  },
  "language_info": {
   "codemirror_mode": {
    "name": "ipython",
    "version": 3
   },
   "file_extension": ".py",
   "mimetype": "text/x-python",
   "name": "python",
   "nbconvert_exporter": "python",
   "pygments_lexer": "ipython3",
   "version": "3.10.2"
  }
 },
 "nbformat": 4,
 "nbformat_minor": 5
}
