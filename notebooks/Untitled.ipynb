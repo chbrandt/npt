{
 "cells": [
  {
   "cell_type": "markdown",
   "id": "f966c1bf-59bd-4a59-a1e3-23c87096793a",
   "metadata": {},
   "source": [
    "# Mawrth_Vallis\n",
    "\n",
    "In this series of note(book)s we are going to review the library using Mars Mawrth Vallis (https://en.wikipedia.org/wiki/Mawrth_Vallis) as instrument-data.\n",
    "\n",
    "Mawrth Vallis (_MMV_ hereafter) is centered at (approx) 22.5<sup>o</sup>,343.5<sup>o</sup> (lat,lon; +0E).\n",
    "Let's define the region of interest as a box of 1 degree sides around those coordinates:"
   ]
  },
  {
   "cell_type": "code",
   "execution_count": 1,
   "id": "e3e510b1-14c1-43bf-a269-7c955175cb98",
   "metadata": {},
   "outputs": [],
   "source": [
    "bbox = {\n",
    "    'minlat': 22,\n",
    "    'maxlat': 24,\n",
    "    'westlon': 343,\n",
    "    'eastlon': 344\n",
    "}"
   ]
  },
  {
   "cell_type": "markdown",
   "id": "056c822d-9061-49a6-bd7c-18c894a1e8cd",
   "metadata": {},
   "source": [
    "## Data query\n",
    "\n",
    "The we are eventually going to download comes from USGS/PDS; to know where the data is available for download (ie, URL),\n",
    "we query USGS' ODE (https://ode.rsl.wustl.edu/) servers.\n",
    "All those quirks -- query, retrieve, select, etc. -- are implemented in the lib.\n",
    "\n",
    "First thing we do is to query what are the datasets the (NPT) lib supports; And then we go query for them products."
   ]
  },
  {
   "cell_type": "code",
   "execution_count": 2,
   "id": "50671c66-236f-4f0d-beb1-59e287eaab32",
   "metadata": {},
   "outputs": [
    {
     "name": "stdout",
     "output_type": "stream",
     "text": [
      "mars/mro/ctx/edr\n",
      "mars/mro/hirise/rdrv3\n"
     ]
    }
   ],
   "source": [
    "import npt\n",
    "\n",
    "npt.datasets.list()"
   ]
  },
  {
   "cell_type": "markdown",
   "id": "4493b53b-ba89-4d30-b4c1-17479e746078",
   "metadata": {},
   "source": [
    "### CTX"
   ]
  },
  {
   "cell_type": "code",
   "execution_count": 3,
   "id": "67f71048-697a-4eaf-9d30-a0974e3ca03b",
   "metadata": {},
   "outputs": [
    {
     "data": {
      "text/plain": [
       "<module 'npt' from '/Users/chbrandt/Coisas/repos/NEANIAS/npt/npt/__init__.py'>"
      ]
     },
     "execution_count": 3,
     "metadata": {},
     "output_type": "execute_result"
    }
   ],
   "source": [
    "from importlib import reload\n",
    "reload(npt)"
   ]
  },
  {
   "cell_type": "code",
   "execution_count": 4,
   "id": "59813140-c0b3-4cd2-968c-a6fb16b20d6a",
   "metadata": {},
   "outputs": [
    {
     "name": "stdout",
     "output_type": "stream",
     "text": [
      "30 products found\n"
     ]
    }
   ],
   "source": [
    "query_results_ctx = npt.search.ode(dataset='mars/mro/ctx/edr', bbox=bbox, match='intersect')"
   ]
  },
  {
   "cell_type": "code",
   "execution_count": 5,
   "id": "a7ef5a5c-4698-4ee6-8949-9435a8bfe006",
   "metadata": {},
   "outputs": [
    {
     "data": {
      "text/plain": [
       "{'id': 'P06_003208_2046_XN_24N017W',\n",
       " 'mission': 'MRO',\n",
       " 'inst': 'CTX',\n",
       " 'type': 'EDR',\n",
       " 'Target_name': 'MARS',\n",
       " 'Footprints_cross_meridian': 'False',\n",
       " 'Map_scale': '5.67',\n",
       " 'Center_latitude': '24.4055',\n",
       " 'Center_longitude': '342.6312',\n",
       " 'Easternmost_longitude': '343.2',\n",
       " 'Westernmost_longitude': '342.04',\n",
       " 'Minimum_latitude': '21.9346',\n",
       " 'Maximum_latitude': '26.8763',\n",
       " 'Emission_angle': '0.09',\n",
       " 'Incidence_angle': '64.33',\n",
       " 'Phase_angle': '64.36',\n",
       " 'Solar_longitude': '212.17',\n",
       " 'Observation_time': '2007-04-03T10:12:52.088',\n",
       " 'Product_creation_time': '2007-11-05T19:42:35.000',\n",
       " 'UTC_start_time': '2007-04-03T10:12:05.965',\n",
       " 'UTC_stop_time': '2007-04-03T10:13:38.211',\n",
       " 'geometry': 'POLYGON ((342.57 26.8763, 343.2 21.9941, 342.69 21.9346, 342.04 26.8167, 342.57 26.8763))',\n",
       " 'image_url': 'https://pds-imaging.jpl.nasa.gov/data/mro/mars_reconnaissance_orbiter/ctx/mrox_0079/data/P06_003208_2046_XN_24N017W.IMG',\n",
       " 'label_url': None,\n",
       " 'browse_url': None}"
      ]
     },
     "execution_count": 5,
     "metadata": {},
     "output_type": "execute_result"
    }
   ],
   "source": [
    "query_results_ctx[0]"
   ]
  },
  {
   "cell_type": "markdown",
   "id": "a5dd5514-2004-4903-987b-0b73a4c5615c",
   "metadata": {},
   "source": [
    "### HiRISE"
   ]
  },
  {
   "cell_type": "code",
   "execution_count": 6,
   "id": "28627a53-7801-4175-9acf-e9da1ee8402e",
   "metadata": {},
   "outputs": [
    {
     "name": "stdout",
     "output_type": "stream",
     "text": [
      "13 products found\n"
     ]
    }
   ],
   "source": [
    "query_results_hirise = npt.search.ode(dataset='mars/mro/hirise/rdrv11', bbox=bbox, match='intersect')"
   ]
  },
  {
   "cell_type": "code",
   "execution_count": 7,
   "id": "07cd3550-1e5c-4a11-8ce4-2e0f04fe6a02",
   "metadata": {},
   "outputs": [
    {
     "data": {
      "text/plain": [
       "{'id': 'ESP_018609_2045_RED',\n",
       " 'mission': 'MRO',\n",
       " 'inst': 'HIRISE',\n",
       " 'type': 'RDRV11',\n",
       " 'Target_name': 'MARS',\n",
       " 'Footprints_cross_meridian': 'False',\n",
       " 'Map_scale': '0.5',\n",
       " 'Center_latitude': '24.108',\n",
       " 'Center_longitude': '343.7255',\n",
       " 'Easternmost_longitude': '343.796',\n",
       " 'Westernmost_longitude': '343.654',\n",
       " 'Minimum_latitude': '23.9582',\n",
       " 'Maximum_latitude': '24.2577',\n",
       " 'Emission_angle': '4.980531',\n",
       " 'Incidence_angle': '46.312362',\n",
       " 'Phase_angle': '41.429949',\n",
       " 'Solar_longitude': '119.091716',\n",
       " 'Observation_time': '2010-07-16T12:47:04.939',\n",
       " 'Product_creation_time': '2010-07-22T03:53:02.000',\n",
       " 'UTC_start_time': '2010-07-16T12:47:02.191',\n",
       " 'UTC_stop_time': '2010-07-16T12:47:07.688',\n",
       " 'geometry': 'POLYGON ((343.796 23.9695, 343.691 23.9582, 343.654 24.2465, 343.76 24.2577, 343.796 23.9695))',\n",
       " 'image_url': 'https://hirise.lpl.arizona.edu/PDS/RDR/ESP/ORB_018600_018699/ESP_018609_2045/ESP_018609_2045_RED.JP2',\n",
       " 'label_url': 'https://hirise.lpl.arizona.edu/PDS/RDR/ESP/ORB_018600_018699/ESP_018609_2045/ESP_018609_2045_RED.LBL',\n",
       " 'browse_url': 'https://hirise.lpl.arizona.edu/PDS/EXTRAS/RDR/ESP/ORB_018600_018699/ESP_018609_2045/ESP_018609_2045_RED.browse.jpg'}"
      ]
     },
     "execution_count": 7,
     "metadata": {},
     "output_type": "execute_result"
    }
   ],
   "source": [
    "query_results_hirise[0]"
   ]
  },
  {
   "cell_type": "markdown",
   "id": "03b6ed40-2826-4df4-b182-a12c403254a9",
   "metadata": {},
   "source": [
    "### HRSC"
   ]
  },
  {
   "cell_type": "code",
   "execution_count": 8,
   "id": "db132c8c-a00b-437f-8929-fc702a74498b",
   "metadata": {},
   "outputs": [
    {
     "name": "stdout",
     "output_type": "stream",
     "text": [
      "9 products found\n"
     ]
    }
   ],
   "source": [
    "query_results_hrsc = npt.search.ode(dataset='mars/mex/hrsc/refdr3', bbox=bbox, match='intersect')"
   ]
  },
  {
   "cell_type": "code",
   "execution_count": 9,
   "id": "5f6346b1-af9c-423c-ba23-9b5c97d9b125",
   "metadata": {},
   "outputs": [
    {
     "data": {
      "text/plain": [
       "{'id': 'H2229_0001_ND3.JP2',\n",
       " 'mission': 'MEX',\n",
       " 'inst': 'HRSC',\n",
       " 'type': 'REFDR3',\n",
       " 'Target_name': 'MARS',\n",
       " 'Footprints_cross_meridian': 'False',\n",
       " 'Map_scale': '25',\n",
       " 'Center_latitude': '19.4905',\n",
       " 'Center_longitude': '341.7115',\n",
       " 'Easternmost_longitude': '344.19',\n",
       " 'Westernmost_longitude': '339.753',\n",
       " 'Minimum_latitude': '11.606',\n",
       " 'Maximum_latitude': '27.373',\n",
       " 'Emission_angle': None,\n",
       " 'Incidence_angle': None,\n",
       " 'Phase_angle': None,\n",
       " 'Solar_longitude': None,\n",
       " 'Observation_time': '2005-10-08T21:12:22.102',\n",
       " 'Product_creation_time': '2016-03-14T22:12:55.000',\n",
       " 'UTC_start_time': '2005-10-08T21:09:40.594',\n",
       " 'UTC_stop_time': '2005-10-08T21:15:03.611',\n",
       " 'geometry': 'POLYGON ((340.924 11.606, 340.915 11.771, 340.905 11.937, 340.896 12.104, 340.886 12.271, 340.877 12.439, 340.867 12.607, 340.857 12.777, 340.847 12.946, 340.837 13.117, 340.827 13.288, 340.817 13.46, 340.806 13.63, 340.796 13.801, 340.786 13.971, 340.775 14.14, 340.765 14.31, 340.754 14.479, 340.744 14.648, 340.733 14.817, 340.723 14.985, 340.712 15.153, 340.701 15.321, 340.691 15.488, 340.68 15.655, 340.669 15.822, 340.658 15.989, 339.753 27.321, 339.767 27.177, 339.78 27.032, 339.794 26.887, 339.808 26.742, 339.822 26.596, 339.836 26.45, 339.849 26.303, 339.863 26.157, 339.877 26.01, 339.89 25.863, 339.904 25.715, 339.917 25.567, 339.93 25.419, 339.944 25.271, 339.957 25.122, 339.97 24.973, 339.984 24.824, 339.997 24.674, 340.01 24.525, 340.023 24.374, 340.036 24.224, 340.049 24.073, 340.062 23.922, 340.075 23.771, 340.088 23.619, 340.101 23.467, 340.114 23.315, 340.127 23.163, 340.139 23.01, 340.152 22.857, 340.165 22.704, 340.177 22.55, 340.19 22.396, 340.202 22.242, 340.215 22.087, 340.227 21.932, 340.24 21.777, 340.252 21.622, 340.264 21.466, 340.277 21.31, 340.289 21.153, 340.301 20.997, 340.313 20.84, 340.325 20.682, 340.337 20.525, 340.349 20.367, 340.361 20.209, 340.373 20.05, 340.385 19.891, 340.397 19.732, 340.409 19.573, 340.421 19.413, 340.432 19.253, 340.444 19.093, 340.456 18.932, 340.467 18.771, 340.479 18.61, 340.49 18.449, 340.502 18.287, 340.513 18.125, 340.525 17.962, 340.536 17.799, 340.547 17.636, 340.559 17.473, 340.57 17.309, 340.581 17.145, 340.592 16.981, 340.603 16.816, 340.614 16.651, 340.625 16.486, 340.636 16.321, 340.647 16.155, 343.633 16.196, 343.639 16.362, 343.645 16.528, 343.651 16.693, 343.657 16.858, 343.664 17.023, 343.67 17.188, 343.676 17.352, 343.682 17.516, 343.689 17.679, 343.695 17.843, 343.701 18.006, 343.708 18.169, 343.714 18.331, 343.721 18.493, 343.728 18.655, 343.734 18.816, 343.741 18.977, 343.748 19.138, 343.755 19.299, 343.761 19.459, 343.768 19.619, 343.775 19.778, 343.782 19.938, 343.789 20.096, 343.796 20.255, 343.804 20.413, 343.811 20.572, 343.818 20.729, 343.825 20.887, 343.833 21.044, 343.84 21.201, 343.848 21.357, 343.855 21.514, 343.863 21.67, 343.87 21.825, 343.878 21.981, 343.886 22.136, 343.893 22.29, 343.901 22.445, 343.909 22.599, 343.917 22.753, 343.925 22.906, 343.933 23.059, 343.941 23.212, 343.949 23.365, 343.957 23.517, 343.966 23.669, 343.974 23.821, 343.982 23.973, 343.991 24.124, 343.999 24.275, 344.008 24.425, 344.016 24.575, 344.025 24.725, 344.033 24.875, 344.042 25.024, 344.051 25.173, 344.06 25.322, 344.069 25.47, 344.078 25.619, 344.087 25.766, 344.096 25.914, 344.105 26.061, 344.114 26.208, 344.123 26.355, 344.133 26.501, 344.142 26.647, 344.152 26.793, 344.161 26.939, 344.171 27.084, 344.18 27.229, 344.19 27.373, 343.627 16.03, 343.621 15.863, 343.615 15.696, 343.61 15.529, 343.604 15.361, 343.598 15.193, 343.592 15.025, 343.587 14.856, 343.581 14.688, 343.576 14.518, 343.57 14.349, 343.565 14.179, 343.559 14.009, 343.554 13.839, 343.548 13.668, 343.543 13.497, 343.538 13.326, 343.533 13.154, 343.527 12.983, 343.522 12.813, 343.517 12.643, 343.512 12.475, 343.507 12.306, 343.503 12.139, 343.498 11.972, 343.493 11.806, 343.488 11.641, 340.924 11.606))',\n",
       " 'image_url': 'https://pds-geosciences.wustl.edu/mex/mex-m-hrsc-5-refdr-mapprojected-v3/mexhrs_1003/data/2229/h2229_0001_nd3.jp2',\n",
       " 'label_url': 'https://pds-geosciences.wustl.edu/mex/mex-m-hrsc-5-refdr-mapprojected-v3/mexhrs_1003/data/2229/h2229_0001_nd3.lbl',\n",
       " 'browse_url': 'https://pds-geosciences.wustl.edu/mex/mex-m-hrsc-5-refdr-mapprojected-v3/mexhrs_1003/browse/2229/h2229_0001_nd3.jpg'}"
      ]
     },
     "execution_count": 9,
     "metadata": {},
     "output_type": "execute_result"
    }
   ],
   "source": [
    "query_results_hrsc[0]"
   ]
  },
  {
   "cell_type": "code",
   "execution_count": null,
   "id": "4717e160-ae7b-4609-8a79-38aadcb21f1f",
   "metadata": {},
   "outputs": [],
   "source": []
  }
 ],
 "metadata": {
  "kernelspec": {
   "display_name": "Python (NPT)",
   "language": "python",
   "name": "npt"
  },
  "language_info": {
   "codemirror_mode": {
    "name": "ipython",
    "version": 3
   },
   "file_extension": ".py",
   "mimetype": "text/x-python",
   "name": "python",
   "nbconvert_exporter": "python",
   "pygments_lexer": "ipython3",
   "version": "3.10.2"
  }
 },
 "nbformat": 4,
 "nbformat_minor": 5
}
