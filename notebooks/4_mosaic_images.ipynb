{
 "cells": [
  {
   "cell_type": "markdown",
   "id": "6d5aeb5b-75a2-4f00-87b9-6d2b02b370fe",
   "metadata": {},
   "source": [
    "# Mosaic image data products\n",
    "\n",
    "Now that we have some/the images (CTX, Hirise, HRSC) reduced (as GeoTIFF) we want to create mosaics."
   ]
  },
  {
   "cell_type": "code",
   "execution_count": 1,
   "id": "d8429108-81c0-422c-bb55-b2d7a40fc3ff",
   "metadata": {},
   "outputs": [],
   "source": [
    "import geopandas\n",
    "import pandas\n",
    "pandas.set_option('display.max_columns',100)"
   ]
  },
  {
   "cell_type": "markdown",
   "id": "94bbaff2-b1dd-4593-8d22-62279d97cb5e",
   "metadata": {},
   "source": [
    "## CTX"
   ]
  },
  {
   "cell_type": "code",
   "execution_count": 2,
   "id": "181d0b34-ee6b-45ea-9300-fe3953f2880d",
   "metadata": {},
   "outputs": [
    {
     "name": "stderr",
     "output_type": "stream",
     "text": [
      "/var/folders/b1/frq3gywj3ljfqrf1yc7zk06r0000gn/T/ipykernel_46723/994023424.py:4: UserWarning: Geometry is in a geographic CRS. Results from 'area' are likely incorrect. Use 'GeoSeries.to_crs()' to re-project geometries to a projected CRS before this operation.\n",
      "\n",
      "  gdf = gdf.loc[gdf.area.sort_values(ascending=False).index]\n"
     ]
    },
    {
     "data": {
      "text/html": [
       "<div>\n",
       "<style scoped>\n",
       "    .dataframe tbody tr th:only-of-type {\n",
       "        vertical-align: middle;\n",
       "    }\n",
       "\n",
       "    .dataframe tbody tr th {\n",
       "        vertical-align: top;\n",
       "    }\n",
       "\n",
       "    .dataframe thead th {\n",
       "        text-align: right;\n",
       "    }\n",
       "</style>\n",
       "<table border=\"1\" class=\"dataframe\">\n",
       "  <thead>\n",
       "    <tr style=\"text-align: right;\">\n",
       "      <th></th>\n",
       "      <th>Center_latitude</th>\n",
       "      <th>Center_longitude</th>\n",
       "      <th>Easternmost_longitude</th>\n",
       "      <th>Emission_angle</th>\n",
       "      <th>Footprints_cross_meridian</th>\n",
       "      <th>Incidence_angle</th>\n",
       "      <th>Map_scale</th>\n",
       "      <th>Maximum_latitude</th>\n",
       "      <th>Minimum_latitude</th>\n",
       "      <th>Observation_time</th>\n",
       "      <th>Phase_angle</th>\n",
       "      <th>Product_creation_time</th>\n",
       "      <th>Solar_longitude</th>\n",
       "      <th>Target_name</th>\n",
       "      <th>UTC_start_time</th>\n",
       "      <th>UTC_stop_time</th>\n",
       "      <th>Westernmost_longitude</th>\n",
       "      <th>browse_url</th>\n",
       "      <th>datasetId</th>\n",
       "      <th>id</th>\n",
       "      <th>idFromProvider</th>\n",
       "      <th>image_kbytes</th>\n",
       "      <th>image_path</th>\n",
       "      <th>inst</th>\n",
       "      <th>instrumentHostName</th>\n",
       "      <th>instrumentId</th>\n",
       "      <th>instrumentName</th>\n",
       "      <th>label_path</th>\n",
       "      <th>mission</th>\n",
       "      <th>missionPhaseName</th>\n",
       "      <th>observationMode</th>\n",
       "      <th>productCreationTime</th>\n",
       "      <th>spacecraftId</th>\n",
       "      <th>startTime</th>\n",
       "      <th>stopTime</th>\n",
       "      <th>targetName</th>\n",
       "      <th>type</th>\n",
       "      <th>tiff_path</th>\n",
       "      <th>geometry</th>\n",
       "    </tr>\n",
       "  </thead>\n",
       "  <tbody>\n",
       "    <tr>\n",
       "      <th>1</th>\n",
       "      <td>24.3758</td>\n",
       "      <td>342.2817</td>\n",
       "      <td>342.87</td>\n",
       "      <td>0.09</td>\n",
       "      <td>False</td>\n",
       "      <td>59.39</td>\n",
       "      <td>5.66</td>\n",
       "      <td>27.0054</td>\n",
       "      <td>21.7462</td>\n",
       "      <td>2007-02-18T05:52:00.318000</td>\n",
       "      <td>59.41</td>\n",
       "      <td>2007-08-09T21:43:46</td>\n",
       "      <td>185.96</td>\n",
       "      <td>MARS</td>\n",
       "      <td>2007-02-18T05:51:11.313000</td>\n",
       "      <td>2007-02-18T05:52:49.324001</td>\n",
       "      <td>341.66</td>\n",
       "      <td>None</td>\n",
       "      <td>MRO_CTX</td>\n",
       "      <td>P04_002641_2046_XN_24N017W</td>\n",
       "      <td>P04_002641_2046_XN_24N017W</td>\n",
       "      <td>252001</td>\n",
       "      <td>data/ctx/P04_002641_2046_XN_24N017W.IMG</td>\n",
       "      <td>CTX</td>\n",
       "      <td>MARS RECONNAISSANCE ORBITER</td>\n",
       "      <td>CTX</td>\n",
       "      <td>CONTEXT CAMERA</td>\n",
       "      <td>data/ctx/P04_002641_2046_XN_24N017W.lbl</td>\n",
       "      <td>MRO</td>\n",
       "      <td>PSP</td>\n",
       "      <td>EDR</td>\n",
       "      <td>2007-08-09T21:43:46</td>\n",
       "      <td>MRO</td>\n",
       "      <td>2007-02-18T05:51:11.313000</td>\n",
       "      <td>2007-02-18T05:52:49.324001</td>\n",
       "      <td>MARS</td>\n",
       "      <td>EDR</td>\n",
       "      <td>data/reduced/ctx/P04_002641_2046_XN_24N017W.tif</td>\n",
       "      <td>POLYGON ((-17.80000 27.00540, -17.13000 21.805...</td>\n",
       "    </tr>\n",
       "    <tr>\n",
       "      <th>0</th>\n",
       "      <td>23.2688</td>\n",
       "      <td>342.4958</td>\n",
       "      <td>342.8</td>\n",
       "      <td>5.85</td>\n",
       "      <td>False</td>\n",
       "      <td>48.88</td>\n",
       "      <td>5.66</td>\n",
       "      <td>23.6504</td>\n",
       "      <td>22.8866</td>\n",
       "      <td>2006-11-12T15:12:52.777000</td>\n",
       "      <td>43.11</td>\n",
       "      <td>2007-05-18T22:07:23</td>\n",
       "      <td>134.36</td>\n",
       "      <td>MARS</td>\n",
       "      <td>2006-11-12T15:12:46.050999</td>\n",
       "      <td>2006-11-12T15:12:59.504002</td>\n",
       "      <td>342.19</td>\n",
       "      <td>None</td>\n",
       "      <td>MRO_CTX</td>\n",
       "      <td>P01_001388_2034_XI_23N017W</td>\n",
       "      <td>P01_001388_2034_XI_23N017W</td>\n",
       "      <td>35001</td>\n",
       "      <td>data/ctx/P01_001388_2034_XI_23N017W.IMG</td>\n",
       "      <td>CTX</td>\n",
       "      <td>MARS RECONNAISSANCE ORBITER</td>\n",
       "      <td>CTX</td>\n",
       "      <td>CONTEXT CAMERA</td>\n",
       "      <td>data/ctx/P01_001388_2034_XI_23N017W.lbl</td>\n",
       "      <td>MRO</td>\n",
       "      <td>PSP</td>\n",
       "      <td>EDR</td>\n",
       "      <td>2007-05-18T22:07:23</td>\n",
       "      <td>MRO</td>\n",
       "      <td>2006-11-12T15:12:46.050999</td>\n",
       "      <td>2006-11-12T15:12:59.504002</td>\n",
       "      <td>MARS</td>\n",
       "      <td>EDR</td>\n",
       "      <td>data/reduced/ctx/P01_001388_2034_XI_23N017W.tif</td>\n",
       "      <td>POLYGON ((-17.29000 23.65040, -17.20000 22.936...</td>\n",
       "    </tr>\n",
       "  </tbody>\n",
       "</table>\n",
       "</div>"
      ],
      "text/plain": [
       "  Center_latitude Center_longitude Easternmost_longitude Emission_angle  \\\n",
       "1         24.3758         342.2817                342.87           0.09   \n",
       "0         23.2688         342.4958                 342.8           5.85   \n",
       "\n",
       "  Footprints_cross_meridian Incidence_angle Map_scale Maximum_latitude  \\\n",
       "1                     False           59.39      5.66          27.0054   \n",
       "0                     False           48.88      5.66          23.6504   \n",
       "\n",
       "  Minimum_latitude            Observation_time Phase_angle  \\\n",
       "1          21.7462  2007-02-18T05:52:00.318000       59.41   \n",
       "0          22.8866  2006-11-12T15:12:52.777000       43.11   \n",
       "\n",
       "  Product_creation_time Solar_longitude Target_name  \\\n",
       "1   2007-08-09T21:43:46          185.96        MARS   \n",
       "0   2007-05-18T22:07:23          134.36        MARS   \n",
       "\n",
       "               UTC_start_time               UTC_stop_time  \\\n",
       "1  2007-02-18T05:51:11.313000  2007-02-18T05:52:49.324001   \n",
       "0  2006-11-12T15:12:46.050999  2006-11-12T15:12:59.504002   \n",
       "\n",
       "  Westernmost_longitude browse_url datasetId                          id  \\\n",
       "1                341.66       None   MRO_CTX  P04_002641_2046_XN_24N017W   \n",
       "0                342.19       None   MRO_CTX  P01_001388_2034_XI_23N017W   \n",
       "\n",
       "               idFromProvider image_kbytes  \\\n",
       "1  P04_002641_2046_XN_24N017W       252001   \n",
       "0  P01_001388_2034_XI_23N017W        35001   \n",
       "\n",
       "                                image_path inst           instrumentHostName  \\\n",
       "1  data/ctx/P04_002641_2046_XN_24N017W.IMG  CTX  MARS RECONNAISSANCE ORBITER   \n",
       "0  data/ctx/P01_001388_2034_XI_23N017W.IMG  CTX  MARS RECONNAISSANCE ORBITER   \n",
       "\n",
       "  instrumentId  instrumentName                               label_path  \\\n",
       "1          CTX  CONTEXT CAMERA  data/ctx/P04_002641_2046_XN_24N017W.lbl   \n",
       "0          CTX  CONTEXT CAMERA  data/ctx/P01_001388_2034_XI_23N017W.lbl   \n",
       "\n",
       "  mission missionPhaseName observationMode  productCreationTime spacecraftId  \\\n",
       "1     MRO              PSP             EDR  2007-08-09T21:43:46          MRO   \n",
       "0     MRO              PSP             EDR  2007-05-18T22:07:23          MRO   \n",
       "\n",
       "                    startTime                    stopTime targetName type  \\\n",
       "1  2007-02-18T05:51:11.313000  2007-02-18T05:52:49.324001       MARS  EDR   \n",
       "0  2006-11-12T15:12:46.050999  2006-11-12T15:12:59.504002       MARS  EDR   \n",
       "\n",
       "                                         tiff_path  \\\n",
       "1  data/reduced/ctx/P04_002641_2046_XN_24N017W.tif   \n",
       "0  data/reduced/ctx/P01_001388_2034_XI_23N017W.tif   \n",
       "\n",
       "                                            geometry  \n",
       "1  POLYGON ((-17.80000 27.00540, -17.13000 21.805...  \n",
       "0  POLYGON ((-17.29000 23.65040, -17.20000 22.936...  "
      ]
     },
     "execution_count": 2,
     "metadata": {},
     "output_type": "execute_result"
    }
   ],
   "source": [
    "reduced_products = 'Mawrth_Vallis_reduced_sample_products_ctx.geojson'\n",
    "\n",
    "gdf = geopandas.read_file(reduced_products)\n",
    "gdf = gdf.loc[gdf.area.sort_values(ascending=False).index]\n",
    "\n",
    "gdf"
   ]
  },
  {
   "cell_type": "code",
   "execution_count": 3,
   "id": "5fc8e015-c324-4bda-b26c-4bff91ff9b72",
   "metadata": {},
   "outputs": [
    {
     "data": {
      "text/plain": [
       "<AxesSubplot:>"
      ]
     },
     "execution_count": 3,
     "metadata": {},
     "output_type": "execute_result"
    },
    {
     "data": {
      "image/png": "[encoded data removed]",
      "text/plain": [
       "<Figure size 432x288 with 1 Axes>"
      ]
     },
     "metadata": {
      "needs_background": "light"
     },
     "output_type": "display_data"
    }
   ],
   "source": [
    "gdf.plot(column='id')"
   ]
  },
  {
   "cell_type": "markdown",
   "id": "8093fa6d-ba29-415c-9459-9018fa0bfd28",
   "metadata": {},
   "source": [
    "# What about the data?\n",
    "\n",
    "Let's look into what those rasters and their metadata bring to us."
   ]
  },
  {
   "cell_type": "code",
   "execution_count": 4,
   "id": "8ff9d99c-47f2-4940-aa32-48188d7c8b96",
   "metadata": {},
   "outputs": [],
   "source": [
    "import npt\n",
    "from npt.pipelines import mosaic\n",
    "npt.log.set_level('DEBUG')"
   ]
  },
  {
   "cell_type": "code",
   "execution_count": 5,
   "id": "32afd599-38d4-4412-a271-6e9817b4703a",
   "metadata": {},
   "outputs": [],
   "source": [
    "import json\n",
    "gjson_ctx = json.loads(gdf.to_json())"
   ]
  },
  {
   "cell_type": "code",
   "execution_count": 6,
   "id": "aa981e84-685a-4ff8-8370-28cbf8a615e7",
   "metadata": {},
   "outputs": [
    {
     "name": "stderr",
     "output_type": "stream",
     "text": [
      "INFO:__init__.mosaic(): 2 features read\n",
      "DEBUG:__init__.mosaic(): Sources: ['data/reduced/ctx/P04_002641_2046_XN_24N017W.tif', 'data/reduced/ctx/P01_001388_2034_XI_23N017W.tif']\n",
      "DEBUG:__init__._mosaic(): Rescaled filename to-write: data/mosaic/ctx/P04_002641_2046_XN_24N017W.rescaled01.tif\n",
      "DEBUG:__init__._mosaic(): Rescaled filename to-write: data/mosaic/ctx/P01_001388_2034_XI_23N017W.rescaled01.tif\n",
      "DEBUG:_xarray.merge(): Running 'merge', from npt.utils._xarray\n"
     ]
    },
    {
     "data": {
      "text/html": [
       "<div>\n",
       "<style scoped>\n",
       "    .dataframe tbody tr th:only-of-type {\n",
       "        vertical-align: middle;\n",
       "    }\n",
       "\n",
       "    .dataframe tbody tr th {\n",
       "        vertical-align: top;\n",
       "    }\n",
       "\n",
       "    .dataframe thead th {\n",
       "        text-align: right;\n",
       "    }\n",
       "</style>\n",
       "<table border=\"1\" class=\"dataframe\">\n",
       "  <thead>\n",
       "    <tr style=\"text-align: right;\">\n",
       "      <th></th>\n",
       "      <th>Footprints_cross_meridian</th>\n",
       "      <th>Map_scale</th>\n",
       "      <th>Target_name</th>\n",
       "      <th>browse_url</th>\n",
       "      <th>datasetId</th>\n",
       "      <th>inst</th>\n",
       "      <th>instrumentHostName</th>\n",
       "      <th>instrumentId</th>\n",
       "      <th>instrumentName</th>\n",
       "      <th>mission</th>\n",
       "      <th>missionPhaseName</th>\n",
       "      <th>observationMode</th>\n",
       "      <th>spacecraftId</th>\n",
       "      <th>targetName</th>\n",
       "      <th>type</th>\n",
       "      <th>id_sources</th>\n",
       "      <th>geometry</th>\n",
       "      <th>tiff_kbytes</th>\n",
       "      <th>tiff_path</th>\n",
       "    </tr>\n",
       "  </thead>\n",
       "  <tbody>\n",
       "    <tr>\n",
       "      <th>0</th>\n",
       "      <td>False</td>\n",
       "      <td>5.66</td>\n",
       "      <td>MARS</td>\n",
       "      <td>None</td>\n",
       "      <td>MRO_CTX</td>\n",
       "      <td>CTX</td>\n",
       "      <td>MARS RECONNAISSANCE ORBITER</td>\n",
       "      <td>CTX</td>\n",
       "      <td>CONTEXT CAMERA</td>\n",
       "      <td>MRO</td>\n",
       "      <td>PSP</td>\n",
       "      <td>EDR</td>\n",
       "      <td>MRO</td>\n",
       "      <td>MARS</td>\n",
       "      <td>EDR</td>\n",
       "      <td>P04_002641_2046_XN_24N017W,P01_001388_2034_XI_...</td>\n",
       "      <td>POLYGON ((-17.20000 22.93620, -17.27475 22.929...</td>\n",
       "      <td>23486</td>\n",
       "      <td>data/mosaic/ctx/mosaic_ctx_20220414T0006266466...</td>\n",
       "    </tr>\n",
       "  </tbody>\n",
       "</table>\n",
       "</div>"
      ],
      "text/plain": [
       "  Footprints_cross_meridian Map_scale Target_name browse_url datasetId inst  \\\n",
       "0                     False      5.66        MARS       None   MRO_CTX  CTX   \n",
       "\n",
       "            instrumentHostName instrumentId  instrumentName mission  \\\n",
       "0  MARS RECONNAISSANCE ORBITER          CTX  CONTEXT CAMERA     MRO   \n",
       "\n",
       "  missionPhaseName observationMode spacecraftId targetName type  \\\n",
       "0              PSP             EDR          MRO       MARS  EDR   \n",
       "\n",
       "                                          id_sources  \\\n",
       "0  P04_002641_2046_XN_24N017W,P01_001388_2034_XI_...   \n",
       "\n",
       "                                            geometry  tiff_kbytes  \\\n",
       "0  POLYGON ((-17.20000 22.93620, -17.27475 22.929...        23486   \n",
       "\n",
       "                                           tiff_path  \n",
       "0  data/mosaic/ctx/mosaic_ctx_20220414T0006266466...  "
      ]
     },
     "execution_count": 6,
     "metadata": {},
     "output_type": "execute_result"
    }
   ],
   "source": [
    "mosaic(gjson_ctx, basepath='data/mosaic/ctx', method='fast', scale_factor=0.1)"
   ]
  },
  {
   "cell_type": "code",
   "execution_count": 7,
   "id": "77b2affc-d38d-40c7-9a7b-29920f199903",
   "metadata": {},
   "outputs": [
    {
     "name": "stderr",
     "output_type": "stream",
     "text": [
      "INFO:__init__.mosaic(): 2 features read\n",
      "DEBUG:__init__.mosaic(): Sources: ['data/reduced/ctx/P04_002641_2046_XN_24N017W.tif', 'data/reduced/ctx/P01_001388_2034_XI_23N017W.tif']\n",
      "DEBUG:__init__._mosaic(): Rescaled filename to-write: data/mosaic/ctx/P04_002641_2046_XN_24N017W.rescaled01.tif\n",
      "DEBUG:__init__._mosaic(): Rescaled filename to-write: data/mosaic/ctx/P01_001388_2034_XI_23N017W.rescaled01.tif\n",
      "DEBUG:_xarray.merge(): Running 'merge', from npt.utils._xarray\n",
      "/opt/miniconda3/envs/npt/lib/python3.10/site-packages/numpy/core/_methods.py:179: RuntimeWarning: overflow encountered in reduce\n",
      "  ret = umr_sum(arr, axis, dtype, out, keepdims, where=where)\n",
      "/Users/chbrandt/Coisas/repos/NEANIAS/npt/npt/utils/_xarray.py:77: RuntimeWarning: invalid value encountered in true_divide\n",
      "  weights = (weights - weights.min())/(weights.max() - weights.min())\n",
      "/opt/miniconda3/envs/npt/lib/python3.10/site-packages/numpy/core/_methods.py:179: RuntimeWarning: overflow encountered in reduce\n",
      "  ret = umr_sum(arr, axis, dtype, out, keepdims, where=where)\n"
     ]
    },
    {
     "data": {
      "text/html": [
       "<div>\n",
       "<style scoped>\n",
       "    .dataframe tbody tr th:only-of-type {\n",
       "        vertical-align: middle;\n",
       "    }\n",
       "\n",
       "    .dataframe tbody tr th {\n",
       "        vertical-align: top;\n",
       "    }\n",
       "\n",
       "    .dataframe thead th {\n",
       "        text-align: right;\n",
       "    }\n",
       "</style>\n",
       "<table border=\"1\" class=\"dataframe\">\n",
       "  <thead>\n",
       "    <tr style=\"text-align: right;\">\n",
       "      <th></th>\n",
       "      <th>Footprints_cross_meridian</th>\n",
       "      <th>Map_scale</th>\n",
       "      <th>Target_name</th>\n",
       "      <th>browse_url</th>\n",
       "      <th>datasetId</th>\n",
       "      <th>inst</th>\n",
       "      <th>instrumentHostName</th>\n",
       "      <th>instrumentId</th>\n",
       "      <th>instrumentName</th>\n",
       "      <th>mission</th>\n",
       "      <th>missionPhaseName</th>\n",
       "      <th>observationMode</th>\n",
       "      <th>spacecraftId</th>\n",
       "      <th>targetName</th>\n",
       "      <th>type</th>\n",
       "      <th>id_sources</th>\n",
       "      <th>geometry</th>\n",
       "      <th>tiff_kbytes</th>\n",
       "      <th>tiff_path</th>\n",
       "    </tr>\n",
       "  </thead>\n",
       "  <tbody>\n",
       "    <tr>\n",
       "      <th>0</th>\n",
       "      <td>False</td>\n",
       "      <td>5.66</td>\n",
       "      <td>MARS</td>\n",
       "      <td>None</td>\n",
       "      <td>MRO_CTX</td>\n",
       "      <td>CTX</td>\n",
       "      <td>MARS RECONNAISSANCE ORBITER</td>\n",
       "      <td>CTX</td>\n",
       "      <td>CONTEXT CAMERA</td>\n",
       "      <td>MRO</td>\n",
       "      <td>PSP</td>\n",
       "      <td>EDR</td>\n",
       "      <td>MRO</td>\n",
       "      <td>MARS</td>\n",
       "      <td>EDR</td>\n",
       "      <td>P04_002641_2046_XN_24N017W,P01_001388_2034_XI_...</td>\n",
       "      <td>POLYGON ((-17.20000 22.93620, -17.27475 22.929...</td>\n",
       "      <td>23486</td>\n",
       "      <td>data/mosaic/ctx/mosaic_ctx_20220414T0007338449...</td>\n",
       "    </tr>\n",
       "  </tbody>\n",
       "</table>\n",
       "</div>"
      ],
      "text/plain": [
       "  Footprints_cross_meridian Map_scale Target_name browse_url datasetId inst  \\\n",
       "0                     False      5.66        MARS       None   MRO_CTX  CTX   \n",
       "\n",
       "            instrumentHostName instrumentId  instrumentName mission  \\\n",
       "0  MARS RECONNAISSANCE ORBITER          CTX  CONTEXT CAMERA     MRO   \n",
       "\n",
       "  missionPhaseName observationMode spacecraftId targetName type  \\\n",
       "0              PSP             EDR          MRO       MARS  EDR   \n",
       "\n",
       "                                          id_sources  \\\n",
       "0  P04_002641_2046_XN_24N017W,P01_001388_2034_XI_...   \n",
       "\n",
       "                                            geometry  tiff_kbytes  \\\n",
       "0  POLYGON ((-17.20000 22.93620, -17.27475 22.929...        23486   \n",
       "\n",
       "                                           tiff_path  \n",
       "0  data/mosaic/ctx/mosaic_ctx_20220414T0007338449...  "
      ]
     },
     "execution_count": 7,
     "metadata": {},
     "output_type": "execute_result"
    }
   ],
   "source": [
    "mosaic(gjson_ctx, basepath='data/mosaic/ctx', method='all', scale_factor=0.1)"
   ]
  },
  {
   "cell_type": "code",
   "execution_count": 7,
   "id": "0c75ee03-5385-43e7-8275-d5d373e147fd",
   "metadata": {},
   "outputs": [
    {
     "ename": "SyntaxError",
     "evalue": "invalid syntax (2389114725.py, line 1)",
     "output_type": "error",
     "traceback": [
      "\u001b[0;36m  Input \u001b[0;32mIn [7]\u001b[0;36m\u001b[0m\n\u001b[0;31m    assert\u001b[0m\n\u001b[0m          ^\u001b[0m\n\u001b[0;31mSyntaxError\u001b[0m\u001b[0;31m:\u001b[0m invalid syntax\n"
     ]
    }
   ],
   "source": [
    "assert"
   ]
  },
  {
   "cell_type": "code",
   "execution_count": 12,
   "id": "b10be770-87be-4fc6-9732-fa5c1c5cd49c",
   "metadata": {},
   "outputs": [
    {
     "data": {
      "image/png": "[encoded data removed]",
      "text/plain": [
       "<Figure size 432x288 with 1 Axes>"
      ]
     },
     "metadata": {
      "needs_background": "light"
     },
     "output_type": "display_data"
    },
    {
     "data": {
      "text/plain": [
       "<AxesSubplot:>"
      ]
     },
     "execution_count": 12,
     "metadata": {},
     "output_type": "execute_result"
    }
   ],
   "source": [
    "import rioxarray\n",
    "from rioxarray import merge\n",
    "from rasterio.plot import show\n",
    "\n",
    "items = ['data/reduced/ctx/P01_001388_2034_XI_23N017W.rescaled.tif',\n",
    "         'data/reduced/ctx/P04_002641_2046_XN_24N017W.rescaled.tif']\n",
    "\n",
    "elements = []\n",
    "\n",
    "for val in items:\n",
    "    elements.append(rioxarray.open_rasterio(val))\n",
    "\n",
    "merged = merge.merge_arrays(elements, nodata=0.0)\n",
    "\n",
    "image = merged.values\n",
    "show(image)"
   ]
  },
  {
   "cell_type": "code",
   "execution_count": null,
   "id": "8c7c85cf-9481-4d93-b87b-651c36f54f6e",
   "metadata": {},
   "outputs": [],
   "source": [
    "merged.rio.to_raster('data/mosaic/ctx/rioxarray.tif')"
   ]
  },
  {
   "cell_type": "code",
   "execution_count": null,
   "id": "0a1e8797-5f39-47e8-9b1d-d3ebd27f13a4",
   "metadata": {},
   "outputs": [],
   "source": [
    "_mask = None\n",
    "\n",
    "def copy_mean(merged_data, new_data, merged_mask, new_mask, **kwargs):\n",
    "    import numpy as np\n",
    "    mask = np.empty_like(merged_mask, dtype=\"bool\")\n",
    "    np.logical_or(merged_mask, new_mask, out=mask)\n",
    "    np.logical_not(mask, out=mask)\n",
    "    \n",
    "    #np.maximum(merged_data, new_data, out=merged_data, where=mask)\n",
    "    _stack = np.stack([merged_data, new_data])\n",
    "    # # np.mean(_stack, axis=0, out=merged_data)\n",
    "    # _masked = np.ma.masked_where(mask, _stack)\n",
    "    # _masked.mean(axis=0, out=merged_data)\n",
    "    merged_data[mask] = np.mean(_stack, axis=0)[mask]\n",
    "    global _mask\n",
    "    if _mask is None:\n",
    "        _mask = mask\n",
    "    \n",
    "    np.logical_not(new_mask, out=mask)\n",
    "    np.logical_and(merged_mask, mask, out=mask)\n",
    "    np.copyto(merged_data, new_data, where=mask, casting=\"unsafe\")\n",
    "    \n",
    "merged = merge.merge_arrays(elements, method=copy_mean, nodata=0)\n",
    "image = merged.values\n",
    "show(image)"
   ]
  },
  {
   "cell_type": "code",
   "execution_count": null,
   "id": "27a54491-479b-4b67-9c97-2388e79ff35f",
   "metadata": {},
   "outputs": [],
   "source": [
    "merged.rio.to_raster('data/mosaic/ctx/rioxarray_mean.tif')"
   ]
  },
  {
   "cell_type": "code",
   "execution_count": null,
   "id": "339691e1-e90f-49d8-9c3a-e4eaa4541f9c",
   "metadata": {},
   "outputs": [],
   "source": [
    "_mask"
   ]
  },
  {
   "cell_type": "code",
   "execution_count": null,
   "id": "569aed00-46c3-4c02-ab88-05cb31d3f2b8",
   "metadata": {},
   "outputs": [],
   "source": [
    "show(_mask)"
   ]
  },
  {
   "cell_type": "code",
   "execution_count": null,
   "id": "fe4e2bf7-c268-47fb-b4d9-38bf03f04793",
   "metadata": {},
   "outputs": [],
   "source": [
    "_mask.dtype"
   ]
  },
  {
   "cell_type": "code",
   "execution_count": 27,
   "id": "7eaa4751-375f-44f3-82aa-426b5b1b8165",
   "metadata": {},
   "outputs": [],
   "source": [
    "def plot_mask(_mask):\n",
    "    import rasterio as rio\n",
    "    from matplotlib import pyplot as plt\n",
    "\n",
    "    fig, ax = plt.subplots(figsize=(5, 5))\n",
    "\n",
    "    image_data = _mask[0]\n",
    "\n",
    "    # use imshow so that we have something to map the colorbar to\n",
    "    image_hidden = ax.imshow(image_data, \n",
    "                             cmap='Greys')\n",
    "                          # vmin=-30, \n",
    "                          # vmax=30)\n",
    "\n",
    "    # plot on the same axis with rio.plot.show\n",
    "    image = rio.plot.show(image_data, \n",
    "                          # transform=src.transform, \n",
    "                          ax=ax, \n",
    "                          cmap='Greys') \n",
    "                          # vmin=-30, \n",
    "                          # vmax=30)\n",
    "\n",
    "    # add colorbar using the now hidden image\n",
    "    fig.colorbar(image_hidden, ax=ax)"
   ]
  },
  {
   "cell_type": "code",
   "execution_count": null,
   "id": "66f534b5-aa5b-4f37-8420-22760d2454eb",
   "metadata": {},
   "outputs": [],
   "source": [
    "plot_mask(_mask)"
   ]
  },
  {
   "cell_type": "code",
   "execution_count": null,
   "id": "f484e249-ce02-46be-a2a4-855834d940a6",
   "metadata": {},
   "outputs": [],
   "source": [
    "from scipy.ndimage import percentile_filter\n",
    "\n",
    "weights = percentile_filter(_mask, 1, size=11, mode='constant', cval=1)\n",
    "\n",
    "plot_mask(weights)"
   ]
  },
  {
   "cell_type": "code",
   "execution_count": null,
   "id": "91a2b860-3625-4474-aed5-8b1d4643c2c2",
   "metadata": {},
   "outputs": [],
   "source": [
    "weights"
   ]
  },
  {
   "cell_type": "code",
   "execution_count": null,
   "id": "51563c9c-e595-4aa3-a5f9-0a6c62cbd505",
   "metadata": {},
   "outputs": [],
   "source": [
    "_mask.shape"
   ]
  },
  {
   "cell_type": "code",
   "execution_count": null,
   "id": "d16032fb-846a-4774-a5c9-f9fbe3c4d015",
   "metadata": {},
   "outputs": [],
   "source": [
    "from scipy.ndimage import uniform_filter, gaussian_filter\n",
    "\n",
    "# weights = uniform_filter(_mask.astype(float), 55, mode='constant')\n",
    "weights = gaussian_filter(_mask.astype(float), 55, mode='constant')\n",
    "weights = (weights - weights.min())/(weights.max() - weights.min())\n",
    "\n",
    "plot_mask(weights)"
   ]
  },
  {
   "cell_type": "code",
   "execution_count": null,
   "id": "91b8b717-c8c1-44a8-a52f-57bf84d0f286",
   "metadata": {},
   "outputs": [],
   "source": [
    "_mask.shape"
   ]
  },
  {
   "cell_type": "code",
   "execution_count": null,
   "id": "8da14640-74cd-4f26-9624-e652985827c9",
   "metadata": {},
   "outputs": [],
   "source": [
    "weights.shape"
   ]
  },
  {
   "cell_type": "code",
   "execution_count": null,
   "id": "cfeb0dea-4a65-4aa5-b7ca-eaeb610fabe4",
   "metadata": {},
   "outputs": [],
   "source": [
    "def copy_shadex(merged_data, new_data, merged_mask, new_mask, **kwargs):\n",
    "    import numpy as np\n",
    "    mask = np.empty_like(merged_mask, dtype=\"bool\")\n",
    "    np.logical_or(merged_mask, new_mask, out=mask)\n",
    "    np.logical_not(mask, out=mask)\n",
    "    \n",
    "    _stack = np.stack([merged_data, new_data])\n",
    "    merged_data[mask] = np.mean(_stack, axis=0)[mask]\n",
    "\n",
    "    weights = gaussian_filter(mask.astype(float), 155, mode='constant')\n",
    "    weights = (weights - weights.min())/(weights.max() - weights.min())\n",
    "    merged_data[mask] = (merged_data * (1 - weights) + new_data * weights)[mask]\n",
    "    \n",
    "    np.logical_not(new_mask, out=mask)\n",
    "    np.logical_and(merged_mask, mask, out=mask)\n",
    "    np.copyto(merged_data, new_data, where=mask, casting=\"unsafe\")\n",
    "    \n",
    "merged = merge.merge_arrays(elements, method=copy_shadex, nodata=0)\n",
    "image = merged.values\n",
    "show(image)"
   ]
  },
  {
   "cell_type": "code",
   "execution_count": null,
   "id": "c1790557-ce8a-4883-b85a-d9d6a7edd987",
   "metadata": {},
   "outputs": [],
   "source": [
    "merged.rio.to_raster('data/mosaic/ctx/rioxarray_shade_O.tif')"
   ]
  },
  {
   "cell_type": "code",
   "execution_count": 220,
   "id": "ca32a76b-57a2-4a80-8227-2d8900a27d8c",
   "metadata": {},
   "outputs": [
    {
     "name": "stdout",
     "output_type": "stream",
     "text": [
      "(1, 759, 546)\n"
     ]
    },
    {
     "name": "stderr",
     "output_type": "stream",
     "text": [
      "/var/folders/b1/frq3gywj3ljfqrf1yc7zk06r0000gn/T/ipykernel_37180/3843724442.py:48: RuntimeWarning: invalid value encountered in true_divide\n",
      "  weights = (weights - weights.min())/(weights.max() - weights.min())\n"
     ]
    },
    {
     "name": "stdout",
     "output_type": "stream",
     "text": [
      "(1, 5189, 1130)\n",
      "(284977,)\n",
      "284977\n",
      "(284977,)\n"
     ]
    },
    {
     "data": {
      "image/png": "[encoded data removed]",
      "text/plain": [
       "<Figure size 432x288 with 1 Axes>"
      ]
     },
     "metadata": {
      "needs_background": "light"
     },
     "output_type": "display_data"
    }
   ],
   "source": [
    "from rioxarray import merge\n",
    "\n",
    "_masks = []\n",
    "g_diff = None\n",
    "\n",
    "def copy_diff(merged_data, new_data, merged_mask, new_mask, **kwargs):\n",
    "    import numpy as np\n",
    "    from scipy.ndimage import gaussian_filter\n",
    "\n",
    "    mask = np.empty_like(merged_mask, dtype=\"bool\")\n",
    "    # First, we want to get the pixels in common to compute their diff/mapping\n",
    "    np.logical_or(merged_mask, new_mask, out=mask)\n",
    "    np.logical_not(mask, out=mask)\n",
    "\n",
    "    _masks.append(merged_mask.copy())\n",
    "    _masks.append(new_mask.copy())\n",
    "    _masks.append(mask.copy())\n",
    "\n",
    "    print(merged_data.shape)\n",
    "    if mask.sum():\n",
    "        n_merged_data = merged_data[mask]\n",
    "        n_new_data = new_data[mask]\n",
    "        print(n_merged_data.shape)\n",
    "        print(mask.sum())\n",
    "        print(n_new_data.shape)\n",
    "        _mean = (n_merged_data - n_new_data).mean()\n",
    "        new_data = new_data + _mean\n",
    "#         _diff = np.zeros(n_new_data.shape)\n",
    "#         _stack = np.concatenate([n_merged_data, n_new_data])\n",
    "#         print(_stack.shape)\n",
    "#         _diff[0,mask[0]] = np.diff(_stack, axis=0)[mask[0]]\n",
    "#         _mean = np.mean(_diff)\n",
    "#         # print(new_data[0,new_data.shape[1]//2,new_data.shape[2]//2])\n",
    "#         # print(merged_data[0,merged_data.shape[1]//2,merged_data.shape[2]//2])\n",
    "#         print(_mean)\n",
    "\n",
    "#         # print(new_data.shape)\n",
    "#         # print(mask.shape)\n",
    "#         # print(_diff.shape)\n",
    "#         # print(_mean.shape)\n",
    "#         global g_diff\n",
    "#         g_diff = _diff\n",
    "    \n",
    "    _stack = np.stack([merged_data, new_data])\n",
    "    merged_data[mask] = np.mean(_stack, axis=0)[mask]\n",
    "\n",
    "    weights = gaussian_filter(mask.astype(float), 155, mode='constant')\n",
    "    weights = (weights - weights.min())/(weights.max() - weights.min())\n",
    "    merged_data[mask] = (merged_data * (1 - weights) + new_data * weights)[mask]\n",
    "\n",
    "    # new_data[mask] = new_data[mask] + _diff[mask]\n",
    "    \n",
    "    np.logical_not(new_mask, out=mask)\n",
    "    np.logical_and(merged_mask, mask, out=mask)\n",
    "    np.copyto(merged_data, new_data, where=mask, casting=\"unsafe\")\n",
    "    \n",
    "merged = merge.merge_arrays(elements, method=copy_diff, nodata=0)\n",
    "image = merged.values\n",
    "show(image)\n",
    "\n",
    "merged.rio.to_raster('data/mosaic/ctx/rioxarray_diff2.tif')"
   ]
  },
  {
   "cell_type": "code",
   "execution_count": null,
   "id": "b0c76e5e-686c-41f6-aae4-0431b2fd0c5d",
   "metadata": {},
   "outputs": [],
   "source": []
  },
  {
   "cell_type": "code",
   "execution_count": 190,
   "id": "839853c8-312e-4578-a363-aea33f6b5860",
   "metadata": {},
   "outputs": [
    {
     "data": {
      "text/plain": [
       "masked_array(\n",
       "  data=[[[-3.4028227e+38, -3.4028227e+38, -3.4028227e+38, ...,\n",
       "          -3.4028227e+38, -3.4028227e+38, -3.4028227e+38],\n",
       "         [-3.4028227e+38, -3.4028227e+38, -3.4028227e+38, ...,\n",
       "          -3.4028227e+38, -3.4028227e+38, -3.4028227e+38],\n",
       "         [-3.4028227e+38, -3.4028227e+38, -3.4028227e+38, ...,\n",
       "          -3.4028227e+38, -3.4028227e+38, -3.4028227e+38],\n",
       "         ...,\n",
       "         [-3.4028227e+38, -3.4028227e+38, -3.4028227e+38, ...,\n",
       "          -3.4028227e+38, -3.4028227e+38, -3.4028227e+38],\n",
       "         [-3.4028227e+38, -3.4028227e+38, -3.4028227e+38, ...,\n",
       "          -3.4028227e+38, -3.4028227e+38, -3.4028227e+38],\n",
       "         [-3.4028227e+38, -3.4028227e+38, -3.4028227e+38, ...,\n",
       "          -3.4028227e+38, -3.4028227e+38, -3.4028227e+38]]],\n",
       "  mask=False,\n",
       "  fill_value=1e+20,\n",
       "  dtype=float32)"
      ]
     },
     "execution_count": 190,
     "metadata": {},
     "output_type": "execute_result"
    }
   ],
   "source": [
    "g_diff"
   ]
  },
  {
   "cell_type": "code",
   "execution_count": 193,
   "id": "121f6bc0-6e4d-4a5e-b9b7-c522cd44ec72",
   "metadata": {},
   "outputs": [
    {
     "data": {
      "text/plain": [
       "(1, 5189, 1130)"
      ]
     },
     "execution_count": 193,
     "metadata": {},
     "output_type": "execute_result"
    }
   ],
   "source": [
    "g_diff.shape"
   ]
  },
  {
   "cell_type": "code",
   "execution_count": 194,
   "id": "c9157fe7-c3b5-4056-9466-1ad05c783a4c",
   "metadata": {},
   "outputs": [
    {
     "data": {
      "text/plain": [
       "(array([[5189.,    0.,    0., ...,    0.,    0.,    0.],\n",
       "        [5189.,    0.,    0., ...,    0.,    0.,    0.],\n",
       "        [5189.,    0.,    0., ...,    0.,    0.,    0.],\n",
       "        ...,\n",
       "        [5189.,    0.,    0., ...,    0.,    0.,    0.],\n",
       "        [5189.,    0.,    0., ...,    0.,    0.,    0.],\n",
       "        [5189.,    0.,    0., ...,    0.,    0.,    0.]]),\n",
       " array([-3.4028227e+38, -3.0625404e+38, -2.7222582e+38, -2.3819759e+38,\n",
       "        -2.0416937e+38, -1.7014113e+38, -1.3611291e+38, -1.0208468e+38,\n",
       "        -6.8056454e+37, -3.4028227e+37,  1.3455677e-01], dtype=float32),\n",
       " <a list of 1130 BarContainer objects>)"
      ]
     },
     "execution_count": 194,
     "metadata": {},
     "output_type": "execute_result"
    },
    {
     "data": {
      "image/png": "[encoded data removed]",
      "text/plain": [
       "<Figure size 432x288 with 1 Axes>"
      ]
     },
     "metadata": {
      "needs_background": "light"
     },
     "output_type": "display_data"
    }
   ],
   "source": [
    "plt.hist(g_diff[0])"
   ]
  },
  {
   "cell_type": "code",
   "execution_count": 121,
   "id": "1eea29ec-d744-42e0-8f26-0e593617eb28",
   "metadata": {},
   "outputs": [
    {
     "data": {
      "text/plain": [
       "3"
      ]
     },
     "execution_count": 121,
     "metadata": {},
     "output_type": "execute_result"
    }
   ],
   "source": [
    "len(_masks)"
   ]
  },
  {
   "cell_type": "code",
   "execution_count": 123,
   "id": "18c4e0bd-0ecd-472d-8e39-3615bfac2106",
   "metadata": {},
   "outputs": [
    {
     "data": {
      "text/plain": [
       "(759, 546)"
      ]
     },
     "execution_count": 123,
     "metadata": {},
     "output_type": "execute_result"
    }
   ],
   "source": [
    "_masks[0][0].shape"
   ]
  },
  {
   "cell_type": "code",
   "execution_count": 97,
   "id": "f64a29ff-8639-4f35-a1dd-f5d1af6faf1c",
   "metadata": {},
   "outputs": [
    {
     "data": {
      "image/png": "[encoded data removed]",
      "text/plain": [
       "<Figure size 360x360 with 2 Axes>"
      ]
     },
     "metadata": {
      "needs_background": "light"
     },
     "output_type": "display_data"
    }
   ],
   "source": [
    "plot_mask(_masks[0])"
   ]
  },
  {
   "cell_type": "code",
   "execution_count": 98,
   "id": "31b6c7ba-0cc0-4ce4-87a3-16682baede2b",
   "metadata": {},
   "outputs": [
    {
     "data": {
      "image/png": "[encoded data removed]",
      "text/plain": [
       "<Figure size 360x360 with 2 Axes>"
      ]
     },
     "metadata": {
      "needs_background": "light"
     },
     "output_type": "display_data"
    }
   ],
   "source": [
    "plot_mask(_masks[1])"
   ]
  },
  {
   "cell_type": "code",
   "execution_count": 99,
   "id": "323df33c-5d90-4acb-99bd-b5074909dd69",
   "metadata": {},
   "outputs": [
    {
     "data": {
      "image/png": "[encoded data removed]",
      "text/plain": [
       "<Figure size 360x360 with 2 Axes>"
      ]
     },
     "metadata": {
      "needs_background": "light"
     },
     "output_type": "display_data"
    }
   ],
   "source": [
    "plot_mask(_masks[2])"
   ]
  },
  {
   "cell_type": "code",
   "execution_count": 100,
   "id": "e6adf885-bf65-4dee-b12e-7e9eef332b24",
   "metadata": {},
   "outputs": [
    {
     "data": {
      "text/plain": [
       "array([[[False, False, False, ..., False, False, False],\n",
       "        [False, False, False, ..., False, False, False],\n",
       "        [False, False, False, ..., False, False, False],\n",
       "        ...,\n",
       "        [False, False, False, ..., False, False, False],\n",
       "        [False, False, False, ..., False, False, False],\n",
       "        [False, False, False, ..., False, False, False]]])"
      ]
     },
     "execution_count": 100,
     "metadata": {},
     "output_type": "execute_result"
    }
   ],
   "source": [
    "_masks[2]"
   ]
  },
  {
   "cell_type": "code",
   "execution_count": 101,
   "id": "f9afc989-46c9-48d3-8efe-913a9ace8439",
   "metadata": {},
   "outputs": [
    {
     "data": {
      "image/png": "[encoded data removed]",
      "text/plain": [
       "<Figure size 360x360 with 2 Axes>"
      ]
     },
     "metadata": {
      "needs_background": "light"
     },
     "output_type": "display_data"
    }
   ],
   "source": [
    "plot_mask(_masks[3])"
   ]
  },
  {
   "cell_type": "code",
   "execution_count": 102,
   "id": "171fb427-b4d8-4f54-bf9b-5f4b1e88100b",
   "metadata": {},
   "outputs": [
    {
     "data": {
      "image/png": "[encoded data removed]",
      "text/plain": [
       "<Figure size 360x360 with 2 Axes>"
      ]
     },
     "metadata": {
      "needs_background": "light"
     },
     "output_type": "display_data"
    }
   ],
   "source": [
    "plot_mask(_masks[4])"
   ]
  },
  {
   "cell_type": "code",
   "execution_count": 103,
   "id": "a5021f36-e15c-4797-84cf-070c6d2ec8c9",
   "metadata": {},
   "outputs": [
    {
     "data": {
      "image/png": "[encoded data removed]",
      "text/plain": [
       "<Figure size 360x360 with 2 Axes>"
      ]
     },
     "metadata": {
      "needs_background": "light"
     },
     "output_type": "display_data"
    }
   ],
   "source": [
    "plot_mask(_masks[5])"
   ]
  },
  {
   "cell_type": "code",
   "execution_count": 146,
   "id": "35f698fd-e81a-4093-a04a-500a59d3d6d6",
   "metadata": {},
   "outputs": [
    {
     "data": {
      "text/plain": [
       "array([[[ 1,  2,  3,  4],\n",
       "        [ 1,  2,  3,  4],\n",
       "        [ 1,  2,  3,  4]],\n",
       "\n",
       "       [[11, 12, 13, 14],\n",
       "        [21, 22, 23, 24],\n",
       "        [31, 32, 33, 34]]])"
      ]
     },
     "execution_count": 146,
     "metadata": {},
     "output_type": "execute_result"
    }
   ],
   "source": [
    "import numpy as np\n",
    "a1 = np.array([[[1,2,3,4],[1,2,3,4],[1,2,3,4]],\n",
    "               [[11,12,13,14],[21,22,23,24],[31,32,33,34]]])\n",
    "a1"
   ]
  },
  {
   "cell_type": "code",
   "execution_count": 147,
   "id": "2f83feed-1e69-4231-842e-1e6aee1050d6",
   "metadata": {},
   "outputs": [
    {
     "data": {
      "text/plain": [
       "(2, 3, 4)"
      ]
     },
     "execution_count": 147,
     "metadata": {},
     "output_type": "execute_result"
    }
   ],
   "source": [
    "a1.shape"
   ]
  },
  {
   "cell_type": "code",
   "execution_count": 157,
   "id": "49837035-349e-4c5c-b5e0-8a2f1b45a946",
   "metadata": {},
   "outputs": [
    {
     "data": {
      "text/plain": [
       "array([[[0., 0., 0., 0.],\n",
       "        [0., 0., 0., 0.],\n",
       "        [0., 0., 0., 0.]]])"
      ]
     },
     "execution_count": 157,
     "metadata": {},
     "output_type": "execute_result"
    }
   ],
   "source": [
    "b1 = np.zeros((1, *a1.shape[1:]))\n",
    "b1"
   ]
  },
  {
   "cell_type": "code",
   "execution_count": 162,
   "id": "462af900-a45f-401c-a5cb-550bce8552da",
   "metadata": {},
   "outputs": [
    {
     "data": {
      "text/plain": [
       "array([0., 0., 0.])"
      ]
     },
     "execution_count": 162,
     "metadata": {},
     "output_type": "execute_result"
    }
   ],
   "source": [
    "b1[0,mask]"
   ]
  },
  {
   "cell_type": "code",
   "execution_count": 170,
   "id": "46408f3a-d2d7-4db0-ba82-e3bdd00befad",
   "metadata": {},
   "outputs": [
    {
     "data": {
      "text/plain": [
       "array([10, 20, 30])"
      ]
     },
     "execution_count": 170,
     "metadata": {},
     "output_type": "execute_result"
    }
   ],
   "source": [
    "np.diff(a1,axis=0)[0,mask]"
   ]
  },
  {
   "cell_type": "code",
   "execution_count": 160,
   "id": "6a3ad4f8-1c6a-4020-abac-e30ed7615f94",
   "metadata": {},
   "outputs": [
    {
     "data": {
      "text/plain": [
       "array([[ True, False, False, False],\n",
       "       [ True, False, False, False],\n",
       "       [ True, False, False, False]])"
      ]
     },
     "execution_count": 160,
     "metadata": {},
     "output_type": "execute_result"
    }
   ],
   "source": [
    "mask"
   ]
  },
  {
   "cell_type": "code",
   "execution_count": 166,
   "id": "d59378af-11a8-4c83-8b16-6d8b7d4e10e8",
   "metadata": {},
   "outputs": [
    {
     "ename": "IndexError",
     "evalue": "boolean index did not match indexed array along dimension 0; dimension is 1 but corresponding boolean dimension is 3",
     "output_type": "error",
     "traceback": [
      "\u001b[0;31m---------------------------------------------------------------------------\u001b[0m",
      "\u001b[0;31mIndexError\u001b[0m                                Traceback (most recent call last)",
      "Input \u001b[0;32mIn [166]\u001b[0m, in \u001b[0;36m<module>\u001b[0;34m\u001b[0m\n\u001b[1;32m      1\u001b[0m mask \u001b[38;5;241m=\u001b[39m np\u001b[38;5;241m.\u001b[39marray([[\u001b[38;5;28;01mTrue\u001b[39;00m,\u001b[38;5;28;01mFalse\u001b[39;00m,\u001b[38;5;28;01mFalse\u001b[39;00m,\u001b[38;5;28;01mFalse\u001b[39;00m],[\u001b[38;5;28;01mTrue\u001b[39;00m,\u001b[38;5;28;01mFalse\u001b[39;00m,\u001b[38;5;28;01mFalse\u001b[39;00m,\u001b[38;5;28;01mFalse\u001b[39;00m],[\u001b[38;5;28;01mTrue\u001b[39;00m,\u001b[38;5;28;01mFalse\u001b[39;00m,\u001b[38;5;28;01mFalse\u001b[39;00m,\u001b[38;5;28;01mFalse\u001b[39;00m]], \u001b[38;5;28mbool\u001b[39m)\n\u001b[0;32m----> 2\u001b[0m b1[mask] \u001b[38;5;241m=\u001b[39m \u001b[43mnp\u001b[49m\u001b[38;5;241;43m.\u001b[39;49m\u001b[43mdiff\u001b[49m\u001b[43m(\u001b[49m\u001b[43ma1\u001b[49m\u001b[43m,\u001b[49m\u001b[43maxis\u001b[49m\u001b[38;5;241;43m=\u001b[39;49m\u001b[38;5;241;43m0\u001b[39;49m\u001b[43m)\u001b[49m\u001b[43m[\u001b[49m\u001b[43mmask\u001b[49m\u001b[43m]\u001b[49m\n",
      "\u001b[0;31mIndexError\u001b[0m: boolean index did not match indexed array along dimension 0; dimension is 1 but corresponding boolean dimension is 3"
     ]
    }
   ],
   "source": [
    "mask = np.array([[True,False,False,False],[True,False,False,False],[True,False,False,False]], bool)\n",
    "b1[mask] = np.diff(a1,axis=0)[mask]\n"
   ]
  },
  {
   "cell_type": "code",
   "execution_count": 164,
   "id": "2dc82583-2dec-4110-9059-8a58a55cb063",
   "metadata": {},
   "outputs": [
    {
     "data": {
      "text/plain": [
       "array([[[10.,  0.,  0.,  0.],\n",
       "        [20.,  0.,  0.,  0.],\n",
       "        [30.,  0.,  0.,  0.]]])"
      ]
     },
     "execution_count": 164,
     "metadata": {},
     "output_type": "execute_result"
    }
   ],
   "source": [
    "b1"
   ]
  },
  {
   "cell_type": "code",
   "execution_count": 137,
   "id": "cfcce940-eec6-49af-84e1-ab9d7657b8dc",
   "metadata": {},
   "outputs": [
    {
     "data": {
      "text/plain": [
       "array([[ True, False, False,  True],\n",
       "       [ True, False, False,  True],\n",
       "       [ True, False, False,  True]])"
      ]
     },
     "execution_count": 137,
     "metadata": {},
     "output_type": "execute_result"
    }
   ],
   "source": [
    "np.array([[True,False,False,True],[True,False,False,True],[True,False,False,True]])"
   ]
  },
  {
   "cell_type": "code",
   "execution_count": 139,
   "id": "b3248093-6ba6-4ce5-9266-f818a708afee",
   "metadata": {},
   "outputs": [
    {
     "data": {
      "text/plain": [
       "array([[1, 4, 1, 4, 1, 4],\n",
       "       [1, 4, 1, 4, 1, 4]])"
      ]
     },
     "execution_count": 139,
     "metadata": {},
     "output_type": "execute_result"
    }
   ],
   "source": [
    "# np.diff(a1,axis=0)[0][\n",
    "#     np.array([[0,1],[0,1]])\n",
    "# ]\n",
    "a1[...,\n",
    "np.array([[True,False,False,True],[True,False,False,True],[True,False,False,True]])\n",
    "]"
   ]
  },
  {
   "cell_type": "code",
   "execution_count": 128,
   "id": "ab9370a2-1ee1-4f9f-af11-86b357d4a2a4",
   "metadata": {},
   "outputs": [
    {
     "data": {
      "text/plain": [
       "(3, 4)"
      ]
     },
     "execution_count": 128,
     "metadata": {},
     "output_type": "execute_result"
    }
   ],
   "source": [
    "np.diff(a1,axis=0)[0].shape"
   ]
  },
  {
   "cell_type": "code",
   "execution_count": 126,
   "id": "cb9f08c8-55ce-4833-ac06-79037dbc8db5",
   "metadata": {},
   "outputs": [
    {
     "data": {
      "text/plain": [
       "(2, 2)"
      ]
     },
     "execution_count": 126,
     "metadata": {},
     "output_type": "execute_result"
    }
   ],
   "source": [
    "np.array([[0,1],[0,1]]).shape"
   ]
  },
  {
   "cell_type": "code",
   "execution_count": 120,
   "id": "1464e8e3-6b97-4d3f-9edb-9b7741792e44",
   "metadata": {},
   "outputs": [
    {
     "data": {
      "text/plain": [
       "(1, 3, 4)"
      ]
     },
     "execution_count": 120,
     "metadata": {},
     "output_type": "execute_result"
    }
   ],
   "source": [
    "np.diff(a1,axis=0).shape"
   ]
  },
  {
   "cell_type": "code",
   "execution_count": 221,
   "id": "4862d21b-7dba-44c7-8dfa-aa3b0e921922",
   "metadata": {},
   "outputs": [
    {
     "data": {
      "text/plain": [
       "array([[ True, False, False, False],\n",
       "       [ True, False, False, False],\n",
       "       [ True, False, False, False]])"
      ]
     },
     "execution_count": 221,
     "metadata": {},
     "output_type": "execute_result"
    }
   ],
   "source": [
    "mask"
   ]
  },
  {
   "cell_type": "code",
   "execution_count": 222,
   "id": "a27ffebf-7b67-480d-8666-6f6912627ae3",
   "metadata": {},
   "outputs": [
    {
     "ename": "NameError",
     "evalue": "name '_mask' is not defined",
     "output_type": "error",
     "traceback": [
      "\u001b[0;31m---------------------------------------------------------------------------\u001b[0m",
      "\u001b[0;31mNameError\u001b[0m                                 Traceback (most recent call last)",
      "Input \u001b[0;32mIn [222]\u001b[0m, in \u001b[0;36m<module>\u001b[0;34m\u001b[0m\n\u001b[0;32m----> 1\u001b[0m \u001b[43m_mask\u001b[49m\n",
      "\u001b[0;31mNameError\u001b[0m: name '_mask' is not defined"
     ]
    }
   ],
   "source": [
    "_mask"
   ]
  },
  {
   "cell_type": "code",
   "execution_count": 223,
   "id": "68e85da8-df0d-485a-be30-3ac49da53ead",
   "metadata": {},
   "outputs": [],
   "source": [
    "mask = _masks[0]"
   ]
  },
  {
   "cell_type": "code",
   "execution_count": 224,
   "id": "0dfae3cb-eee1-45e6-aed1-0f2d17512f73",
   "metadata": {},
   "outputs": [
    {
     "data": {
      "text/plain": [
       "array([[[ True,  True,  True, ...,  True,  True,  True],\n",
       "        [ True,  True,  True, ...,  True,  True,  True],\n",
       "        [ True,  True,  True, ...,  True,  True,  True],\n",
       "        ...,\n",
       "        [ True,  True,  True, ...,  True,  True,  True],\n",
       "        [ True,  True,  True, ...,  True,  True,  True],\n",
       "        [ True,  True,  True, ...,  True,  True,  True]]])"
      ]
     },
     "execution_count": 224,
     "metadata": {},
     "output_type": "execute_result"
    }
   ],
   "source": [
    "mask"
   ]
  },
  {
   "cell_type": "code",
   "execution_count": 225,
   "id": "c68e3073-8f3f-4778-a34a-ab82af67be69",
   "metadata": {},
   "outputs": [
    {
     "data": {
      "text/plain": [
       "(1, 759, 546)"
      ]
     },
     "execution_count": 225,
     "metadata": {},
     "output_type": "execute_result"
    }
   ],
   "source": [
    "mask.shape"
   ]
  },
  {
   "cell_type": "code",
   "execution_count": 233,
   "id": "1373cf20-4a4c-4e50-8402-62c06cb8ecff",
   "metadata": {},
   "outputs": [
    {
     "data": {
      "text/plain": [
       "182"
      ]
     },
     "execution_count": 233,
     "metadata": {},
     "output_type": "execute_result"
    }
   ],
   "source": [
    "min(mask.shape[1:])//3"
   ]
  },
  {
   "cell_type": "code",
   "execution_count": null,
   "id": "ef94d747-70a5-44d5-8d20-2b222c3c4bb4",
   "metadata": {},
   "outputs": [],
   "source": []
  }
 ],
 "metadata": {
  "kernelspec": {
   "display_name": "Python (NPT)",
   "language": "python",
   "name": "npt"
  },
  "language_info": {
   "codemirror_mode": {
    "name": "ipython",
    "version": 3
   },
   "file_extension": ".py",
   "mimetype": "text/x-python",
   "name": "python",
   "nbconvert_exporter": "python",
   "pygments_lexer": "ipython3",
   "version": "3.10.2"
  }
 },
 "nbformat": 4,
 "nbformat_minor": 5
}
