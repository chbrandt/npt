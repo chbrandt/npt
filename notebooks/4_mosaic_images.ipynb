{
 "cells": [
  {
   "cell_type": "markdown",
   "id": "6d5aeb5b-75a2-4f00-87b9-6d2b02b370fe",
   "metadata": {},
   "source": [
    "# Mosaic image data products\n",
    "\n",
    "Now that we have some/the images (CTX, Hirise, HRSC) reduced (as GeoTIFF) we want to create mosaics."
   ]
  },
  {
   "cell_type": "code",
   "execution_count": 1,
   "id": "d8429108-81c0-422c-bb55-b2d7a40fc3ff",
   "metadata": {},
   "outputs": [],
   "source": [
    "import geopandas\n",
    "import pandas\n",
    "pandas.set_option('display.max_columns',100)"
   ]
  },
  {
   "cell_type": "markdown",
   "id": "94bbaff2-b1dd-4593-8d22-62279d97cb5e",
   "metadata": {},
   "source": [
    "## CTX"
   ]
  },
  {
   "cell_type": "code",
   "execution_count": 2,
   "id": "181d0b34-ee6b-45ea-9300-fe3953f2880d",
   "metadata": {},
   "outputs": [
    {
     "name": "stderr",
     "output_type": "stream",
     "text": [
      "/var/folders/b1/frq3gywj3ljfqrf1yc7zk06r0000gn/T/ipykernel_31301/994023424.py:4: UserWarning: Geometry is in a geographic CRS. Results from 'area' are likely incorrect. Use 'GeoSeries.to_crs()' to re-project geometries to a projected CRS before this operation.\n",
      "\n",
      "  gdf = gdf.loc[gdf.area.sort_values(ascending=False).index]\n"
     ]
    },
    {
     "data": {
      "text/html": [
       "<div>\n",
       "<style scoped>\n",
       "    .dataframe tbody tr th:only-of-type {\n",
       "        vertical-align: middle;\n",
       "    }\n",
       "\n",
       "    .dataframe tbody tr th {\n",
       "        vertical-align: top;\n",
       "    }\n",
       "\n",
       "    .dataframe thead th {\n",
       "        text-align: right;\n",
       "    }\n",
       "</style>\n",
       "<table border=\"1\" class=\"dataframe\">\n",
       "  <thead>\n",
       "    <tr style=\"text-align: right;\">\n",
       "      <th></th>\n",
       "      <th>Center_latitude</th>\n",
       "      <th>Center_longitude</th>\n",
       "      <th>Easternmost_longitude</th>\n",
       "      <th>Emission_angle</th>\n",
       "      <th>Footprints_cross_meridian</th>\n",
       "      <th>Incidence_angle</th>\n",
       "      <th>Map_scale</th>\n",
       "      <th>Maximum_latitude</th>\n",
       "      <th>Minimum_latitude</th>\n",
       "      <th>Observation_time</th>\n",
       "      <th>Phase_angle</th>\n",
       "      <th>Product_creation_time</th>\n",
       "      <th>Solar_longitude</th>\n",
       "      <th>Target_name</th>\n",
       "      <th>UTC_start_time</th>\n",
       "      <th>UTC_stop_time</th>\n",
       "      <th>Westernmost_longitude</th>\n",
       "      <th>browse_url</th>\n",
       "      <th>datasetId</th>\n",
       "      <th>id</th>\n",
       "      <th>idFromProvider</th>\n",
       "      <th>image_kbytes</th>\n",
       "      <th>image_path</th>\n",
       "      <th>inst</th>\n",
       "      <th>instrumentHostName</th>\n",
       "      <th>instrumentId</th>\n",
       "      <th>instrumentName</th>\n",
       "      <th>label_path</th>\n",
       "      <th>mission</th>\n",
       "      <th>missionPhaseName</th>\n",
       "      <th>observationMode</th>\n",
       "      <th>productCreationTime</th>\n",
       "      <th>spacecraftId</th>\n",
       "      <th>startTime</th>\n",
       "      <th>stopTime</th>\n",
       "      <th>targetName</th>\n",
       "      <th>type</th>\n",
       "      <th>tiff_path</th>\n",
       "      <th>geometry</th>\n",
       "    </tr>\n",
       "  </thead>\n",
       "  <tbody>\n",
       "    <tr>\n",
       "      <th>1</th>\n",
       "      <td>24.3758</td>\n",
       "      <td>342.2817</td>\n",
       "      <td>342.87</td>\n",
       "      <td>0.09</td>\n",
       "      <td>False</td>\n",
       "      <td>59.39</td>\n",
       "      <td>5.66</td>\n",
       "      <td>27.0054</td>\n",
       "      <td>21.7462</td>\n",
       "      <td>2007-02-18T05:52:00.318000</td>\n",
       "      <td>59.41</td>\n",
       "      <td>2007-08-09T21:43:46</td>\n",
       "      <td>185.96</td>\n",
       "      <td>MARS</td>\n",
       "      <td>2007-02-18T05:51:11.313000</td>\n",
       "      <td>2007-02-18T05:52:49.324001</td>\n",
       "      <td>341.66</td>\n",
       "      <td>None</td>\n",
       "      <td>MRO_CTX</td>\n",
       "      <td>P04_002641_2046_XN_24N017W</td>\n",
       "      <td>P04_002641_2046_XN_24N017W</td>\n",
       "      <td>252001</td>\n",
       "      <td>data/ctx/P04_002641_2046_XN_24N017W.IMG</td>\n",
       "      <td>CTX</td>\n",
       "      <td>MARS RECONNAISSANCE ORBITER</td>\n",
       "      <td>CTX</td>\n",
       "      <td>CONTEXT CAMERA</td>\n",
       "      <td>data/ctx/P04_002641_2046_XN_24N017W.lbl</td>\n",
       "      <td>MRO</td>\n",
       "      <td>PSP</td>\n",
       "      <td>EDR</td>\n",
       "      <td>2007-08-09T21:43:46</td>\n",
       "      <td>MRO</td>\n",
       "      <td>2007-02-18T05:51:11.313000</td>\n",
       "      <td>2007-02-18T05:52:49.324001</td>\n",
       "      <td>MARS</td>\n",
       "      <td>EDR</td>\n",
       "      <td>data/reduced/ctx/P04_002641_2046_XN_24N017W.tif</td>\n",
       "      <td>POLYGON ((-17.80000 27.00540, -17.13000 21.805...</td>\n",
       "    </tr>\n",
       "    <tr>\n",
       "      <th>0</th>\n",
       "      <td>23.2688</td>\n",
       "      <td>342.4958</td>\n",
       "      <td>342.8</td>\n",
       "      <td>5.85</td>\n",
       "      <td>False</td>\n",
       "      <td>48.88</td>\n",
       "      <td>5.66</td>\n",
       "      <td>23.6504</td>\n",
       "      <td>22.8866</td>\n",
       "      <td>2006-11-12T15:12:52.777000</td>\n",
       "      <td>43.11</td>\n",
       "      <td>2007-05-18T22:07:23</td>\n",
       "      <td>134.36</td>\n",
       "      <td>MARS</td>\n",
       "      <td>2006-11-12T15:12:46.050999</td>\n",
       "      <td>2006-11-12T15:12:59.504002</td>\n",
       "      <td>342.19</td>\n",
       "      <td>None</td>\n",
       "      <td>MRO_CTX</td>\n",
       "      <td>P01_001388_2034_XI_23N017W</td>\n",
       "      <td>P01_001388_2034_XI_23N017W</td>\n",
       "      <td>35001</td>\n",
       "      <td>data/ctx/P01_001388_2034_XI_23N017W.IMG</td>\n",
       "      <td>CTX</td>\n",
       "      <td>MARS RECONNAISSANCE ORBITER</td>\n",
       "      <td>CTX</td>\n",
       "      <td>CONTEXT CAMERA</td>\n",
       "      <td>data/ctx/P01_001388_2034_XI_23N017W.lbl</td>\n",
       "      <td>MRO</td>\n",
       "      <td>PSP</td>\n",
       "      <td>EDR</td>\n",
       "      <td>2007-05-18T22:07:23</td>\n",
       "      <td>MRO</td>\n",
       "      <td>2006-11-12T15:12:46.050999</td>\n",
       "      <td>2006-11-12T15:12:59.504002</td>\n",
       "      <td>MARS</td>\n",
       "      <td>EDR</td>\n",
       "      <td>data/reduced/ctx/P01_001388_2034_XI_23N017W.tif</td>\n",
       "      <td>POLYGON ((-17.29000 23.65040, -17.20000 22.936...</td>\n",
       "    </tr>\n",
       "  </tbody>\n",
       "</table>\n",
       "</div>"
      ],
      "text/plain": [
       "  Center_latitude Center_longitude Easternmost_longitude Emission_angle  \\\n",
       "1         24.3758         342.2817                342.87           0.09   \n",
       "0         23.2688         342.4958                 342.8           5.85   \n",
       "\n",
       "  Footprints_cross_meridian Incidence_angle Map_scale Maximum_latitude  \\\n",
       "1                     False           59.39      5.66          27.0054   \n",
       "0                     False           48.88      5.66          23.6504   \n",
       "\n",
       "  Minimum_latitude            Observation_time Phase_angle  \\\n",
       "1          21.7462  2007-02-18T05:52:00.318000       59.41   \n",
       "0          22.8866  2006-11-12T15:12:52.777000       43.11   \n",
       "\n",
       "  Product_creation_time Solar_longitude Target_name  \\\n",
       "1   2007-08-09T21:43:46          185.96        MARS   \n",
       "0   2007-05-18T22:07:23          134.36        MARS   \n",
       "\n",
       "               UTC_start_time               UTC_stop_time  \\\n",
       "1  2007-02-18T05:51:11.313000  2007-02-18T05:52:49.324001   \n",
       "0  2006-11-12T15:12:46.050999  2006-11-12T15:12:59.504002   \n",
       "\n",
       "  Westernmost_longitude browse_url datasetId                          id  \\\n",
       "1                341.66       None   MRO_CTX  P04_002641_2046_XN_24N017W   \n",
       "0                342.19       None   MRO_CTX  P01_001388_2034_XI_23N017W   \n",
       "\n",
       "               idFromProvider image_kbytes  \\\n",
       "1  P04_002641_2046_XN_24N017W       252001   \n",
       "0  P01_001388_2034_XI_23N017W        35001   \n",
       "\n",
       "                                image_path inst           instrumentHostName  \\\n",
       "1  data/ctx/P04_002641_2046_XN_24N017W.IMG  CTX  MARS RECONNAISSANCE ORBITER   \n",
       "0  data/ctx/P01_001388_2034_XI_23N017W.IMG  CTX  MARS RECONNAISSANCE ORBITER   \n",
       "\n",
       "  instrumentId  instrumentName                               label_path  \\\n",
       "1          CTX  CONTEXT CAMERA  data/ctx/P04_002641_2046_XN_24N017W.lbl   \n",
       "0          CTX  CONTEXT CAMERA  data/ctx/P01_001388_2034_XI_23N017W.lbl   \n",
       "\n",
       "  mission missionPhaseName observationMode  productCreationTime spacecraftId  \\\n",
       "1     MRO              PSP             EDR  2007-08-09T21:43:46          MRO   \n",
       "0     MRO              PSP             EDR  2007-05-18T22:07:23          MRO   \n",
       "\n",
       "                    startTime                    stopTime targetName type  \\\n",
       "1  2007-02-18T05:51:11.313000  2007-02-18T05:52:49.324001       MARS  EDR   \n",
       "0  2006-11-12T15:12:46.050999  2006-11-12T15:12:59.504002       MARS  EDR   \n",
       "\n",
       "                                         tiff_path  \\\n",
       "1  data/reduced/ctx/P04_002641_2046_XN_24N017W.tif   \n",
       "0  data/reduced/ctx/P01_001388_2034_XI_23N017W.tif   \n",
       "\n",
       "                                            geometry  \n",
       "1  POLYGON ((-17.80000 27.00540, -17.13000 21.805...  \n",
       "0  POLYGON ((-17.29000 23.65040, -17.20000 22.936...  "
      ]
     },
     "execution_count": 2,
     "metadata": {},
     "output_type": "execute_result"
    }
   ],
   "source": [
    "reduced_products = 'Mawrth_Vallis_reduced_sample_products_ctx.geojson'\n",
    "\n",
    "gdf = geopandas.read_file(reduced_products)\n",
    "gdf = gdf.loc[gdf.area.sort_values(ascending=False).index]\n",
    "\n",
    "gdf"
   ]
  },
  {
   "cell_type": "code",
   "execution_count": 3,
   "id": "5fc8e015-c324-4bda-b26c-4bff91ff9b72",
   "metadata": {},
   "outputs": [
    {
     "data": {
      "text/plain": [
       "<AxesSubplot:>"
      ]
     },
     "execution_count": 3,
     "metadata": {},
     "output_type": "execute_result"
    },
    {
     "data": {
      "image/png": "[encoded data removed]",
      "text/plain": [
       "<Figure size 432x288 with 1 Axes>"
      ]
     },
     "metadata": {
      "needs_background": "light"
     },
     "output_type": "display_data"
    }
   ],
   "source": [
    "gdf.plot(column='id')"
   ]
  },
  {
   "cell_type": "markdown",
   "id": "8093fa6d-ba29-415c-9459-9018fa0bfd28",
   "metadata": {},
   "source": [
    "# What about the data?\n",
    "\n",
    "Let's look into what those rasters and their metadata bring to us."
   ]
  },
  {
   "cell_type": "code",
   "execution_count": 4,
   "id": "8ff9d99c-47f2-4940-aa32-48188d7c8b96",
   "metadata": {},
   "outputs": [],
   "source": [
    "import npt\n",
    "from npt.pipelines import mosaic\n",
    "npt.log.set_level('DEBUG')"
   ]
  },
  {
   "cell_type": "code",
   "execution_count": 5,
   "id": "32afd599-38d4-4412-a271-6e9817b4703a",
   "metadata": {},
   "outputs": [],
   "source": [
    "import json\n",
    "gjson_ctx = json.loads(gdf.to_json())"
   ]
  },
  {
   "cell_type": "code",
   "execution_count": 6,
   "id": "aa981e84-685a-4ff8-8370-28cbf8a615e7",
   "metadata": {},
   "outputs": [
    {
     "name": "stderr",
     "output_type": "stream",
     "text": [
      "INFO:__init__.mosaic(): 2 features read\n",
      "DEBUG:__init__.mosaic(): Sources: ['data/reduced/ctx/P04_002641_2046_XN_24N017W.tif', 'data/reduced/ctx/P01_001388_2034_XI_23N017W.tif']\n",
      "DEBUG:__init__._mosaic(): Rescaled filename to-write: data/mosaic/ctx/P04_002641_2046_XN_24N017W.rescaled.tif\n",
      "DEBUG:__init__._mosaic(): Rescaled filename to-write: data/mosaic/ctx/P01_001388_2034_XI_23N017W.rescaled.tif\n",
      "DEBUG:_xarray.merge(): Running 'merge', from npt.utils._xarray\n",
      "/opt/miniconda3/envs/npt/lib/python3.10/site-packages/numpy/core/_methods.py:179: RuntimeWarning: overflow encountered in reduce\n",
      "  ret = umr_sum(arr, axis, dtype, out, keepdims, where=where)\n",
      "/opt/miniconda3/envs/npt/lib/python3.10/site-packages/numpy/core/_methods.py:179: RuntimeWarning: overflow encountered in reduce\n",
      "  ret = umr_sum(arr, axis, dtype, out, keepdims, where=where)\n"
     ]
    },
    {
     "data": {
      "text/html": [
       "<div>\n",
       "<style scoped>\n",
       "    .dataframe tbody tr th:only-of-type {\n",
       "        vertical-align: middle;\n",
       "    }\n",
       "\n",
       "    .dataframe tbody tr th {\n",
       "        vertical-align: top;\n",
       "    }\n",
       "\n",
       "    .dataframe thead th {\n",
       "        text-align: right;\n",
       "    }\n",
       "</style>\n",
       "<table border=\"1\" class=\"dataframe\">\n",
       "  <thead>\n",
       "    <tr style=\"text-align: right;\">\n",
       "      <th></th>\n",
       "      <th>Footprints_cross_meridian</th>\n",
       "      <th>Map_scale</th>\n",
       "      <th>Target_name</th>\n",
       "      <th>browse_url</th>\n",
       "      <th>datasetId</th>\n",
       "      <th>inst</th>\n",
       "      <th>instrumentHostName</th>\n",
       "      <th>instrumentId</th>\n",
       "      <th>instrumentName</th>\n",
       "      <th>mission</th>\n",
       "      <th>missionPhaseName</th>\n",
       "      <th>observationMode</th>\n",
       "      <th>spacecraftId</th>\n",
       "      <th>targetName</th>\n",
       "      <th>type</th>\n",
       "      <th>id_sources</th>\n",
       "      <th>geometry</th>\n",
       "      <th>tiff_kbytes</th>\n",
       "      <th>tiff_path</th>\n",
       "    </tr>\n",
       "  </thead>\n",
       "  <tbody>\n",
       "    <tr>\n",
       "      <th>0</th>\n",
       "      <td>False</td>\n",
       "      <td>5.66</td>\n",
       "      <td>MARS</td>\n",
       "      <td>None</td>\n",
       "      <td>MRO_CTX</td>\n",
       "      <td>CTX</td>\n",
       "      <td>MARS RECONNAISSANCE ORBITER</td>\n",
       "      <td>CTX</td>\n",
       "      <td>CONTEXT CAMERA</td>\n",
       "      <td>MRO</td>\n",
       "      <td>PSP</td>\n",
       "      <td>EDR</td>\n",
       "      <td>MRO</td>\n",
       "      <td>MARS</td>\n",
       "      <td>EDR</td>\n",
       "      <td>P04_002641_2046_XN_24N017W,P01_001388_2034_XI_...</td>\n",
       "      <td>POLYGON ((-17.20000 22.93620, -17.27475 22.929...</td>\n",
       "      <td>23486</td>\n",
       "      <td>data/mosaic/ctx/mosaic_ctx_20220412T2138494930...</td>\n",
       "    </tr>\n",
       "  </tbody>\n",
       "</table>\n",
       "</div>"
      ],
      "text/plain": [
       "  Footprints_cross_meridian Map_scale Target_name browse_url datasetId inst  \\\n",
       "0                     False      5.66        MARS       None   MRO_CTX  CTX   \n",
       "\n",
       "            instrumentHostName instrumentId  instrumentName mission  \\\n",
       "0  MARS RECONNAISSANCE ORBITER          CTX  CONTEXT CAMERA     MRO   \n",
       "\n",
       "  missionPhaseName observationMode spacecraftId targetName type  \\\n",
       "0              PSP             EDR          MRO       MARS  EDR   \n",
       "\n",
       "                                          id_sources  \\\n",
       "0  P04_002641_2046_XN_24N017W,P01_001388_2034_XI_...   \n",
       "\n",
       "                                            geometry  tiff_kbytes  \\\n",
       "0  POLYGON ((-17.20000 22.93620, -17.27475 22.929...        23486   \n",
       "\n",
       "                                           tiff_path  \n",
       "0  data/mosaic/ctx/mosaic_ctx_20220412T2138494930...  "
      ]
     },
     "execution_count": 6,
     "metadata": {},
     "output_type": "execute_result"
    }
   ],
   "source": [
    "mosaic(gjson_ctx, basepath='data/mosaic/ctx', method='merge')"
   ]
  },
  {
   "cell_type": "code",
   "execution_count": 7,
   "id": "673da436-3b5b-4115-a80e-302c95f88814",
   "metadata": {},
   "outputs": [
    {
     "ename": "NameError",
     "evalue": "name 'sh' is not defined",
     "output_type": "error",
     "traceback": [
      "\u001b[0;31m---------------------------------------------------------------------------\u001b[0m",
      "\u001b[0;31mNameError\u001b[0m                                 Traceback (most recent call last)",
      "Input \u001b[0;32mIn [7]\u001b[0m, in \u001b[0;36m<module>\u001b[0;34m\u001b[0m\n\u001b[0;32m----> 1\u001b[0m help(\u001b[43msh\u001b[49m)\n",
      "\u001b[0;31mNameError\u001b[0m: name 'sh' is not defined"
     ]
    }
   ],
   "source": [
    "help(sh)"
   ]
  },
  {
   "cell_type": "code",
   "execution_count": null,
   "id": "0c75ee03-5385-43e7-8275-d5d373e147fd",
   "metadata": {},
   "outputs": [],
   "source": [
    "from sh import gdal_translate"
   ]
  },
  {
   "cell_type": "code",
   "execution_count": null,
   "id": "b10be770-87be-4fc6-9732-fa5c1c5cd49c",
   "metadata": {},
   "outputs": [],
   "source": [
    "import rioxarray\n",
    "from rioxarray import merge\n",
    "from rasterio.plot import show\n",
    "\n",
    "items = ['data/reduced/ctx/P01_001388_2034_XI_23N017W.rescaled.tif',\n",
    "         'data/reduced/ctx/P04_002641_2046_XN_24N017W.rescaled.tif']\n",
    "\n",
    "elements = []\n",
    "\n",
    "for val in items:\n",
    "    elements.append(rioxarray.open_rasterio(val))\n",
    "\n",
    "merged = merge.merge_arrays(elements, nodata=0.0)\n",
    "\n",
    "image = merged.values\n",
    "show(image)"
   ]
  },
  {
   "cell_type": "code",
   "execution_count": null,
   "id": "8c7c85cf-9481-4d93-b87b-651c36f54f6e",
   "metadata": {},
   "outputs": [],
   "source": [
    "merged.rio.to_raster('data/mosaic/ctx/rioxarray.tif')"
   ]
  },
  {
   "cell_type": "code",
   "execution_count": null,
   "id": "0a1e8797-5f39-47e8-9b1d-d3ebd27f13a4",
   "metadata": {},
   "outputs": [],
   "source": [
    "def copy_mean(merged_data, new_data, merged_mask, new_mask, **kwargs):\n",
    "    import numpy as np\n",
    "    mask = np.empty_like(merged_mask, dtype=\"bool\")\n",
    "    np.logical_or(merged_mask, new_mask, out=mask)\n",
    "    np.logical_not(mask, out=mask)\n",
    "    \n",
    "    #np.maximum(merged_data, new_data, out=merged_data, where=mask)\n",
    "    _stack = np.stack([merged_data, new_data])\n",
    "    # # np.mean(_stack, axis=0, out=merged_data)\n",
    "    # _masked = np.ma.masked_where(mask, _stack)\n",
    "    # _masked.mean(axis=0, out=merged_data)\n",
    "    merged_data[mask] = np.mean(_stack, axis=0)[mask]\n",
    "    \n",
    "    np.logical_not(new_mask, out=mask)\n",
    "    np.logical_and(merged_mask, mask, out=mask)\n",
    "    np.copyto(merged_data, new_data, where=mask, casting=\"unsafe\")\n",
    "    \n",
    "merged = merge.merge_arrays(elements, nodata=0.0, method=copy_mean)\n",
    "image = merged.values\n",
    "show(image)"
   ]
  },
  {
   "cell_type": "code",
   "execution_count": null,
   "id": "27a54491-479b-4b67-9c97-2388e79ff35f",
   "metadata": {},
   "outputs": [],
   "source": [
    "merged.rio.to_raster('data/mosaic/ctx/rioxarray_mean.tif')"
   ]
  },
  {
   "cell_type": "code",
   "execution_count": null,
   "id": "339691e1-e90f-49d8-9c3a-e4eaa4541f9c",
   "metadata": {},
   "outputs": [],
   "source": [
    "from npt.pipe"
   ]
  }
 ],
 "metadata": {
  "kernelspec": {
   "display_name": "Python (NPT)",
   "language": "python",
   "name": "npt"
  },
  "language_info": {
   "codemirror_mode": {
    "name": "ipython",
    "version": 3
   },
   "file_extension": ".py",
   "mimetype": "text/x-python",
   "name": "python",
   "nbconvert_exporter": "python",
   "pygments_lexer": "ipython3",
   "version": "3.10.2"
  }
 },
 "nbformat": 4,
 "nbformat_minor": 5
}
