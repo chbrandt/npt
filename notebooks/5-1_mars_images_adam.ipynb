{
 "cells": [
  {
   "cell_type": "markdown",
   "id": "2e6a4c7c-5be3-472c-b7cd-9a2dca32c2ef",
   "metadata": {},
   "source": [
    "# Download CTX images from ADAM-Space\n",
    "\n",
    "Let's download a couple of CTX data products (tif images)"
   ]
  },
  {
   "cell_type": "code",
   "execution_count": 1,
   "id": "c293c93e-b2d9-42b1-a019-4acb599a06cc",
   "metadata": {},
   "outputs": [],
   "source": []
  },
  {
   "cell_type": "code",
   "execution_count": 2,
   "id": "6198745c-15f4-4dc4-8c5a-54baa4277eca",
   "metadata": {},
   "outputs": [],
   "source": [
    "def auth(token=None):\n",
    "    from adamapi import Auth\n",
    "    a = Auth()\n",
    "    if \"ADAM_API_KEY\" not in os.environ and not token: \n",
    "        raise ValueError(\"Export ADAM_API_KEY or give 'token' argument\")\n",
    "    if \"ADAM_API_KEY\" in os.environ:\n",
    "        a.setKey(os.environ[\"ADAM_API_KEY\"])\n",
    "    if token:\n",
    "        a.setKey(token)\n",
    "    a.setAdamCore(\"https://explorer-space.adamplatform.eu\")\n",
    "    a.authorize()\n",
    "    return a"
   ]
  },
  {
   "cell_type": "code",
   "execution_count": null,
   "id": "2ba979a6-effb-40d5-8c07-7cc4cd6fbfb2",
   "metadata": {},
   "outputs": [],
   "source": []
  }
 ],
 "metadata": {
  "kernelspec": {
   "display_name": "Python (NPT)",
   "language": "python",
   "name": "npt"
  },
  "language_info": {
   "codemirror_mode": {
    "name": "ipython",
    "version": 3
   },
   "file_extension": ".py",
   "mimetype": "text/x-python",
   "name": "python",
   "nbconvert_exporter": "python",
   "pygments_lexer": "ipython3",
   "version": "3.10.2"
  }
 },
 "nbformat": 4,
 "nbformat_minor": 5
}
