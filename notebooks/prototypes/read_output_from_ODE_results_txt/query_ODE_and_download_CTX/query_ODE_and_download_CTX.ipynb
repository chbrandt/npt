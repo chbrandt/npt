{
 "cells": [
  {
   "cell_type": "markdown",
   "metadata": {},
   "source": [
    "# Query ODE REST API\n",
    "\n",
    "ODE REST API's endpoint is at https://oderest.rsl.wustl.edu/live2.\n",
    "To learn about the parameters the API accepts, there is the manual at http://oderest.rsl.wustl.edu/ODE_REST_V2.1.pdf.\n",
    "\n",
    "We want to query the API for -- given a ProductID -- where data can be downloaded from.\n",
    "For that, the query attributes relevant to us are ([ODE REST v2.1 manual, sec.3]):\n",
    "\n",
    "* `query`: Return list of products with selected product metadata that meet the query parameters\n",
    "  * `product`\n",
    "* `productid`: PDS Product Id(s)\n",
    "* `results`\n",
    "  * `f`: Product files\n",
    "  * `p`: PDS Product Identifies\n",
    "  * `m`: Product metadata\n",
    "* `output`: query output format, XML or JSON (default XML)\n",
    "  * `JSON`\n",
    "\n",
    "And so, our query(ies) should have the following pattern:\n",
    "```\n",
    "https://oderest.rsl.wustl.edu/live2?query=product&results=fmp&output=JSON&productid={PRODUCTID}\n",
    "```\n",
    ", where `{PRODUCTID}` is a variable for the corresponding ProductID.\n",
    "\n",
    "[ODE REST v2.1 manual, sec.3]: http://oderest.rsl.wustl.edu/ODE_REST_V2.1.pdf"
   ]
  },
  {
   "cell_type": "markdown",
   "metadata": {},
   "source": []
  },
  {
   "cell_type": "markdown",
   "metadata": {},
   "source": [
    "## Import dataset with product-ids"
   ]
  },
  {
   "cell_type": "code",
   "execution_count": 1,
   "metadata": {},
   "outputs": [],
   "source": [
    "import pandas as pd"
   ]
  },
  {
   "cell_type": "code",
   "execution_count": 2,
   "metadata": {},
   "outputs": [],
   "source": [
    "ode_results = 'ODE_Small_SearchResults.CTX.json'"
   ]
  },
  {
   "cell_type": "code",
   "execution_count": 3,
   "metadata": {},
   "outputs": [
    {
     "data": {
      "text/html": [
       "<div>\n",
       "<style scoped>\n",
       "    .dataframe tbody tr th:only-of-type {\n",
       "        vertical-align: middle;\n",
       "    }\n",
       "\n",
       "    .dataframe tbody tr th {\n",
       "        vertical-align: top;\n",
       "    }\n",
       "\n",
       "    .dataframe thead th {\n",
       "        text-align: right;\n",
       "    }\n",
       "</style>\n",
       "<table border=\"1\" class=\"dataframe\">\n",
       "  <thead>\n",
       "    <tr style=\"text-align: right;\">\n",
       "      <th></th>\n",
       "      <th>INSTRUMENT_HOST_ID</th>\n",
       "      <th>INSTRUMENT_ID</th>\n",
       "      <th>TYPE</th>\n",
       "      <th>ODE_TYPE_ABBREVIATION</th>\n",
       "      <th>PRODUCT_ID</th>\n",
       "      <th>OBSERVATION_TIME</th>\n",
       "      <th>CENTER_LATITUDE_(IF_AVAILABLE)</th>\n",
       "      <th>CENTER_LONGITUDE_(IF_AVAILABLE)</th>\n",
       "      <th>ORBITAL_DATA_EXPLORER_PRODUCT_LINK</th>\n",
       "      <th>ORBITAL_DATA_EXPLORER_PRODUCT_FILES_LINK</th>\n",
       "      <th>PDS_VERSION</th>\n",
       "      <th>BUNDLE_ID_(IF_PDS4)</th>\n",
       "      <th>COLLECTION_ID_(IF_PDS4)</th>\n",
       "      <th>PRODUCT_LID_(IF_PDS4)</th>\n",
       "      <th>PRODUCT_TITLE_(IF_PDS4)</th>\n",
       "      <th>ORBITAL_DATA_EXPLORER_PRODUCT_DISPLAY_LABEL</th>\n",
       "    </tr>\n",
       "  </thead>\n",
       "  <tbody>\n",
       "    <tr>\n",
       "      <th>353</th>\n",
       "      <td>MRO</td>\n",
       "      <td>CTX</td>\n",
       "      <td>Experiment Data Record</td>\n",
       "      <td>EDR</td>\n",
       "      <td>B18_016496_2076_XN_27N287W</td>\n",
       "      <td>2010-02-01 21:13:31.030</td>\n",
       "      <td>27.3904</td>\n",
       "      <td>72.8253</td>\n",
       "      <td>https://ode.rsl.wustl.edu/mars/indexproductpag...</td>\n",
       "      <td>https://ode.rsl.wustl.edu/mars/productfiles.as...</td>\n",
       "      <td>3</td>\n",
       "      <td></td>\n",
       "      <td></td>\n",
       "      <td></td>\n",
       "      <td></td>\n",
       "      <td>B18_016496_2076_XN_27N287W</td>\n",
       "    </tr>\n",
       "    <tr>\n",
       "      <th>354</th>\n",
       "      <td>MRO</td>\n",
       "      <td>CTX</td>\n",
       "      <td>Experiment Data Record</td>\n",
       "      <td>EDR</td>\n",
       "      <td>B19_017208_2095_XN_29N287W</td>\n",
       "      <td>2010-03-29 08:44:56.068</td>\n",
       "      <td>29.3160</td>\n",
       "      <td>72.9383</td>\n",
       "      <td>https://ode.rsl.wustl.edu/mars/indexproductpag...</td>\n",
       "      <td>https://ode.rsl.wustl.edu/mars/productfiles.as...</td>\n",
       "      <td>3</td>\n",
       "      <td></td>\n",
       "      <td></td>\n",
       "      <td></td>\n",
       "      <td></td>\n",
       "      <td>B19_017208_2095_XN_29N287W</td>\n",
       "    </tr>\n",
       "    <tr>\n",
       "      <th>355</th>\n",
       "      <td>MRO</td>\n",
       "      <td>CTX</td>\n",
       "      <td>Experiment Data Record</td>\n",
       "      <td>EDR</td>\n",
       "      <td>D02_028179_2089_XI_28N286W</td>\n",
       "      <td>2012-07-31 05:29:04.909</td>\n",
       "      <td>28.6550</td>\n",
       "      <td>73.2590</td>\n",
       "      <td>https://ode.rsl.wustl.edu/mars/indexproductpag...</td>\n",
       "      <td>https://ode.rsl.wustl.edu/mars/productfiles.as...</td>\n",
       "      <td>3</td>\n",
       "      <td></td>\n",
       "      <td></td>\n",
       "      <td></td>\n",
       "      <td></td>\n",
       "      <td>D02_028179_2089_XI_28N286W</td>\n",
       "    </tr>\n",
       "    <tr>\n",
       "      <th>356</th>\n",
       "      <td>MRO</td>\n",
       "      <td>CTX</td>\n",
       "      <td>Experiment Data Record</td>\n",
       "      <td>EDR</td>\n",
       "      <td>D04_028812_2082_XI_28N287W</td>\n",
       "      <td>2012-09-18 13:12:21.964</td>\n",
       "      <td>27.9320</td>\n",
       "      <td>72.5210</td>\n",
       "      <td>https://ode.rsl.wustl.edu/mars/indexproductpag...</td>\n",
       "      <td>https://ode.rsl.wustl.edu/mars/productfiles.as...</td>\n",
       "      <td>3</td>\n",
       "      <td></td>\n",
       "      <td></td>\n",
       "      <td></td>\n",
       "      <td></td>\n",
       "      <td>D04_028812_2082_XI_28N287W</td>\n",
       "    </tr>\n",
       "    <tr>\n",
       "      <th>357</th>\n",
       "      <td>MRO</td>\n",
       "      <td>CTX</td>\n",
       "      <td>Experiment Data Record</td>\n",
       "      <td>EDR</td>\n",
       "      <td>D16_033282_2088_XI_28N287W</td>\n",
       "      <td>2013-09-01 20:58:25.243</td>\n",
       "      <td>28.5900</td>\n",
       "      <td>72.8440</td>\n",
       "      <td>https://ode.rsl.wustl.edu/mars/indexproductpag...</td>\n",
       "      <td>https://ode.rsl.wustl.edu/mars/productfiles.as...</td>\n",
       "      <td>3</td>\n",
       "      <td></td>\n",
       "      <td></td>\n",
       "      <td></td>\n",
       "      <td></td>\n",
       "      <td>D16_033282_2088_XI_28N287W</td>\n",
       "    </tr>\n",
       "    <tr>\n",
       "      <th>358</th>\n",
       "      <td>MRO</td>\n",
       "      <td>CTX</td>\n",
       "      <td>Experiment Data Record</td>\n",
       "      <td>EDR</td>\n",
       "      <td>D16_033348_2088_XI_28N287W</td>\n",
       "      <td>2013-09-07 00:24:27.300</td>\n",
       "      <td>28.5760</td>\n",
       "      <td>72.8470</td>\n",
       "      <td>https://ode.rsl.wustl.edu/mars/indexproductpag...</td>\n",
       "      <td>https://ode.rsl.wustl.edu/mars/productfiles.as...</td>\n",
       "      <td>3</td>\n",
       "      <td></td>\n",
       "      <td></td>\n",
       "      <td></td>\n",
       "      <td></td>\n",
       "      <td>D16_033348_2088_XI_28N287W</td>\n",
       "    </tr>\n",
       "    <tr>\n",
       "      <th>359</th>\n",
       "      <td>MRO</td>\n",
       "      <td>CTX</td>\n",
       "      <td>Experiment Data Record</td>\n",
       "      <td>EDR</td>\n",
       "      <td>D17_033928_2089_XI_28N286W</td>\n",
       "      <td>2013-10-22 05:05:23.961</td>\n",
       "      <td>28.6300</td>\n",
       "      <td>73.2540</td>\n",
       "      <td>https://ode.rsl.wustl.edu/mars/indexproductpag...</td>\n",
       "      <td>https://ode.rsl.wustl.edu/mars/productfiles.as...</td>\n",
       "      <td>3</td>\n",
       "      <td></td>\n",
       "      <td></td>\n",
       "      <td></td>\n",
       "      <td></td>\n",
       "      <td>D17_033928_2089_XI_28N286W</td>\n",
       "    </tr>\n",
       "    <tr>\n",
       "      <th>360</th>\n",
       "      <td>MRO</td>\n",
       "      <td>CTX</td>\n",
       "      <td>Experiment Data Record</td>\n",
       "      <td>EDR</td>\n",
       "      <td>F22_044504_2092_XN_29N287W</td>\n",
       "      <td>2016-01-24 06:18:37.449</td>\n",
       "      <td>28.9680</td>\n",
       "      <td>72.8140</td>\n",
       "      <td>https://ode.rsl.wustl.edu/mars/indexproductpag...</td>\n",
       "      <td>https://ode.rsl.wustl.edu/mars/productfiles.as...</td>\n",
       "      <td>3</td>\n",
       "      <td></td>\n",
       "      <td></td>\n",
       "      <td></td>\n",
       "      <td></td>\n",
       "      <td>F22_044504_2092_XN_29N287W</td>\n",
       "    </tr>\n",
       "    <tr>\n",
       "      <th>361</th>\n",
       "      <td>MRO</td>\n",
       "      <td>CTX</td>\n",
       "      <td>Experiment Data Record</td>\n",
       "      <td>EDR</td>\n",
       "      <td>G02_019120_2088_XN_28N287W</td>\n",
       "      <td>2010-08-25 08:27:28.554</td>\n",
       "      <td>28.5512</td>\n",
       "      <td>72.7657</td>\n",
       "      <td>https://ode.rsl.wustl.edu/mars/indexproductpag...</td>\n",
       "      <td>https://ode.rsl.wustl.edu/mars/productfiles.as...</td>\n",
       "      <td>3</td>\n",
       "      <td></td>\n",
       "      <td></td>\n",
       "      <td></td>\n",
       "      <td></td>\n",
       "      <td>G02_019120_2088_XN_28N287W</td>\n",
       "    </tr>\n",
       "    <tr>\n",
       "      <th>362</th>\n",
       "      <td>MRO</td>\n",
       "      <td>CTX</td>\n",
       "      <td>Experiment Data Record</td>\n",
       "      <td>EDR</td>\n",
       "      <td>G21_026557_2089_XN_28N286W</td>\n",
       "      <td>2012-03-26 20:26:23.025</td>\n",
       "      <td>28.6458</td>\n",
       "      <td>73.2371</td>\n",
       "      <td>https://ode.rsl.wustl.edu/mars/indexproductpag...</td>\n",
       "      <td>https://ode.rsl.wustl.edu/mars/productfiles.as...</td>\n",
       "      <td>3</td>\n",
       "      <td></td>\n",
       "      <td></td>\n",
       "      <td></td>\n",
       "      <td></td>\n",
       "      <td>G21_026557_2089_XN_28N286W</td>\n",
       "    </tr>\n",
       "    <tr>\n",
       "      <th>363</th>\n",
       "      <td>MRO</td>\n",
       "      <td>CTX</td>\n",
       "      <td>Experiment Data Record</td>\n",
       "      <td>EDR</td>\n",
       "      <td>G23_027401_2082_XI_28N287W</td>\n",
       "      <td>2012-05-31 14:42:40.399</td>\n",
       "      <td>27.9650</td>\n",
       "      <td>72.5170</td>\n",
       "      <td>https://ode.rsl.wustl.edu/mars/indexproductpag...</td>\n",
       "      <td>https://ode.rsl.wustl.edu/mars/productfiles.as...</td>\n",
       "      <td>3</td>\n",
       "      <td></td>\n",
       "      <td></td>\n",
       "      <td></td>\n",
       "      <td></td>\n",
       "      <td>G23_027401_2082_XI_28N287W</td>\n",
       "    </tr>\n",
       "    <tr>\n",
       "      <th>364</th>\n",
       "      <td>MRO</td>\n",
       "      <td>CTX</td>\n",
       "      <td>Experiment Data Record</td>\n",
       "      <td>EDR</td>\n",
       "      <td>J01_045348_2119_XI_31N287W</td>\n",
       "      <td>2016-03-30 00:20:51.042</td>\n",
       "      <td>31.6530</td>\n",
       "      <td>72.7460</td>\n",
       "      <td>https://ode.rsl.wustl.edu/mars/indexproductpag...</td>\n",
       "      <td>https://ode.rsl.wustl.edu/mars/productfiles.as...</td>\n",
       "      <td>3</td>\n",
       "      <td></td>\n",
       "      <td></td>\n",
       "      <td></td>\n",
       "      <td></td>\n",
       "      <td>J01_045348_2119_XI_31N287W</td>\n",
       "    </tr>\n",
       "    <tr>\n",
       "      <th>365</th>\n",
       "      <td>MRO</td>\n",
       "      <td>CTX</td>\n",
       "      <td>Experiment Data Record</td>\n",
       "      <td>EDR</td>\n",
       "      <td>J02_045493_2115_XI_31N287W</td>\n",
       "      <td>2016-04-10 07:28:32.167</td>\n",
       "      <td>31.1500</td>\n",
       "      <td>72.2350</td>\n",
       "      <td>https://ode.rsl.wustl.edu/mars/indexproductpag...</td>\n",
       "      <td>https://ode.rsl.wustl.edu/mars/productfiles.as...</td>\n",
       "      <td>3</td>\n",
       "      <td></td>\n",
       "      <td></td>\n",
       "      <td></td>\n",
       "      <td></td>\n",
       "      <td>J02_045493_2115_XI_31N287W</td>\n",
       "    </tr>\n",
       "    <tr>\n",
       "      <th>366</th>\n",
       "      <td>MRO</td>\n",
       "      <td>CTX</td>\n",
       "      <td>Experiment Data Record</td>\n",
       "      <td>EDR</td>\n",
       "      <td>P06_003231_2090_XI_29N286W</td>\n",
       "      <td>2007-04-05 05:14:47.353</td>\n",
       "      <td>28.6946</td>\n",
       "      <td>73.3891</td>\n",
       "      <td>https://ode.rsl.wustl.edu/mars/indexproductpag...</td>\n",
       "      <td>https://ode.rsl.wustl.edu/mars/productfiles.as...</td>\n",
       "      <td>3</td>\n",
       "      <td></td>\n",
       "      <td></td>\n",
       "      <td></td>\n",
       "      <td></td>\n",
       "      <td>P06_003231_2090_XI_29N286W</td>\n",
       "    </tr>\n",
       "    <tr>\n",
       "      <th>367</th>\n",
       "      <td>MRO</td>\n",
       "      <td>CTX</td>\n",
       "      <td>Experiment Data Record</td>\n",
       "      <td>EDR</td>\n",
       "      <td>P07_003864_2096_XI_29N286W</td>\n",
       "      <td>2007-05-24 13:00:43.229</td>\n",
       "      <td>29.3903</td>\n",
       "      <td>73.2260</td>\n",
       "      <td>https://ode.rsl.wustl.edu/mars/indexproductpag...</td>\n",
       "      <td>https://ode.rsl.wustl.edu/mars/productfiles.as...</td>\n",
       "      <td>3</td>\n",
       "      <td></td>\n",
       "      <td></td>\n",
       "      <td></td>\n",
       "      <td></td>\n",
       "      <td>P07_003864_2096_XI_29N286W</td>\n",
       "    </tr>\n",
       "    <tr>\n",
       "      <th>368</th>\n",
       "      <td>MRO</td>\n",
       "      <td>CTX</td>\n",
       "      <td>Experiment Data Record</td>\n",
       "      <td>EDR</td>\n",
       "      <td>P09_004431_2094_XI_29N287W</td>\n",
       "      <td>2007-07-07 17:22:26.143</td>\n",
       "      <td>29.1615</td>\n",
       "      <td>72.9742</td>\n",
       "      <td>https://ode.rsl.wustl.edu/mars/indexproductpag...</td>\n",
       "      <td>https://ode.rsl.wustl.edu/mars/productfiles.as...</td>\n",
       "      <td>3</td>\n",
       "      <td></td>\n",
       "      <td></td>\n",
       "      <td></td>\n",
       "      <td></td>\n",
       "      <td>P09_004431_2094_XI_29N287W</td>\n",
       "    </tr>\n",
       "    <tr>\n",
       "      <th>369</th>\n",
       "      <td>MRO</td>\n",
       "      <td>CTX</td>\n",
       "      <td>Experiment Data Record</td>\n",
       "      <td>EDR</td>\n",
       "      <td>P11_005420_2108_XI_30N287W</td>\n",
       "      <td>2007-09-22 18:56:19.254</td>\n",
       "      <td>30.6055</td>\n",
       "      <td>72.7818</td>\n",
       "      <td>https://ode.rsl.wustl.edu/mars/indexproductpag...</td>\n",
       "      <td>https://ode.rsl.wustl.edu/mars/productfiles.as...</td>\n",
       "      <td>3</td>\n",
       "      <td></td>\n",
       "      <td></td>\n",
       "      <td></td>\n",
       "      <td></td>\n",
       "      <td>P11_005420_2108_XI_30N287W</td>\n",
       "    </tr>\n",
       "  </tbody>\n",
       "</table>\n",
       "</div>"
      ],
      "text/plain": [
       "    INSTRUMENT_HOST_ID INSTRUMENT_ID                    TYPE  \\\n",
       "353                MRO           CTX  Experiment Data Record   \n",
       "354                MRO           CTX  Experiment Data Record   \n",
       "355                MRO           CTX  Experiment Data Record   \n",
       "356                MRO           CTX  Experiment Data Record   \n",
       "357                MRO           CTX  Experiment Data Record   \n",
       "358                MRO           CTX  Experiment Data Record   \n",
       "359                MRO           CTX  Experiment Data Record   \n",
       "360                MRO           CTX  Experiment Data Record   \n",
       "361                MRO           CTX  Experiment Data Record   \n",
       "362                MRO           CTX  Experiment Data Record   \n",
       "363                MRO           CTX  Experiment Data Record   \n",
       "364                MRO           CTX  Experiment Data Record   \n",
       "365                MRO           CTX  Experiment Data Record   \n",
       "366                MRO           CTX  Experiment Data Record   \n",
       "367                MRO           CTX  Experiment Data Record   \n",
       "368                MRO           CTX  Experiment Data Record   \n",
       "369                MRO           CTX  Experiment Data Record   \n",
       "\n",
       "    ODE_TYPE_ABBREVIATION                  PRODUCT_ID        OBSERVATION_TIME  \\\n",
       "353                   EDR  B18_016496_2076_XN_27N287W 2010-02-01 21:13:31.030   \n",
       "354                   EDR  B19_017208_2095_XN_29N287W 2010-03-29 08:44:56.068   \n",
       "355                   EDR  D02_028179_2089_XI_28N286W 2012-07-31 05:29:04.909   \n",
       "356                   EDR  D04_028812_2082_XI_28N287W 2012-09-18 13:12:21.964   \n",
       "357                   EDR  D16_033282_2088_XI_28N287W 2013-09-01 20:58:25.243   \n",
       "358                   EDR  D16_033348_2088_XI_28N287W 2013-09-07 00:24:27.300   \n",
       "359                   EDR  D17_033928_2089_XI_28N286W 2013-10-22 05:05:23.961   \n",
       "360                   EDR  F22_044504_2092_XN_29N287W 2016-01-24 06:18:37.449   \n",
       "361                   EDR  G02_019120_2088_XN_28N287W 2010-08-25 08:27:28.554   \n",
       "362                   EDR  G21_026557_2089_XN_28N286W 2012-03-26 20:26:23.025   \n",
       "363                   EDR  G23_027401_2082_XI_28N287W 2012-05-31 14:42:40.399   \n",
       "364                   EDR  J01_045348_2119_XI_31N287W 2016-03-30 00:20:51.042   \n",
       "365                   EDR  J02_045493_2115_XI_31N287W 2016-04-10 07:28:32.167   \n",
       "366                   EDR  P06_003231_2090_XI_29N286W 2007-04-05 05:14:47.353   \n",
       "367                   EDR  P07_003864_2096_XI_29N286W 2007-05-24 13:00:43.229   \n",
       "368                   EDR  P09_004431_2094_XI_29N287W 2007-07-07 17:22:26.143   \n",
       "369                   EDR  P11_005420_2108_XI_30N287W 2007-09-22 18:56:19.254   \n",
       "\n",
       "     CENTER_LATITUDE_(IF_AVAILABLE)  CENTER_LONGITUDE_(IF_AVAILABLE)  \\\n",
       "353                         27.3904                          72.8253   \n",
       "354                         29.3160                          72.9383   \n",
       "355                         28.6550                          73.2590   \n",
       "356                         27.9320                          72.5210   \n",
       "357                         28.5900                          72.8440   \n",
       "358                         28.5760                          72.8470   \n",
       "359                         28.6300                          73.2540   \n",
       "360                         28.9680                          72.8140   \n",
       "361                         28.5512                          72.7657   \n",
       "362                         28.6458                          73.2371   \n",
       "363                         27.9650                          72.5170   \n",
       "364                         31.6530                          72.7460   \n",
       "365                         31.1500                          72.2350   \n",
       "366                         28.6946                          73.3891   \n",
       "367                         29.3903                          73.2260   \n",
       "368                         29.1615                          72.9742   \n",
       "369                         30.6055                          72.7818   \n",
       "\n",
       "                    ORBITAL_DATA_EXPLORER_PRODUCT_LINK  \\\n",
       "353  https://ode.rsl.wustl.edu/mars/indexproductpag...   \n",
       "354  https://ode.rsl.wustl.edu/mars/indexproductpag...   \n",
       "355  https://ode.rsl.wustl.edu/mars/indexproductpag...   \n",
       "356  https://ode.rsl.wustl.edu/mars/indexproductpag...   \n",
       "357  https://ode.rsl.wustl.edu/mars/indexproductpag...   \n",
       "358  https://ode.rsl.wustl.edu/mars/indexproductpag...   \n",
       "359  https://ode.rsl.wustl.edu/mars/indexproductpag...   \n",
       "360  https://ode.rsl.wustl.edu/mars/indexproductpag...   \n",
       "361  https://ode.rsl.wustl.edu/mars/indexproductpag...   \n",
       "362  https://ode.rsl.wustl.edu/mars/indexproductpag...   \n",
       "363  https://ode.rsl.wustl.edu/mars/indexproductpag...   \n",
       "364  https://ode.rsl.wustl.edu/mars/indexproductpag...   \n",
       "365  https://ode.rsl.wustl.edu/mars/indexproductpag...   \n",
       "366  https://ode.rsl.wustl.edu/mars/indexproductpag...   \n",
       "367  https://ode.rsl.wustl.edu/mars/indexproductpag...   \n",
       "368  https://ode.rsl.wustl.edu/mars/indexproductpag...   \n",
       "369  https://ode.rsl.wustl.edu/mars/indexproductpag...   \n",
       "\n",
       "              ORBITAL_DATA_EXPLORER_PRODUCT_FILES_LINK  PDS_VERSION  \\\n",
       "353  https://ode.rsl.wustl.edu/mars/productfiles.as...            3   \n",
       "354  https://ode.rsl.wustl.edu/mars/productfiles.as...            3   \n",
       "355  https://ode.rsl.wustl.edu/mars/productfiles.as...            3   \n",
       "356  https://ode.rsl.wustl.edu/mars/productfiles.as...            3   \n",
       "357  https://ode.rsl.wustl.edu/mars/productfiles.as...            3   \n",
       "358  https://ode.rsl.wustl.edu/mars/productfiles.as...            3   \n",
       "359  https://ode.rsl.wustl.edu/mars/productfiles.as...            3   \n",
       "360  https://ode.rsl.wustl.edu/mars/productfiles.as...            3   \n",
       "361  https://ode.rsl.wustl.edu/mars/productfiles.as...            3   \n",
       "362  https://ode.rsl.wustl.edu/mars/productfiles.as...            3   \n",
       "363  https://ode.rsl.wustl.edu/mars/productfiles.as...            3   \n",
       "364  https://ode.rsl.wustl.edu/mars/productfiles.as...            3   \n",
       "365  https://ode.rsl.wustl.edu/mars/productfiles.as...            3   \n",
       "366  https://ode.rsl.wustl.edu/mars/productfiles.as...            3   \n",
       "367  https://ode.rsl.wustl.edu/mars/productfiles.as...            3   \n",
       "368  https://ode.rsl.wustl.edu/mars/productfiles.as...            3   \n",
       "369  https://ode.rsl.wustl.edu/mars/productfiles.as...            3   \n",
       "\n",
       "    BUNDLE_ID_(IF_PDS4) COLLECTION_ID_(IF_PDS4) PRODUCT_LID_(IF_PDS4)  \\\n",
       "353                                                                     \n",
       "354                                                                     \n",
       "355                                                                     \n",
       "356                                                                     \n",
       "357                                                                     \n",
       "358                                                                     \n",
       "359                                                                     \n",
       "360                                                                     \n",
       "361                                                                     \n",
       "362                                                                     \n",
       "363                                                                     \n",
       "364                                                                     \n",
       "365                                                                     \n",
       "366                                                                     \n",
       "367                                                                     \n",
       "368                                                                     \n",
       "369                                                                     \n",
       "\n",
       "    PRODUCT_TITLE_(IF_PDS4) ORBITAL_DATA_EXPLORER_PRODUCT_DISPLAY_LABEL  \n",
       "353                                          B18_016496_2076_XN_27N287W  \n",
       "354                                          B19_017208_2095_XN_29N287W  \n",
       "355                                          D02_028179_2089_XI_28N286W  \n",
       "356                                          D04_028812_2082_XI_28N287W  \n",
       "357                                          D16_033282_2088_XI_28N287W  \n",
       "358                                          D16_033348_2088_XI_28N287W  \n",
       "359                                          D17_033928_2089_XI_28N286W  \n",
       "360                                          F22_044504_2092_XN_29N287W  \n",
       "361                                          G02_019120_2088_XN_28N287W  \n",
       "362                                          G21_026557_2089_XN_28N286W  \n",
       "363                                          G23_027401_2082_XI_28N287W  \n",
       "364                                          J01_045348_2119_XI_31N287W  \n",
       "365                                          J02_045493_2115_XI_31N287W  \n",
       "366                                          P06_003231_2090_XI_29N286W  \n",
       "367                                          P07_003864_2096_XI_29N286W  \n",
       "368                                          P09_004431_2094_XI_29N287W  \n",
       "369                                          P11_005420_2108_XI_30N287W  "
      ]
     },
     "execution_count": 3,
     "metadata": {},
     "output_type": "execute_result"
    }
   ],
   "source": [
    "df = pd.read_json(ode_results)\n",
    "df"
   ]
  },
  {
   "cell_type": "markdown",
   "metadata": {},
   "source": [
    "## Define query function and test-query the API"
   ]
  },
  {
   "cell_type": "code",
   "execution_count": 4,
   "metadata": {},
   "outputs": [
    {
     "data": {
      "text/plain": [
       "'B18_016496_2076_XN_27N287W'"
      ]
     },
     "execution_count": 4,
     "metadata": {},
     "output_type": "execute_result"
    }
   ],
   "source": [
    "PID = df['PRODUCT_ID'].iloc[0]\n",
    "PID"
   ]
  },
  {
   "cell_type": "code",
   "execution_count": 5,
   "metadata": {},
   "outputs": [],
   "source": [
    "import ode\n",
    "from ode import request_product\n",
    "\n",
    "api_endpoint = ode.API_URL"
   ]
  },
  {
   "cell_type": "code",
   "execution_count": 6,
   "metadata": {},
   "outputs": [
    {
     "data": {
      "text/plain": [
       "<Response [200]>"
      ]
     },
     "execution_count": 6,
     "metadata": {},
     "output_type": "execute_result"
    }
   ],
   "source": [
    "req = request_product(PID, api_endpoint)\n",
    "req"
   ]
  },
  {
   "cell_type": "code",
   "execution_count": 7,
   "metadata": {},
   "outputs": [],
   "source": [
    "# Response:\n",
    "# req.json()"
   ]
  },
  {
   "cell_type": "markdown",
   "metadata": {},
   "source": [
    "### Read Product files of interest\n",
    "\n",
    "Inspecting this output we recognize the fields of interest as:\n",
    "* ODEResults\n",
    "  * Products\n",
    "    * Product\n",
    "      * Product_files\n",
    "        * Product_file: [\n",
    "          * 'Description' field match 'PRODUCT DATA FILE WITH LABEL'\n",
    "              * URL\n",
    "          * 'Description' field match 'BROWSE IMAGE'\n",
    "              * URL\n",
    "          * 'Description' field match 'THUMBNAIL IMAGE'\n",
    "              * URL\n",
    "        * ]"
   ]
  },
  {
   "cell_type": "markdown",
   "metadata": {},
   "source": [
    "### Product descriptors\n",
    "\n",
    "Product files are mapped as:\n",
    "```\n",
    "DESCRIPTORS = {\n",
    "    'product_image': ('Description','PRODUCT DATA FILE WITH LABEL'),\n",
    "    'browse_image': ('Description','BROWSE IMAGE'),\n",
    "    'browse_thumbnail': ('Description','THUMBNAIL IMAGE')\n",
    "}\n",
    "```"
   ]
  },
  {
   "cell_type": "code",
   "execution_count": 8,
   "metadata": {},
   "outputs": [],
   "source": [
    "# import importlib\n",
    "# importlib.reload(ode)"
   ]
  },
  {
   "cell_type": "code",
   "execution_count": 9,
   "metadata": {},
   "outputs": [
    {
     "data": {
      "text/plain": [
       "[{'Description': 'PRODUCT DATA FILE WITH LABEL',\n",
       "  'FileName': 'B18_016496_2076_XN_27N287W.IMG',\n",
       "  'KBytes': '242001',\n",
       "  'Type': 'Product',\n",
       "  'URL': 'https://pds-imaging.jpl.nasa.gov/data/mro/mars_reconnaissance_orbiter/ctx/mrox_0967/data/B18_016496_2076_XN_27N287W.IMG'},\n",
       " {'Description': 'BROWSE IMAGE',\n",
       "  'FileName': 'B18_016496_2076_XN_27N287W.IMG.JPEG',\n",
       "  'KBytes': '78',\n",
       "  'Type': 'Browse',\n",
       "  'URL': 'https://pds-imaging.jpl.nasa.gov/data/mro/mars_reconnaissance_orbiter/ctx/mrox_0967/extras/browse/B18_016496_2076_XN_27N287W.IMG.jpeg'},\n",
       " {'Description': 'THUMBNAIL IMAGE',\n",
       "  'FileName': 'B18_016496_2076_XN_27N287W.IMG.JPEG_SMALL',\n",
       "  'KBytes': '3',\n",
       "  'Type': 'Browse',\n",
       "  'URL': 'https://pds-imaging.jpl.nasa.gov/data/mro/mars_reconnaissance_orbiter/ctx/mrox_0967/extras/thumbnail/B18_016496_2076_XN_27N287W.IMG.jpeg_small'},\n",
       " {'Creation_date': '2020-01-16T03:04:07.678',\n",
       "  'Description': 'PRODUCT KML FILE <A HREF=\"PAGEHELP/QUICKSTARTGUIDE/ABOUTFOOTPRINTS.HTM\" TARGET=\"_BLANK\">HELP</A>',\n",
       "  'FileName': 'B18_016496_2076_XN_27N287W_IMG.KML',\n",
       "  'KBytes': '3',\n",
       "  'Type': 'Derived',\n",
       "  'URL': 'https://ode.rsl.wustl.edu/mars/datafile/kmlfiles/mro-m-ctx-2-edr-l0-v1/mrox_0967/data/b18_016496_2076_xn_27n287w_img.kml'},\n",
       " {'Creation_date': '2020-01-16T03:04:07.293',\n",
       "  'Description': 'PRODUCT FOOTPRINT SHAPEFILES (TAR.GZ) <A HREF=\"PAGEHELP/QUICKSTARTGUIDE/ABOUTFOOTPRINTS.HTM\" TARGET=\"_BLANK\">HELP</A>',\n",
       "  'FileName': 'B18_016496_2076_XN_27N287W_IMG.TAR.GZ',\n",
       "  'KBytes': '4',\n",
       "  'Type': 'Derived',\n",
       "  'URL': 'https://ode.rsl.wustl.edu/mars/datafile/shapefiles/mro-m-ctx-2-edr-l0-v1/mrox_0967/data/b18_016496_2076_xn_27n287w_img.tar.gz'},\n",
       " {'Creation_date': '2020-01-16T03:04:07.187',\n",
       "  'Description': 'PRODUCT FOOTPRINT SHAPEFILES (ZIP) <A HREF=\"PAGEHELP/QUICKSTARTGUIDE/ABOUTFOOTPRINTS.HTM\" TARGET=\"_BLANK\">HELP</A>',\n",
       "  'FileName': 'B18_016496_2076_XN_27N287W_IMG.ZIP',\n",
       "  'KBytes': '26',\n",
       "  'Type': 'Derived',\n",
       "  'URL': 'https://ode.rsl.wustl.edu/mars/datafile/shapefiles/mro-m-ctx-2-edr-l0-v1/mrox_0967/data/b18_016496_2076_xn_27n287w_img.zip'}]"
      ]
     },
     "execution_count": 9,
     "metadata": {},
     "output_type": "execute_result"
    }
   ],
   "source": [
    "product_files = ode.requested_product_files(req)\n",
    "product_files"
   ]
  },
  {
   "cell_type": "code",
   "execution_count": 10,
   "metadata": {},
   "outputs": [],
   "source": [
    "#importlib.reload(ode)\n",
    "\n",
    "prod_img_data = ode.find_product_file(product_files, 'product_image', descriptors=ode.DESCRIPTORS['ctx'])\n",
    "prod_img_browse = ode.find_product_file(product_files, 'browse_image', descriptors=ode.DESCRIPTORS['ctx'])\n",
    "prod_img_thumbnail = ode.find_product_file(product_files, 'browse_thumbnail', descriptors=ode.DESCRIPTORS['ctx'])"
   ]
  },
  {
   "cell_type": "code",
   "execution_count": 11,
   "metadata": {},
   "outputs": [
    {
     "data": {
      "text/plain": [
       "'https://pds-imaging.jpl.nasa.gov/data/mro/mars_reconnaissance_orbiter/ctx/mrox_0967/data/B18_016496_2076_XN_27N287W.IMG'"
      ]
     },
     "execution_count": 11,
     "metadata": {},
     "output_type": "execute_result"
    }
   ],
   "source": [
    "prod_img_data['URL']"
   ]
  },
  {
   "cell_type": "code",
   "execution_count": 12,
   "metadata": {},
   "outputs": [
    {
     "data": {
      "text/plain": [
       "'https://pds-imaging.jpl.nasa.gov/data/mro/mars_reconnaissance_orbiter/ctx/mrox_0967/extras/browse/B18_016496_2076_XN_27N287W.IMG.jpeg'"
      ]
     },
     "execution_count": 12,
     "metadata": {},
     "output_type": "execute_result"
    }
   ],
   "source": [
    "prod_img_browse['URL']"
   ]
  },
  {
   "cell_type": "code",
   "execution_count": 13,
   "metadata": {},
   "outputs": [
    {
     "data": {
      "text/plain": [
       "'https://pds-imaging.jpl.nasa.gov/data/mro/mars_reconnaissance_orbiter/ctx/mrox_0967/extras/thumbnail/B18_016496_2076_XN_27N287W.IMG.jpeg_small'"
      ]
     },
     "execution_count": 13,
     "metadata": {},
     "output_type": "execute_result"
    }
   ],
   "source": [
    "prod_img_thumbnail['URL']"
   ]
  },
  {
   "cell_type": "markdown",
   "metadata": {},
   "source": [
    "## Download file(s)"
   ]
  },
  {
   "cell_type": "code",
   "execution_count": 14,
   "metadata": {},
   "outputs": [
    {
     "name": "stdout",
     "output_type": "stream",
     "text": [
      "--> Downloading file ./B18_016496_2076_XN_27N287W.IMG.jpeg_small ..\n",
      "--> File downloaded.\n"
     ]
    },
    {
     "data": {
      "text/plain": [
       "'./B18_016496_2076_XN_27N287W.IMG.jpeg_small'"
      ]
     },
     "execution_count": 14,
     "metadata": {},
     "output_type": "execute_result"
    }
   ],
   "source": [
    "import download\n",
    "from download import get_product, get_products\n",
    "from importlib import reload\n",
    "\n",
    "# Download a file...\n",
    "download.download_file(prod_img_thumbnail['URL'])"
   ]
  },
  {
   "cell_type": "markdown",
   "metadata": {},
   "source": [
    "### Download sample of products (serially)\n",
    "\n",
    "Downloading:\n",
    "* product_image : 'PRODUCT DATA FILE WITH LABEL'\n",
    "* browse_image : 'BROWSE IMAGE'\n",
    "* browse_thumbnail : 'THUMBNAIL IMAGE'\n"
   ]
  },
  {
   "cell_type": "code",
   "execution_count": 15,
   "metadata": {},
   "outputs": [
    {
     "data": {
      "text/plain": [
       "363    G23_027401_2082_XI_28N287W\n",
       "368    P09_004431_2094_XI_29N287W\n",
       "Name: PRODUCT_ID, dtype: object"
      ]
     },
     "execution_count": 15,
     "metadata": {},
     "output_type": "execute_result"
    }
   ],
   "source": [
    "N_SAMPLE = 2\n",
    "\n",
    "product_types = ['browse_thumbnail','browse_image']#, 'product_image']\n",
    "\n",
    "PIDs = df['PRODUCT_ID'].sample(N_SAMPLE)\n",
    "PIDs"
   ]
  },
  {
   "cell_type": "markdown",
   "metadata": {},
   "source": [
    "### Get products for `PID`"
   ]
  },
  {
   "cell_type": "code",
   "execution_count": 16,
   "metadata": {},
   "outputs": [
    {
     "name": "stdout",
     "output_type": "stream",
     "text": [
      "Querying ODE for Product B18_016496_2076_XN_27N287W ..\n",
      "-> Downloading Image data and Browse products for B18_016496_2076_XN_27N287W ..\n",
      "--> Downloading file ./data/B18_016496_2076_XN_27N287W/B18_016496_2076_XN_27N287W.IMG.jpeg_small ..\n"
     ]
    },
    {
     "name": "stderr",
     "output_type": "stream",
     "text": [
      "./data/B18_016496_2076_XN_27N287W/B18_016496_2076_XN_27N287W.IMG.jpeg_small: 3KB [00:00, 1287.12KB/s]             \n"
     ]
    },
    {
     "name": "stdout",
     "output_type": "stream",
     "text": [
      "--> File downloaded.\n",
      "--> Downloading file ./data/B18_016496_2076_XN_27N287W/B18_016496_2076_XN_27N287W.IMG.jpeg ..\n"
     ]
    },
    {
     "name": "stderr",
     "output_type": "stream",
     "text": [
      "./data/B18_016496_2076_XN_27N287W/B18_016496_2076_XN_27N287W.IMG.jpeg: 77KB [00:00, 214.95KB/s]                        "
     ]
    },
    {
     "name": "stdout",
     "output_type": "stream",
     "text": [
      "--> File downloaded.\n",
      "-> Data products downloaded.\n",
      "Done.\n"
     ]
    },
    {
     "name": "stderr",
     "output_type": "stream",
     "text": [
      "\n"
     ]
    },
    {
     "data": {
      "text/plain": [
       "{'browse_thumbnail': './data/B18_016496_2076_XN_27N287W/B18_016496_2076_XN_27N287W.IMG.jpeg_small',\n",
       " 'browse_image': './data/B18_016496_2076_XN_27N287W/B18_016496_2076_XN_27N287W.IMG.jpeg'}"
      ]
     },
     "execution_count": 16,
     "metadata": {},
     "output_type": "execute_result"
    }
   ],
   "source": [
    "reload(download)\n",
    "\n",
    "# file_types: product_types, \n",
    "# api_endpoint: ode.API_URL, \n",
    "# path: './data/'\n",
    "kwargs = dict(\n",
    "    file_types=product_types, \n",
    "    descriptors=ode.DESCRIPTORS['ctx'],\n",
    "    api_endpoint=ode.API_URL, \n",
    "    path='./data/')\n",
    "\n",
    "download.get_product(PID, **kwargs)"
   ]
  },
  {
   "cell_type": "markdown",
   "metadata": {},
   "source": [
    "### Get Products for `PIDs`"
   ]
  },
  {
   "cell_type": "code",
   "execution_count": 17,
   "metadata": {},
   "outputs": [
    {
     "name": "stdout",
     "output_type": "stream",
     "text": [
      "Get-Products: (0/2) G23_027401_2082_XI_28N287W\n",
      "Querying ODE for Product G23_027401_2082_XI_28N287W ..\n",
      "---\n",
      "Get-Products: (1/2) P09_004431_2094_XI_29N287W\n",
      "Querying ODE for Product P09_004431_2094_XI_29N287W ..\n",
      "-> Downloading Image data and Browse products for P09_004431_2094_XI_29N287W ..\n",
      "--> Downloading file ./data/P09_004431_2094_XI_29N287W/P09_004431_2094_XI_29N287W.IMG.jpeg_small ..\n"
     ]
    },
    {
     "name": "stderr",
     "output_type": "stream",
     "text": [
      "./data/P09_004431_2094_XI_29N287W/P09_004431_2094_XI_29N287W.IMG.jpeg_small: 1KB [00:00, 373.82KB/s]\n"
     ]
    },
    {
     "name": "stdout",
     "output_type": "stream",
     "text": [
      "--> File downloaded.\n",
      "--> Downloading file ./data/P09_004431_2094_XI_29N287W/P09_004431_2094_XI_29N287W.IMG.jpeg ..\n"
     ]
    },
    {
     "name": "stderr",
     "output_type": "stream",
     "text": [
      "./data/P09_004431_2094_XI_29N287W/P09_004431_2094_XI_29N287W.IMG.jpeg: 7KB [00:00, 2063.69KB/s]             "
     ]
    },
    {
     "name": "stdout",
     "output_type": "stream",
     "text": [
      "--> File downloaded.\n",
      "-> Data products downloaded.\n",
      "Done.\n",
      "---\n"
     ]
    },
    {
     "name": "stderr",
     "output_type": "stream",
     "text": [
      "\n"
     ]
    },
    {
     "data": {
      "text/plain": [
       "{'P09_004431_2094_XI_29N287W': {'browse_thumbnail': './data/P09_004431_2094_XI_29N287W/P09_004431_2094_XI_29N287W.IMG.jpeg_small',\n",
       "  'browse_image': './data/P09_004431_2094_XI_29N287W/P09_004431_2094_XI_29N287W.IMG.jpeg'}}"
      ]
     },
     "execution_count": 17,
     "metadata": {},
     "output_type": "execute_result"
    }
   ],
   "source": [
    "products_data = download.get_products(PIDs, **kwargs)\n",
    "products_data"
   ]
  },
  {
   "cell_type": "markdown",
   "metadata": {},
   "source": [
    "## Download all Browse products"
   ]
  },
  {
   "cell_type": "code",
   "execution_count": 18,
   "metadata": {},
   "outputs": [
    {
     "data": {
      "text/plain": [
       "353    B18_016496_2076_XN_27N287W\n",
       "354    B19_017208_2095_XN_29N287W\n",
       "355    D02_028179_2089_XI_28N286W\n",
       "356    D04_028812_2082_XI_28N287W\n",
       "357    D16_033282_2088_XI_28N287W\n",
       "358    D16_033348_2088_XI_28N287W\n",
       "359    D17_033928_2089_XI_28N286W\n",
       "360    F22_044504_2092_XN_29N287W\n",
       "361    G02_019120_2088_XN_28N287W\n",
       "362    G21_026557_2089_XN_28N286W\n",
       "363    G23_027401_2082_XI_28N287W\n",
       "364    J01_045348_2119_XI_31N287W\n",
       "365    J02_045493_2115_XI_31N287W\n",
       "366    P06_003231_2090_XI_29N286W\n",
       "367    P07_003864_2096_XI_29N286W\n",
       "368    P09_004431_2094_XI_29N287W\n",
       "369    P11_005420_2108_XI_30N287W\n",
       "Name: PRODUCT_ID, dtype: object"
      ]
     },
     "execution_count": 18,
     "metadata": {},
     "output_type": "execute_result"
    }
   ],
   "source": [
    "df['PRODUCT_ID']"
   ]
  },
  {
   "cell_type": "code",
   "execution_count": 19,
   "metadata": {},
   "outputs": [
    {
     "name": "stdout",
     "output_type": "stream",
     "text": [
      "Get-Products: (0/17) B18_016496_2076_XN_27N287W\n",
      "Querying ODE for Product B18_016496_2076_XN_27N287W ..\n",
      "-> Downloading Image data and Browse products for B18_016496_2076_XN_27N287W ..\n",
      "--> Downloading file ./data/B18_016496_2076_XN_27N287W/B18_016496_2076_XN_27N287W.IMG.jpeg_small ..\n"
     ]
    },
    {
     "name": "stderr",
     "output_type": "stream",
     "text": [
      "./data/B18_016496_2076_XN_27N287W/B18_016496_2076_XN_27N287W.IMG.jpeg_small: 3KB [00:00, 1175.09KB/s]             \n"
     ]
    },
    {
     "name": "stdout",
     "output_type": "stream",
     "text": [
      "--> File downloaded.\n",
      "--> Downloading file ./data/B18_016496_2076_XN_27N287W/B18_016496_2076_XN_27N287W.IMG.jpeg ..\n"
     ]
    },
    {
     "name": "stderr",
     "output_type": "stream",
     "text": [
      "./data/B18_016496_2076_XN_27N287W/B18_016496_2076_XN_27N287W.IMG.jpeg: 77KB [00:01, 49.30KB/s]                        \n"
     ]
    },
    {
     "name": "stdout",
     "output_type": "stream",
     "text": [
      "--> File downloaded.\n",
      "--> Downloading file ./data/B18_016496_2076_XN_27N287W/B18_016496_2076_XN_27N287W.IMG ..\n"
     ]
    },
    {
     "name": "stderr",
     "output_type": "stream",
     "text": [
      "./data/B18_016496_2076_XN_27N287W/B18_016496_2076_XN_27N287W.IMG: 247749KB [18:12, 226.84KB/s]                             \n"
     ]
    },
    {
     "name": "stdout",
     "output_type": "stream",
     "text": [
      "--> File downloaded.\n",
      "-> Data products downloaded.\n",
      "Done.\n",
      "---\n",
      "Get-Products: (1/17) B19_017208_2095_XN_29N287W\n",
      "Querying ODE for Product B19_017208_2095_XN_29N287W ..\n",
      "-> Downloading Image data and Browse products for B19_017208_2095_XN_29N287W ..\n",
      "--> Downloading file ./data/B19_017208_2095_XN_29N287W/B19_017208_2095_XN_29N287W.IMG.jpeg_small ..\n"
     ]
    },
    {
     "name": "stderr",
     "output_type": "stream",
     "text": [
      "./data/B19_017208_2095_XN_29N287W/B19_017208_2095_XN_29N287W.IMG.jpeg_small: 2KB [00:00, 868.39KB/s]              \n"
     ]
    },
    {
     "name": "stdout",
     "output_type": "stream",
     "text": [
      "--> File downloaded.\n",
      "--> Downloading file ./data/B19_017208_2095_XN_29N287W/B19_017208_2095_XN_29N287W.IMG.jpeg ..\n"
     ]
    },
    {
     "name": "stderr",
     "output_type": "stream",
     "text": [
      "./data/B19_017208_2095_XN_29N287W/B19_017208_2095_XN_29N287W.IMG.jpeg: 34KB [00:00, 190.61KB/s]                        \n"
     ]
    },
    {
     "name": "stdout",
     "output_type": "stream",
     "text": [
      "--> File downloaded.\n",
      "--> Downloading file ./data/B19_017208_2095_XN_29N287W/B19_017208_2095_XN_29N287W.IMG ..\n"
     ]
    },
    {
     "name": "stderr",
     "output_type": "stream",
     "text": [
      "./data/B19_017208_2095_XN_29N287W/B19_017208_2095_XN_29N287W.IMG: 85957KB [06:42, 213.43KB/s]                           \n"
     ]
    },
    {
     "name": "stdout",
     "output_type": "stream",
     "text": [
      "--> File downloaded.\n",
      "-> Data products downloaded.\n",
      "Done.\n",
      "---\n",
      "Get-Products: (2/17) D02_028179_2089_XI_28N286W\n",
      "Querying ODE for Product D02_028179_2089_XI_28N286W ..\n",
      "-> Downloading Image data and Browse products for D02_028179_2089_XI_28N286W ..\n",
      "--> Downloading file ./data/D02_028179_2089_XI_28N286W/D02_028179_2089_XI_28N286W.IMG.jpeg_small ..\n"
     ]
    },
    {
     "name": "stderr",
     "output_type": "stream",
     "text": [
      "./data/D02_028179_2089_XI_28N286W/D02_028179_2089_XI_28N286W.IMG.jpeg_small: 3KB [00:00, 1258.92KB/s]             \n"
     ]
    },
    {
     "name": "stdout",
     "output_type": "stream",
     "text": [
      "--> File downloaded.\n",
      "--> Downloading file ./data/D02_028179_2089_XI_28N286W/D02_028179_2089_XI_28N286W.IMG.jpeg ..\n"
     ]
    },
    {
     "name": "stderr",
     "output_type": "stream",
     "text": [
      "./data/D02_028179_2089_XI_28N286W/D02_028179_2089_XI_28N286W.IMG.jpeg: 75KB [00:00, 138.68KB/s]                        \n"
     ]
    },
    {
     "name": "stdout",
     "output_type": "stream",
     "text": [
      "--> File downloaded.\n",
      "--> Downloading file ./data/D02_028179_2089_XI_28N286W/D02_028179_2089_XI_28N286W.IMG ..\n"
     ]
    },
    {
     "name": "stderr",
     "output_type": "stream",
     "text": [
      "./data/D02_028179_2089_XI_28N286W/D02_028179_2089_XI_28N286W.IMG: 156741KB [11:38, 224.34KB/s]                            \n"
     ]
    },
    {
     "name": "stdout",
     "output_type": "stream",
     "text": [
      "--> File downloaded.\n",
      "-> Data products downloaded.\n",
      "Done.\n",
      "---\n",
      "Get-Products: (3/17) D04_028812_2082_XI_28N287W\n",
      "Querying ODE for Product D04_028812_2082_XI_28N287W ..\n",
      "-> Downloading Image data and Browse products for D04_028812_2082_XI_28N287W ..\n",
      "--> Downloading file ./data/D04_028812_2082_XI_28N287W/D04_028812_2082_XI_28N287W.IMG.jpeg_small ..\n"
     ]
    },
    {
     "name": "stderr",
     "output_type": "stream",
     "text": [
      "./data/D04_028812_2082_XI_28N287W/D04_028812_2082_XI_28N287W.IMG.jpeg_small: 4KB [00:00, 1404.54KB/s]             \n"
     ]
    },
    {
     "name": "stdout",
     "output_type": "stream",
     "text": [
      "--> File downloaded.\n",
      "--> Downloading file ./data/D04_028812_2082_XI_28N287W/D04_028812_2082_XI_28N287W.IMG.jpeg ..\n"
     ]
    },
    {
     "name": "stderr",
     "output_type": "stream",
     "text": [
      "./data/D04_028812_2082_XI_28N287W/D04_028812_2082_XI_28N287W.IMG.jpeg: 137KB [00:00, 153.73KB/s]                         \n"
     ]
    },
    {
     "name": "stdout",
     "output_type": "stream",
     "text": [
      "--> File downloaded.\n",
      "--> Downloading file ./data/D04_028812_2082_XI_28N287W/D04_028812_2082_XI_28N287W.IMG ..\n"
     ]
    },
    {
     "name": "stderr",
     "output_type": "stream",
     "text": [
      "./data/D04_028812_2082_XI_28N287W/D04_028812_2082_XI_28N287W.IMG: 257861KB [20:21, 211.12KB/s]                             \n"
     ]
    },
    {
     "name": "stdout",
     "output_type": "stream",
     "text": [
      "--> File downloaded.\n",
      "-> Data products downloaded.\n",
      "Done.\n",
      "---\n",
      "Get-Products: (4/17) D16_033282_2088_XI_28N287W\n",
      "Querying ODE for Product D16_033282_2088_XI_28N287W ..\n",
      "-> Downloading Image data and Browse products for D16_033282_2088_XI_28N287W ..\n",
      "--> Downloading file ./data/D16_033282_2088_XI_28N287W/D16_033282_2088_XI_28N287W.IMG.jpeg_small ..\n"
     ]
    },
    {
     "name": "stderr",
     "output_type": "stream",
     "text": [
      "./data/D16_033282_2088_XI_28N287W/D16_033282_2088_XI_28N287W.IMG.jpeg_small: 2KB [00:00, 704.45KB/s]              \n"
     ]
    },
    {
     "name": "stdout",
     "output_type": "stream",
     "text": [
      "--> File downloaded.\n",
      "--> Downloading file ./data/D16_033282_2088_XI_28N287W/D16_033282_2088_XI_28N287W.IMG.jpeg ..\n"
     ]
    },
    {
     "name": "stderr",
     "output_type": "stream",
     "text": [
      "./data/D16_033282_2088_XI_28N287W/D16_033282_2088_XI_28N287W.IMG.jpeg: 55KB [00:00, 282.23KB/s]                        \n"
     ]
    },
    {
     "name": "stdout",
     "output_type": "stream",
     "text": [
      "--> File downloaded.\n",
      "--> Downloading file ./data/D16_033282_2088_XI_28N287W/D16_033282_2088_XI_28N287W.IMG ..\n"
     ]
    },
    {
     "name": "stderr",
     "output_type": "stream",
     "text": [
      "./data/D16_033282_2088_XI_28N287W/D16_033282_2088_XI_28N287W.IMG: 151685KB [12:51, 196.69KB/s]                            \n"
     ]
    },
    {
     "name": "stdout",
     "output_type": "stream",
     "text": [
      "--> File downloaded.\n",
      "-> Data products downloaded.\n",
      "Done.\n",
      "---\n",
      "Get-Products: (5/17) D16_033348_2088_XI_28N287W\n",
      "Querying ODE for Product D16_033348_2088_XI_28N287W ..\n",
      "-> Downloading Image data and Browse products for D16_033348_2088_XI_28N287W ..\n",
      "--> Downloading file ./data/D16_033348_2088_XI_28N287W/D16_033348_2088_XI_28N287W.IMG.jpeg_small ..\n"
     ]
    },
    {
     "name": "stderr",
     "output_type": "stream",
     "text": [
      "./data/D16_033348_2088_XI_28N287W/D16_033348_2088_XI_28N287W.IMG.jpeg_small: 2KB [00:00, 720.42KB/s]              \n"
     ]
    },
    {
     "name": "stdout",
     "output_type": "stream",
     "text": [
      "--> File downloaded.\n",
      "--> Downloading file ./data/D16_033348_2088_XI_28N287W/D16_033348_2088_XI_28N287W.IMG.jpeg ..\n"
     ]
    },
    {
     "name": "stderr",
     "output_type": "stream",
     "text": [
      "./data/D16_033348_2088_XI_28N287W/D16_033348_2088_XI_28N287W.IMG.jpeg: 50KB [00:00, 59.95KB/s]                        \n"
     ]
    },
    {
     "name": "stdout",
     "output_type": "stream",
     "text": [
      "--> File downloaded.\n",
      "--> Downloading file ./data/D16_033348_2088_XI_28N287W/D16_033348_2088_XI_28N287W.IMG ..\n"
     ]
    },
    {
     "name": "stderr",
     "output_type": "stream",
     "text": [
      "./data/D16_033348_2088_XI_28N287W/D16_033348_2088_XI_28N287W.IMG: 151685KB [13:15, 190.66KB/s]                            \n"
     ]
    },
    {
     "name": "stdout",
     "output_type": "stream",
     "text": [
      "--> File downloaded.\n",
      "-> Data products downloaded.\n",
      "Done.\n",
      "---\n",
      "Get-Products: (6/17) D17_033928_2089_XI_28N286W\n",
      "Querying ODE for Product D17_033928_2089_XI_28N286W ..\n",
      "-> Downloading Image data and Browse products for D17_033928_2089_XI_28N286W ..\n",
      "--> Downloading file ./data/D17_033928_2089_XI_28N286W/D17_033928_2089_XI_28N286W.IMG.jpeg_small ..\n"
     ]
    },
    {
     "name": "stderr",
     "output_type": "stream",
     "text": [
      "./data/D17_033928_2089_XI_28N286W/D17_033928_2089_XI_28N286W.IMG.jpeg_small: 2KB [00:00, 785.89KB/s]              \n"
     ]
    },
    {
     "name": "stdout",
     "output_type": "stream",
     "text": [
      "--> File downloaded.\n",
      "--> Downloading file ./data/D17_033928_2089_XI_28N286W/D17_033928_2089_XI_28N286W.IMG.jpeg ..\n"
     ]
    },
    {
     "name": "stderr",
     "output_type": "stream",
     "text": [
      "./data/D17_033928_2089_XI_28N286W/D17_033928_2089_XI_28N286W.IMG.jpeg: 67KB [00:00, 73.26KB/s]                        \n"
     ]
    },
    {
     "name": "stdout",
     "output_type": "stream",
     "text": [
      "--> File downloaded.\n",
      "--> Downloading file ./data/D17_033928_2089_XI_28N286W/D17_033928_2089_XI_28N286W.IMG ..\n"
     ]
    },
    {
     "name": "stderr",
     "output_type": "stream",
     "text": [
      "./data/D17_033928_2089_XI_28N286W/D17_033928_2089_XI_28N286W.IMG: 156741KB [13:22, 195.40KB/s]                            \n"
     ]
    },
    {
     "name": "stdout",
     "output_type": "stream",
     "text": [
      "--> File downloaded.\n",
      "-> Data products downloaded.\n",
      "Done.\n",
      "---\n",
      "Get-Products: (7/17) F22_044504_2092_XN_29N287W\n",
      "Querying ODE for Product F22_044504_2092_XN_29N287W ..\n",
      "-> Downloading Image data and Browse products for F22_044504_2092_XN_29N287W ..\n",
      "--> Downloading file ./data/F22_044504_2092_XN_29N287W/F22_044504_2092_XN_29N287W.IMG.jpeg_small ..\n"
     ]
    },
    {
     "name": "stderr",
     "output_type": "stream",
     "text": [
      "./data/F22_044504_2092_XN_29N287W/F22_044504_2092_XN_29N287W.IMG.jpeg_small: 1KB [00:00, 354.85KB/s]\n"
     ]
    },
    {
     "name": "stdout",
     "output_type": "stream",
     "text": [
      "--> File downloaded.\n",
      "--> Downloading file ./data/F22_044504_2092_XN_29N287W/F22_044504_2092_XN_29N287W.IMG.jpeg ..\n"
     ]
    },
    {
     "name": "stderr",
     "output_type": "stream",
     "text": [
      "./data/F22_044504_2092_XN_29N287W/F22_044504_2092_XN_29N287W.IMG.jpeg: 803KB [00:05, 147.97KB/s]                         \n"
     ]
    },
    {
     "name": "stdout",
     "output_type": "stream",
     "text": [
      "--> File downloaded.\n",
      "--> Downloading file ./data/F22_044504_2092_XN_29N287W/F22_044504_2092_XN_29N287W.IMG ..\n"
     ]
    },
    {
     "name": "stderr",
     "output_type": "stream",
     "text": [
      "./data/F22_044504_2092_XN_29N287W/F22_044504_2092_XN_29N287W.IMG: 35397KB [03:00, 196.13KB/s]                           \n"
     ]
    },
    {
     "name": "stdout",
     "output_type": "stream",
     "text": [
      "--> File downloaded.\n",
      "-> Data products downloaded.\n",
      "Done.\n",
      "---\n",
      "Get-Products: (8/17) G02_019120_2088_XN_28N287W\n",
      "Querying ODE for Product G02_019120_2088_XN_28N287W ..\n",
      "-> Downloading Image data and Browse products for G02_019120_2088_XN_28N287W ..\n",
      "--> Downloading file ./data/G02_019120_2088_XN_28N287W/G02_019120_2088_XN_28N287W.IMG.jpeg_small ..\n"
     ]
    },
    {
     "name": "stderr",
     "output_type": "stream",
     "text": [
      "./data/G02_019120_2088_XN_28N287W/G02_019120_2088_XN_28N287W.IMG.jpeg_small: 2KB [00:00, 1072.44KB/s]             \n"
     ]
    },
    {
     "name": "stdout",
     "output_type": "stream",
     "text": [
      "--> File downloaded.\n",
      "--> Downloading file ./data/G02_019120_2088_XN_28N287W/G02_019120_2088_XN_28N287W.IMG.jpeg ..\n"
     ]
    },
    {
     "name": "stderr",
     "output_type": "stream",
     "text": [
      "./data/G02_019120_2088_XN_28N287W/G02_019120_2088_XN_28N287W.IMG.jpeg: 47KB [00:00, 235.57KB/s]                        \n"
     ]
    },
    {
     "name": "stdout",
     "output_type": "stream",
     "text": [
      "--> File downloaded.\n",
      "--> Downloading file ./data/G02_019120_2088_XN_28N287W/G02_019120_2088_XN_28N287W.IMG ..\n"
     ]
    },
    {
     "name": "stderr",
     "output_type": "stream",
     "text": [
      "./data/G02_019120_2088_XN_28N287W/G02_019120_2088_XN_28N287W.IMG: 131461KB [09:29, 230.69KB/s]                            \n"
     ]
    },
    {
     "name": "stdout",
     "output_type": "stream",
     "text": [
      "--> File downloaded.\n",
      "-> Data products downloaded.\n",
      "Done.\n",
      "---\n",
      "Get-Products: (9/17) G21_026557_2089_XN_28N286W\n",
      "Querying ODE for Product G21_026557_2089_XN_28N286W ..\n",
      "-> Downloading Image data and Browse products for G21_026557_2089_XN_28N286W ..\n",
      "--> Downloading file ./data/G21_026557_2089_XN_28N286W/G21_026557_2089_XN_28N286W.IMG.jpeg_small ..\n"
     ]
    },
    {
     "name": "stderr",
     "output_type": "stream",
     "text": [
      "./data/G21_026557_2089_XN_28N286W/G21_026557_2089_XN_28N286W.IMG.jpeg_small: 2KB [00:00, 794.60KB/s]              \n"
     ]
    },
    {
     "name": "stdout",
     "output_type": "stream",
     "text": [
      "--> File downloaded.\n",
      "--> Downloading file ./data/G21_026557_2089_XN_28N286W/G21_026557_2089_XN_28N286W.IMG.jpeg ..\n"
     ]
    },
    {
     "name": "stderr",
     "output_type": "stream",
     "text": [
      "./data/G21_026557_2089_XN_28N286W/G21_026557_2089_XN_28N286W.IMG.jpeg: 57KB [00:00, 225.57KB/s]                        \n"
     ]
    },
    {
     "name": "stdout",
     "output_type": "stream",
     "text": [
      "--> File downloaded.\n",
      "--> Downloading file ./data/G21_026557_2089_XN_28N286W/G21_026557_2089_XN_28N286W.IMG ..\n"
     ]
    },
    {
     "name": "stderr",
     "output_type": "stream",
     "text": [
      "./data/G21_026557_2089_XN_28N286W/G21_026557_2089_XN_28N286W.IMG: 156741KB [11:36, 225.00KB/s]                            \n"
     ]
    },
    {
     "name": "stdout",
     "output_type": "stream",
     "text": [
      "--> File downloaded.\n",
      "-> Data products downloaded.\n",
      "Done.\n",
      "---\n",
      "Get-Products: (10/17) G23_027401_2082_XI_28N287W\n",
      "Querying ODE for Product G23_027401_2082_XI_28N287W ..\n",
      "---\n",
      "Get-Products: (11/17) J01_045348_2119_XI_31N287W\n",
      "Querying ODE for Product J01_045348_2119_XI_31N287W ..\n",
      "-> Downloading Image data and Browse products for J01_045348_2119_XI_31N287W ..\n",
      "--> Downloading file ./data/J01_045348_2119_XI_31N287W/J01_045348_2119_XI_31N287W.IMG.jpeg_small ..\n"
     ]
    },
    {
     "name": "stderr",
     "output_type": "stream",
     "text": [
      "./data/J01_045348_2119_XI_31N287W/J01_045348_2119_XI_31N287W.IMG.jpeg_small: 3KB [00:00, 952.67KB/s]              \n"
     ]
    },
    {
     "name": "stdout",
     "output_type": "stream",
     "text": [
      "--> File downloaded.\n",
      "--> Downloading file ./data/J01_045348_2119_XI_31N287W/J01_045348_2119_XI_31N287W.IMG.jpeg ..\n"
     ]
    },
    {
     "name": "stderr",
     "output_type": "stream",
     "text": [
      "./data/J01_045348_2119_XI_31N287W/J01_045348_2119_XI_31N287W.IMG.jpeg: 6824KB [00:26, 260.45KB/s]                          \n"
     ]
    },
    {
     "name": "stdout",
     "output_type": "stream",
     "text": [
      "--> File downloaded.\n",
      "--> Downloading file ./data/J01_045348_2119_XI_31N287W/J01_045348_2119_XI_31N287W.IMG ..\n"
     ]
    },
    {
     "name": "stderr",
     "output_type": "stream",
     "text": [
      "./data/J01_045348_2119_XI_31N287W/J01_045348_2119_XI_31N287W.IMG: 227525KB [17:45, 213.62KB/s]                             \n"
     ]
    },
    {
     "name": "stdout",
     "output_type": "stream",
     "text": [
      "--> File downloaded.\n",
      "-> Data products downloaded.\n",
      "Done.\n",
      "---\n",
      "Get-Products: (12/17) J02_045493_2115_XI_31N287W\n",
      "Querying ODE for Product J02_045493_2115_XI_31N287W ..\n",
      "-> Downloading Image data and Browse products for J02_045493_2115_XI_31N287W ..\n",
      "--> Downloading file ./data/J02_045493_2115_XI_31N287W/J02_045493_2115_XI_31N287W.IMG.jpeg_small ..\n"
     ]
    },
    {
     "name": "stderr",
     "output_type": "stream",
     "text": [
      "./data/J02_045493_2115_XI_31N287W/J02_045493_2115_XI_31N287W.IMG.jpeg_small: 3KB [00:00, 1168.11KB/s]             \n"
     ]
    },
    {
     "name": "stdout",
     "output_type": "stream",
     "text": [
      "--> File downloaded.\n",
      "--> Downloading file ./data/J02_045493_2115_XI_31N287W/J02_045493_2115_XI_31N287W.IMG.jpeg ..\n"
     ]
    },
    {
     "name": "stderr",
     "output_type": "stream",
     "text": [
      "./data/J02_045493_2115_XI_31N287W/J02_045493_2115_XI_31N287W.IMG.jpeg: 6699KB [00:37, 179.00KB/s]                          \n"
     ]
    },
    {
     "name": "stdout",
     "output_type": "stream",
     "text": [
      "--> File downloaded.\n",
      "--> Downloading file ./data/J02_045493_2115_XI_31N287W/J02_045493_2115_XI_31N287W.IMG ..\n"
     ]
    },
    {
     "name": "stderr",
     "output_type": "stream",
     "text": [
      "./data/J02_045493_2115_XI_31N287W/J02_045493_2115_XI_31N287W.IMG: 212357KB [17:13, 205.42KB/s]                            \n"
     ]
    },
    {
     "name": "stdout",
     "output_type": "stream",
     "text": [
      "--> File downloaded.\n",
      "-> Data products downloaded.\n",
      "Done.\n",
      "---\n",
      "Get-Products: (13/17) P06_003231_2090_XI_29N286W\n",
      "Querying ODE for Product P06_003231_2090_XI_29N286W ..\n",
      "-> Downloading Image data and Browse products for P06_003231_2090_XI_29N286W ..\n",
      "--> Downloading file ./data/P06_003231_2090_XI_29N286W/P06_003231_2090_XI_29N286W.IMG.jpeg_small ..\n"
     ]
    },
    {
     "name": "stderr",
     "output_type": "stream",
     "text": [
      "./data/P06_003231_2090_XI_29N286W/P06_003231_2090_XI_29N286W.IMG.jpeg_small: 2KB [00:00, 753.49KB/s]              \n"
     ]
    },
    {
     "name": "stdout",
     "output_type": "stream",
     "text": [
      "--> File downloaded.\n",
      "--> Downloading file ./data/P06_003231_2090_XI_29N286W/P06_003231_2090_XI_29N286W.IMG.jpeg ..\n"
     ]
    },
    {
     "name": "stderr",
     "output_type": "stream",
     "text": [
      "./data/P06_003231_2090_XI_29N286W/P06_003231_2090_XI_29N286W.IMG.jpeg: 42KB [00:00, 129.92KB/s]                        \n"
     ]
    },
    {
     "name": "stdout",
     "output_type": "stream",
     "text": [
      "--> File downloaded.\n",
      "--> Downloading file ./data/P06_003231_2090_XI_29N286W/P06_003231_2090_XI_29N286W.IMG ..\n"
     ]
    },
    {
     "name": "stderr",
     "output_type": "stream",
     "text": [
      "./data/P06_003231_2090_XI_29N286W/P06_003231_2090_XI_29N286W.IMG: 146629KB [12:30, 195.38KB/s]                            \n"
     ]
    },
    {
     "name": "stdout",
     "output_type": "stream",
     "text": [
      "--> File downloaded.\n",
      "-> Data products downloaded.\n",
      "Done.\n",
      "---\n",
      "Get-Products: (14/17) P07_003864_2096_XI_29N286W\n",
      "Querying ODE for Product P07_003864_2096_XI_29N286W ..\n",
      "-> Downloading Image data and Browse products for P07_003864_2096_XI_29N286W ..\n",
      "--> Downloading file ./data/P07_003864_2096_XI_29N286W/P07_003864_2096_XI_29N286W.IMG.jpeg_small ..\n"
     ]
    },
    {
     "name": "stderr",
     "output_type": "stream",
     "text": [
      "./data/P07_003864_2096_XI_29N286W/P07_003864_2096_XI_29N286W.IMG.jpeg_small: 1KB [00:00, 375.67KB/s]\n"
     ]
    },
    {
     "name": "stdout",
     "output_type": "stream",
     "text": [
      "--> File downloaded.\n",
      "--> Downloading file ./data/P07_003864_2096_XI_29N286W/P07_003864_2096_XI_29N286W.IMG.jpeg ..\n"
     ]
    },
    {
     "name": "stderr",
     "output_type": "stream",
     "text": [
      "./data/P07_003864_2096_XI_29N286W/P07_003864_2096_XI_29N286W.IMG.jpeg: 8KB [00:00, 2380.93KB/s]             \n"
     ]
    },
    {
     "name": "stdout",
     "output_type": "stream",
     "text": [
      "--> File downloaded.\n",
      "--> Downloading file ./data/P07_003864_2096_XI_29N286W/P07_003864_2096_XI_29N286W.IMG ..\n"
     ]
    },
    {
     "name": "stderr",
     "output_type": "stream",
     "text": [
      "./data/P07_003864_2096_XI_29N286W/P07_003864_2096_XI_29N286W.IMG: 35397KB [02:53, 204.30KB/s]                           \n"
     ]
    },
    {
     "name": "stdout",
     "output_type": "stream",
     "text": [
      "--> File downloaded.\n",
      "-> Data products downloaded.\n",
      "Done.\n",
      "---\n",
      "Get-Products: (15/17) P09_004431_2094_XI_29N287W\n",
      "Querying ODE for Product P09_004431_2094_XI_29N287W ..\n",
      "-> Downloading Image data and Browse products for P09_004431_2094_XI_29N287W ..\n",
      "--> Downloading file ./data/P09_004431_2094_XI_29N287W/P09_004431_2094_XI_29N287W.IMG.jpeg_small ..\n"
     ]
    },
    {
     "name": "stderr",
     "output_type": "stream",
     "text": [
      "./data/P09_004431_2094_XI_29N287W/P09_004431_2094_XI_29N287W.IMG.jpeg_small: 1KB [00:00, 379.95KB/s]\n"
     ]
    },
    {
     "name": "stdout",
     "output_type": "stream",
     "text": [
      "--> File downloaded.\n",
      "--> Downloading file ./data/P09_004431_2094_XI_29N287W/P09_004431_2094_XI_29N287W.IMG.jpeg ..\n"
     ]
    },
    {
     "name": "stderr",
     "output_type": "stream",
     "text": [
      "./data/P09_004431_2094_XI_29N287W/P09_004431_2094_XI_29N287W.IMG.jpeg: 7KB [00:00, 2461.24KB/s]             \n"
     ]
    },
    {
     "name": "stdout",
     "output_type": "stream",
     "text": [
      "--> File downloaded.\n",
      "--> Downloading file ./data/P09_004431_2094_XI_29N287W/P09_004431_2094_XI_29N287W.IMG ..\n"
     ]
    },
    {
     "name": "stderr",
     "output_type": "stream",
     "text": [
      "./data/P09_004431_2094_XI_29N287W/P09_004431_2094_XI_29N287W.IMG: 35397KB [01:59, 296.96KB/s]                           \n"
     ]
    },
    {
     "name": "stdout",
     "output_type": "stream",
     "text": [
      "--> File downloaded.\n",
      "-> Data products downloaded.\n",
      "Done.\n",
      "---\n",
      "Get-Products: (16/17) P11_005420_2108_XI_30N287W\n",
      "Querying ODE for Product P11_005420_2108_XI_30N287W ..\n",
      "-> Downloading Image data and Browse products for P11_005420_2108_XI_30N287W ..\n",
      "--> Downloading file ./data/P11_005420_2108_XI_30N287W/P11_005420_2108_XI_30N287W.IMG.jpeg_small ..\n"
     ]
    },
    {
     "name": "stderr",
     "output_type": "stream",
     "text": [
      "./data/P11_005420_2108_XI_30N287W/P11_005420_2108_XI_30N287W.IMG.jpeg_small: 2KB [00:00, 766.29KB/s]              \n"
     ]
    },
    {
     "name": "stdout",
     "output_type": "stream",
     "text": [
      "--> File downloaded.\n",
      "--> Downloading file ./data/P11_005420_2108_XI_30N287W/P11_005420_2108_XI_30N287W.IMG.jpeg ..\n"
     ]
    },
    {
     "name": "stderr",
     "output_type": "stream",
     "text": [
      "./data/P11_005420_2108_XI_30N287W/P11_005420_2108_XI_30N287W.IMG.jpeg: 53KB [00:00, 207.68KB/s]                        \n"
     ]
    },
    {
     "name": "stdout",
     "output_type": "stream",
     "text": [
      "--> File downloaded.\n",
      "--> Downloading file ./data/P11_005420_2108_XI_30N287W/P11_005420_2108_XI_30N287W.IMG ..\n"
     ]
    },
    {
     "name": "stderr",
     "output_type": "stream",
     "text": [
      "./data/P11_005420_2108_XI_30N287W/P11_005420_2108_XI_30N287W.IMG: 257861KB [22:12, 193.57KB/s]                             "
     ]
    },
    {
     "name": "stdout",
     "output_type": "stream",
     "text": [
      "--> File downloaded.\n",
      "-> Data products downloaded.\n",
      "Done.\n",
      "---\n"
     ]
    },
    {
     "name": "stderr",
     "output_type": "stream",
     "text": [
      "\n"
     ]
    }
   ],
   "source": [
    "# Let's get them all\n",
    "\n",
    "reload(download)\n",
    "\n",
    "PIDs = df['PRODUCT_ID']\n",
    "\n",
    "kwargs.update({'file_types': ['browse_thumbnail','browse_image','product_image']})\n",
    "\n",
    "Products = download.get_products(PIDs, **kwargs)"
   ]
  },
  {
   "cell_type": "code",
   "execution_count": null,
   "metadata": {},
   "outputs": [],
   "source": []
  }
 ],
 "metadata": {
  "kernelspec": {
   "display_name": "Python 3",
   "language": "python",
   "name": "python3"
  },
  "language_info": {
   "codemirror_mode": {
    "name": "ipython",
    "version": 3
   },
   "file_extension": ".py",
   "mimetype": "text/x-python",
   "name": "python",
   "nbconvert_exporter": "python",
   "pygments_lexer": "ipython3",
   "version": "3.7.8"
  }
 },
 "nbformat": 4,
 "nbformat_minor": 4
}
