{
 "cells": [
  {
   "cell_type": "markdown",
   "metadata": {},
   "source": [
    "# Query ODE REST API\n",
    "\n",
    "ODE REST API's endpoint is at https://oderest.rsl.wustl.edu/live2.\n",
    "To learn about the parameters the API accepts, there is the manual at http://oderest.rsl.wustl.edu/ODE_REST_V2.1.pdf.\n",
    "\n",
    "We want to query the API for -- given a ProductID -- where data can be downloaded from.\n",
    "For that, the query attributes relevant to us are ([ODE REST v2.1 manual, sec.3]):\n",
    "\n",
    "* `query`: Return list of products with selected product metadata that meet the query parameters\n",
    "  * `product`\n",
    "* `productid`: PDS Product Id(s)\n",
    "* `results`\n",
    "  * `f`: Product files\n",
    "  * `p`: PDS Product Identifies\n",
    "  * `m`: Product metadata\n",
    "* `output`: query output format, XML or JSON (default XML)\n",
    "  * `JSON`\n",
    "\n",
    "And so, our query(ies) should have the following pattern:\n",
    "```\n",
    "https://oderest.rsl.wustl.edu/live2?query=product&results=fmp&output=JSON&productid={PRODUCTID}\n",
    "```\n",
    ", where `{PRODUCTID}` is a variable for the corresponding ProductID.\n",
    "\n",
    "[ODE REST v2.1 manual, sec.3]: http://oderest.rsl.wustl.edu/ODE_REST_V2.1.pdf"
   ]
  },
  {
   "cell_type": "markdown",
   "metadata": {},
   "source": [
    "## Import dataset with product-ids"
   ]
  },
  {
   "cell_type": "code",
   "execution_count": 1,
   "metadata": {},
   "outputs": [],
   "source": [
    "import pandas as pd"
   ]
  },
  {
   "cell_type": "code",
   "execution_count": 2,
   "metadata": {},
   "outputs": [],
   "source": [
    "ode_results = 'ODE_Small_SearchResults.HIRISE.json'"
   ]
  },
  {
   "cell_type": "code",
   "execution_count": 3,
   "metadata": {},
   "outputs": [
    {
     "data": {
      "text/html": [
       "<div>\n",
       "<style scoped>\n",
       "    .dataframe tbody tr th:only-of-type {\n",
       "        vertical-align: middle;\n",
       "    }\n",
       "\n",
       "    .dataframe tbody tr th {\n",
       "        vertical-align: top;\n",
       "    }\n",
       "\n",
       "    .dataframe thead th {\n",
       "        text-align: right;\n",
       "    }\n",
       "</style>\n",
       "<table border=\"1\" class=\"dataframe\">\n",
       "  <thead>\n",
       "    <tr style=\"text-align: right;\">\n",
       "      <th></th>\n",
       "      <th>INSTRUMENT_HOST_ID</th>\n",
       "      <th>INSTRUMENT_ID</th>\n",
       "      <th>TYPE</th>\n",
       "      <th>ODE_TYPE_ABBREVIATION</th>\n",
       "      <th>PRODUCT_ID</th>\n",
       "      <th>OBSERVATION_TIME</th>\n",
       "      <th>CENTER_LATITUDE_(IF_AVAILABLE)</th>\n",
       "      <th>CENTER_LONGITUDE_(IF_AVAILABLE)</th>\n",
       "      <th>ORBITAL_DATA_EXPLORER_PRODUCT_LINK</th>\n",
       "      <th>ORBITAL_DATA_EXPLORER_PRODUCT_FILES_LINK</th>\n",
       "      <th>PDS_VERSION</th>\n",
       "      <th>BUNDLE_ID_(IF_PDS4)</th>\n",
       "      <th>COLLECTION_ID_(IF_PDS4)</th>\n",
       "      <th>PRODUCT_LID_(IF_PDS4)</th>\n",
       "      <th>PRODUCT_TITLE_(IF_PDS4)</th>\n",
       "      <th>ORBITAL_DATA_EXPLORER_PRODUCT_DISPLAY_LABEL</th>\n",
       "    </tr>\n",
       "  </thead>\n",
       "  <tbody>\n",
       "    <tr>\n",
       "      <th>370</th>\n",
       "      <td>MRO</td>\n",
       "      <td>HIRISE</td>\n",
       "      <td>Reduced Data Record with Embedded Map Projection</td>\n",
       "      <td>RDRV11</td>\n",
       "      <td>ESP_016430_2095_COLOR</td>\n",
       "      <td>2010-01-27 17:48:41.108</td>\n",
       "      <td>29.0630</td>\n",
       "      <td>72.7070</td>\n",
       "      <td>https://ode.rsl.wustl.edu/mars/indexproductpag...</td>\n",
       "      <td>https://ode.rsl.wustl.edu/mars/productfiles.as...</td>\n",
       "      <td>3</td>\n",
       "      <td></td>\n",
       "      <td></td>\n",
       "      <td></td>\n",
       "      <td></td>\n",
       "      <td>ESP_016430_2095_COLOR</td>\n",
       "    </tr>\n",
       "    <tr>\n",
       "      <th>371</th>\n",
       "      <td>MRO</td>\n",
       "      <td>HIRISE</td>\n",
       "      <td>Reduced Data Record with Embedded Map Projection</td>\n",
       "      <td>RDRV11</td>\n",
       "      <td>ESP_016430_2095_RED</td>\n",
       "      <td>2010-01-27 17:48:41.100</td>\n",
       "      <td>29.0610</td>\n",
       "      <td>72.6950</td>\n",
       "      <td>https://ode.rsl.wustl.edu/mars/indexproductpag...</td>\n",
       "      <td>https://ode.rsl.wustl.edu/mars/productfiles.as...</td>\n",
       "      <td>3</td>\n",
       "      <td></td>\n",
       "      <td></td>\n",
       "      <td></td>\n",
       "      <td></td>\n",
       "      <td>ESP_016430_2095_RED</td>\n",
       "    </tr>\n",
       "    <tr>\n",
       "      <th>372</th>\n",
       "      <td>MRO</td>\n",
       "      <td>HIRISE</td>\n",
       "      <td>Reduced Data Record with Embedded Map Projection</td>\n",
       "      <td>RDRV11</td>\n",
       "      <td>ESP_017208_2100_COLOR</td>\n",
       "      <td>2010-03-29 08:45:01.025</td>\n",
       "      <td>29.5820</td>\n",
       "      <td>72.9020</td>\n",
       "      <td>https://ode.rsl.wustl.edu/mars/indexproductpag...</td>\n",
       "      <td>https://ode.rsl.wustl.edu/mars/productfiles.as...</td>\n",
       "      <td>3</td>\n",
       "      <td></td>\n",
       "      <td></td>\n",
       "      <td></td>\n",
       "      <td></td>\n",
       "      <td>ESP_017208_2100_COLOR</td>\n",
       "    </tr>\n",
       "    <tr>\n",
       "      <th>373</th>\n",
       "      <td>MRO</td>\n",
       "      <td>HIRISE</td>\n",
       "      <td>Reduced Data Record with Embedded Map Projection</td>\n",
       "      <td>RDRV11</td>\n",
       "      <td>ESP_017208_2100_RED</td>\n",
       "      <td>2010-03-29 08:45:01.008</td>\n",
       "      <td>29.5820</td>\n",
       "      <td>72.9020</td>\n",
       "      <td>https://ode.rsl.wustl.edu/mars/indexproductpag...</td>\n",
       "      <td>https://ode.rsl.wustl.edu/mars/productfiles.as...</td>\n",
       "      <td>3</td>\n",
       "      <td></td>\n",
       "      <td></td>\n",
       "      <td></td>\n",
       "      <td></td>\n",
       "      <td>ESP_017208_2100_RED</td>\n",
       "    </tr>\n",
       "    <tr>\n",
       "      <th>374</th>\n",
       "      <td>MRO</td>\n",
       "      <td>HIRISE</td>\n",
       "      <td>Reduced Data Record with Embedded Map Projection</td>\n",
       "      <td>RDRV11</td>\n",
       "      <td>ESP_017564_2090_COLOR</td>\n",
       "      <td>2010-04-26 02:31:37.402</td>\n",
       "      <td>28.9130</td>\n",
       "      <td>72.9210</td>\n",
       "      <td>https://ode.rsl.wustl.edu/mars/indexproductpag...</td>\n",
       "      <td>https://ode.rsl.wustl.edu/mars/productfiles.as...</td>\n",
       "      <td>3</td>\n",
       "      <td></td>\n",
       "      <td></td>\n",
       "      <td></td>\n",
       "      <td></td>\n",
       "      <td>ESP_017564_2090_COLOR</td>\n",
       "    </tr>\n",
       "    <tr>\n",
       "      <th>375</th>\n",
       "      <td>MRO</td>\n",
       "      <td>HIRISE</td>\n",
       "      <td>Reduced Data Record with Embedded Map Projection</td>\n",
       "      <td>RDRV11</td>\n",
       "      <td>ESP_017564_2090_RED</td>\n",
       "      <td>2010-04-26 02:31:37.385</td>\n",
       "      <td>28.9130</td>\n",
       "      <td>72.9210</td>\n",
       "      <td>https://ode.rsl.wustl.edu/mars/indexproductpag...</td>\n",
       "      <td>https://ode.rsl.wustl.edu/mars/productfiles.as...</td>\n",
       "      <td>3</td>\n",
       "      <td></td>\n",
       "      <td></td>\n",
       "      <td></td>\n",
       "      <td></td>\n",
       "      <td>ESP_017564_2090_RED</td>\n",
       "    </tr>\n",
       "    <tr>\n",
       "      <th>376</th>\n",
       "      <td>MRO</td>\n",
       "      <td>HIRISE</td>\n",
       "      <td>Reduced Data Record with Embedded Map Projection</td>\n",
       "      <td>RDRV11</td>\n",
       "      <td>ESP_019120_2095_COLOR</td>\n",
       "      <td>2010-08-25 08:27:38.265</td>\n",
       "      <td>29.0680</td>\n",
       "      <td>72.7030</td>\n",
       "      <td>https://ode.rsl.wustl.edu/mars/indexproductpag...</td>\n",
       "      <td>https://ode.rsl.wustl.edu/mars/productfiles.as...</td>\n",
       "      <td>3</td>\n",
       "      <td></td>\n",
       "      <td></td>\n",
       "      <td></td>\n",
       "      <td></td>\n",
       "      <td>ESP_019120_2095_COLOR</td>\n",
       "    </tr>\n",
       "    <tr>\n",
       "      <th>377</th>\n",
       "      <td>MRO</td>\n",
       "      <td>HIRISE</td>\n",
       "      <td>Reduced Data Record with Embedded Map Projection</td>\n",
       "      <td>RDRV11</td>\n",
       "      <td>ESP_019120_2095_RED</td>\n",
       "      <td>2010-08-25 08:27:38.260</td>\n",
       "      <td>29.0680</td>\n",
       "      <td>72.7030</td>\n",
       "      <td>https://ode.rsl.wustl.edu/mars/indexproductpag...</td>\n",
       "      <td>https://ode.rsl.wustl.edu/mars/productfiles.as...</td>\n",
       "      <td>3</td>\n",
       "      <td></td>\n",
       "      <td></td>\n",
       "      <td></td>\n",
       "      <td></td>\n",
       "      <td>ESP_019120_2095_RED</td>\n",
       "    </tr>\n",
       "    <tr>\n",
       "      <th>378</th>\n",
       "      <td>MRO</td>\n",
       "      <td>HIRISE</td>\n",
       "      <td>Reduced Data Record with Embedded Map Projection</td>\n",
       "      <td>RDRV11</td>\n",
       "      <td>ESP_025779_2105_COLOR</td>\n",
       "      <td>2012-01-26 05:30:08.287</td>\n",
       "      <td>29.4060</td>\n",
       "      <td>72.5620</td>\n",
       "      <td>https://ode.rsl.wustl.edu/mars/indexproductpag...</td>\n",
       "      <td>https://ode.rsl.wustl.edu/mars/productfiles.as...</td>\n",
       "      <td>3</td>\n",
       "      <td></td>\n",
       "      <td></td>\n",
       "      <td></td>\n",
       "      <td></td>\n",
       "      <td>ESP_025779_2105_COLOR</td>\n",
       "    </tr>\n",
       "    <tr>\n",
       "      <th>379</th>\n",
       "      <td>MRO</td>\n",
       "      <td>HIRISE</td>\n",
       "      <td>Reduced Data Record with Embedded Map Projection</td>\n",
       "      <td>RDRV11</td>\n",
       "      <td>ESP_025779_2105_RED</td>\n",
       "      <td>2012-01-26 05:30:08.283</td>\n",
       "      <td>29.4070</td>\n",
       "      <td>72.5680</td>\n",
       "      <td>https://ode.rsl.wustl.edu/mars/indexproductpag...</td>\n",
       "      <td>https://ode.rsl.wustl.edu/mars/productfiles.as...</td>\n",
       "      <td>3</td>\n",
       "      <td></td>\n",
       "      <td></td>\n",
       "      <td></td>\n",
       "      <td></td>\n",
       "      <td>ESP_025779_2105_RED</td>\n",
       "    </tr>\n",
       "    <tr>\n",
       "      <th>380</th>\n",
       "      <td>MRO</td>\n",
       "      <td>HIRISE</td>\n",
       "      <td>Reduced Data Record with Embedded Map Projection</td>\n",
       "      <td>RDRV11</td>\n",
       "      <td>ESP_026557_2100_COLOR</td>\n",
       "      <td>2012-03-26 20:26:39.216</td>\n",
       "      <td>29.5100</td>\n",
       "      <td>73.1260</td>\n",
       "      <td>https://ode.rsl.wustl.edu/mars/indexproductpag...</td>\n",
       "      <td>https://ode.rsl.wustl.edu/mars/productfiles.as...</td>\n",
       "      <td>3</td>\n",
       "      <td></td>\n",
       "      <td></td>\n",
       "      <td></td>\n",
       "      <td></td>\n",
       "      <td>ESP_026557_2100_COLOR</td>\n",
       "    </tr>\n",
       "    <tr>\n",
       "      <th>381</th>\n",
       "      <td>MRO</td>\n",
       "      <td>HIRISE</td>\n",
       "      <td>Reduced Data Record with Embedded Map Projection</td>\n",
       "      <td>RDRV11</td>\n",
       "      <td>ESP_026557_2100_RED</td>\n",
       "      <td>2012-03-26 20:26:39.212</td>\n",
       "      <td>29.5110</td>\n",
       "      <td>73.1320</td>\n",
       "      <td>https://ode.rsl.wustl.edu/mars/indexproductpag...</td>\n",
       "      <td>https://ode.rsl.wustl.edu/mars/productfiles.as...</td>\n",
       "      <td>3</td>\n",
       "      <td></td>\n",
       "      <td></td>\n",
       "      <td></td>\n",
       "      <td></td>\n",
       "      <td>ESP_026557_2100_RED</td>\n",
       "    </tr>\n",
       "    <tr>\n",
       "      <th>382</th>\n",
       "      <td>MRO</td>\n",
       "      <td>HIRISE</td>\n",
       "      <td>Reduced Data Record with Embedded Map Projection</td>\n",
       "      <td>RDRV11</td>\n",
       "      <td>ESP_044504_2095_COLOR</td>\n",
       "      <td>2016-01-24 06:18:38.534</td>\n",
       "      <td>29.0270</td>\n",
       "      <td>72.8060</td>\n",
       "      <td>https://ode.rsl.wustl.edu/mars/indexproductpag...</td>\n",
       "      <td>https://ode.rsl.wustl.edu/mars/productfiles.as...</td>\n",
       "      <td>3</td>\n",
       "      <td></td>\n",
       "      <td></td>\n",
       "      <td></td>\n",
       "      <td></td>\n",
       "      <td>ESP_044504_2095_COLOR</td>\n",
       "    </tr>\n",
       "    <tr>\n",
       "      <th>383</th>\n",
       "      <td>MRO</td>\n",
       "      <td>HIRISE</td>\n",
       "      <td>Reduced Data Record with Embedded Map Projection</td>\n",
       "      <td>RDRV11</td>\n",
       "      <td>ESP_044504_2095_RED</td>\n",
       "      <td>2016-01-24 06:18:38.530</td>\n",
       "      <td>29.0260</td>\n",
       "      <td>72.8110</td>\n",
       "      <td>https://ode.rsl.wustl.edu/mars/indexproductpag...</td>\n",
       "      <td>https://ode.rsl.wustl.edu/mars/productfiles.as...</td>\n",
       "      <td>3</td>\n",
       "      <td></td>\n",
       "      <td></td>\n",
       "      <td></td>\n",
       "      <td></td>\n",
       "      <td>ESP_044504_2095_RED</td>\n",
       "    </tr>\n",
       "    <tr>\n",
       "      <th>384</th>\n",
       "      <td>MRO</td>\n",
       "      <td>HIRISE</td>\n",
       "      <td>Reduced Data Record with Embedded Map Projection</td>\n",
       "      <td>RDRV11</td>\n",
       "      <td>ESP_044860_2095_COLOR</td>\n",
       "      <td>2016-02-20 23:56:20.471</td>\n",
       "      <td>29.0340</td>\n",
       "      <td>72.8020</td>\n",
       "      <td>https://ode.rsl.wustl.edu/mars/indexproductpag...</td>\n",
       "      <td>https://ode.rsl.wustl.edu/mars/productfiles.as...</td>\n",
       "      <td>3</td>\n",
       "      <td></td>\n",
       "      <td></td>\n",
       "      <td></td>\n",
       "      <td></td>\n",
       "      <td>ESP_044860_2095_COLOR</td>\n",
       "    </tr>\n",
       "    <tr>\n",
       "      <th>385</th>\n",
       "      <td>MRO</td>\n",
       "      <td>HIRISE</td>\n",
       "      <td>Reduced Data Record with Embedded Map Projection</td>\n",
       "      <td>RDRV11</td>\n",
       "      <td>ESP_044860_2095_RED</td>\n",
       "      <td>2016-02-20 23:56:20.467</td>\n",
       "      <td>29.0350</td>\n",
       "      <td>72.8080</td>\n",
       "      <td>https://ode.rsl.wustl.edu/mars/indexproductpag...</td>\n",
       "      <td>https://ode.rsl.wustl.edu/mars/productfiles.as...</td>\n",
       "      <td>3</td>\n",
       "      <td></td>\n",
       "      <td></td>\n",
       "      <td></td>\n",
       "      <td></td>\n",
       "      <td>ESP_044860_2095_RED</td>\n",
       "    </tr>\n",
       "    <tr>\n",
       "      <th>386</th>\n",
       "      <td>MRO</td>\n",
       "      <td>HIRISE</td>\n",
       "      <td>Reduced Data Record with Embedded Map Projection</td>\n",
       "      <td>RDRV11</td>\n",
       "      <td>ESP_049396_2095_RED</td>\n",
       "      <td>2017-02-08 11:06:50.365</td>\n",
       "      <td>29.0400</td>\n",
       "      <td>72.5140</td>\n",
       "      <td>https://ode.rsl.wustl.edu/mars/indexproductpag...</td>\n",
       "      <td>https://ode.rsl.wustl.edu/mars/productfiles.as...</td>\n",
       "      <td>3</td>\n",
       "      <td></td>\n",
       "      <td></td>\n",
       "      <td></td>\n",
       "      <td></td>\n",
       "      <td>ESP_049396_2095_RED</td>\n",
       "    </tr>\n",
       "    <tr>\n",
       "      <th>387</th>\n",
       "      <td>MRO</td>\n",
       "      <td>HIRISE</td>\n",
       "      <td>Reduced Data Record with Embedded Map Projection</td>\n",
       "      <td>RDRV11</td>\n",
       "      <td>PSP_004431_2095_RED</td>\n",
       "      <td>2007-07-07 17:22:25.759</td>\n",
       "      <td>29.1470</td>\n",
       "      <td>72.9770</td>\n",
       "      <td>https://ode.rsl.wustl.edu/mars/indexproductpag...</td>\n",
       "      <td>https://ode.rsl.wustl.edu/mars/productfiles.as...</td>\n",
       "      <td>3</td>\n",
       "      <td></td>\n",
       "      <td></td>\n",
       "      <td></td>\n",
       "      <td></td>\n",
       "      <td>PSP_004431_2095_RED</td>\n",
       "    </tr>\n",
       "    <tr>\n",
       "      <th>388</th>\n",
       "      <td>MRO</td>\n",
       "      <td>HIRISE</td>\n",
       "      <td>Reduced Data Record with Embedded Map Projection</td>\n",
       "      <td>RDRV11</td>\n",
       "      <td>PSP_005420_2095_COLOR</td>\n",
       "      <td>2007-09-22 18:55:51.659</td>\n",
       "      <td>29.1514</td>\n",
       "      <td>72.9765</td>\n",
       "      <td>https://ode.rsl.wustl.edu/mars/indexproductpag...</td>\n",
       "      <td>https://ode.rsl.wustl.edu/mars/productfiles.as...</td>\n",
       "      <td>3</td>\n",
       "      <td></td>\n",
       "      <td></td>\n",
       "      <td></td>\n",
       "      <td></td>\n",
       "      <td>PSP_005420_2095_COLOR</td>\n",
       "    </tr>\n",
       "    <tr>\n",
       "      <th>389</th>\n",
       "      <td>MRO</td>\n",
       "      <td>HIRISE</td>\n",
       "      <td>Reduced Data Record with Embedded Map Projection</td>\n",
       "      <td>RDRV11</td>\n",
       "      <td>PSP_005420_2095_RED</td>\n",
       "      <td>2007-09-22 18:55:51.641</td>\n",
       "      <td>29.1505</td>\n",
       "      <td>72.9766</td>\n",
       "      <td>https://ode.rsl.wustl.edu/mars/indexproductpag...</td>\n",
       "      <td>https://ode.rsl.wustl.edu/mars/productfiles.as...</td>\n",
       "      <td>3</td>\n",
       "      <td></td>\n",
       "      <td></td>\n",
       "      <td></td>\n",
       "      <td></td>\n",
       "      <td>PSP_005420_2095_RED</td>\n",
       "    </tr>\n",
       "  </tbody>\n",
       "</table>\n",
       "</div>"
      ],
      "text/plain": [
       "    INSTRUMENT_HOST_ID INSTRUMENT_ID  \\\n",
       "370                MRO        HIRISE   \n",
       "371                MRO        HIRISE   \n",
       "372                MRO        HIRISE   \n",
       "373                MRO        HIRISE   \n",
       "374                MRO        HIRISE   \n",
       "375                MRO        HIRISE   \n",
       "376                MRO        HIRISE   \n",
       "377                MRO        HIRISE   \n",
       "378                MRO        HIRISE   \n",
       "379                MRO        HIRISE   \n",
       "380                MRO        HIRISE   \n",
       "381                MRO        HIRISE   \n",
       "382                MRO        HIRISE   \n",
       "383                MRO        HIRISE   \n",
       "384                MRO        HIRISE   \n",
       "385                MRO        HIRISE   \n",
       "386                MRO        HIRISE   \n",
       "387                MRO        HIRISE   \n",
       "388                MRO        HIRISE   \n",
       "389                MRO        HIRISE   \n",
       "\n",
       "                                                 TYPE ODE_TYPE_ABBREVIATION  \\\n",
       "370  Reduced Data Record with Embedded Map Projection                RDRV11   \n",
       "371  Reduced Data Record with Embedded Map Projection                RDRV11   \n",
       "372  Reduced Data Record with Embedded Map Projection                RDRV11   \n",
       "373  Reduced Data Record with Embedded Map Projection                RDRV11   \n",
       "374  Reduced Data Record with Embedded Map Projection                RDRV11   \n",
       "375  Reduced Data Record with Embedded Map Projection                RDRV11   \n",
       "376  Reduced Data Record with Embedded Map Projection                RDRV11   \n",
       "377  Reduced Data Record with Embedded Map Projection                RDRV11   \n",
       "378  Reduced Data Record with Embedded Map Projection                RDRV11   \n",
       "379  Reduced Data Record with Embedded Map Projection                RDRV11   \n",
       "380  Reduced Data Record with Embedded Map Projection                RDRV11   \n",
       "381  Reduced Data Record with Embedded Map Projection                RDRV11   \n",
       "382  Reduced Data Record with Embedded Map Projection                RDRV11   \n",
       "383  Reduced Data Record with Embedded Map Projection                RDRV11   \n",
       "384  Reduced Data Record with Embedded Map Projection                RDRV11   \n",
       "385  Reduced Data Record with Embedded Map Projection                RDRV11   \n",
       "386  Reduced Data Record with Embedded Map Projection                RDRV11   \n",
       "387  Reduced Data Record with Embedded Map Projection                RDRV11   \n",
       "388  Reduced Data Record with Embedded Map Projection                RDRV11   \n",
       "389  Reduced Data Record with Embedded Map Projection                RDRV11   \n",
       "\n",
       "                PRODUCT_ID        OBSERVATION_TIME  \\\n",
       "370  ESP_016430_2095_COLOR 2010-01-27 17:48:41.108   \n",
       "371    ESP_016430_2095_RED 2010-01-27 17:48:41.100   \n",
       "372  ESP_017208_2100_COLOR 2010-03-29 08:45:01.025   \n",
       "373    ESP_017208_2100_RED 2010-03-29 08:45:01.008   \n",
       "374  ESP_017564_2090_COLOR 2010-04-26 02:31:37.402   \n",
       "375    ESP_017564_2090_RED 2010-04-26 02:31:37.385   \n",
       "376  ESP_019120_2095_COLOR 2010-08-25 08:27:38.265   \n",
       "377    ESP_019120_2095_RED 2010-08-25 08:27:38.260   \n",
       "378  ESP_025779_2105_COLOR 2012-01-26 05:30:08.287   \n",
       "379    ESP_025779_2105_RED 2012-01-26 05:30:08.283   \n",
       "380  ESP_026557_2100_COLOR 2012-03-26 20:26:39.216   \n",
       "381    ESP_026557_2100_RED 2012-03-26 20:26:39.212   \n",
       "382  ESP_044504_2095_COLOR 2016-01-24 06:18:38.534   \n",
       "383    ESP_044504_2095_RED 2016-01-24 06:18:38.530   \n",
       "384  ESP_044860_2095_COLOR 2016-02-20 23:56:20.471   \n",
       "385    ESP_044860_2095_RED 2016-02-20 23:56:20.467   \n",
       "386    ESP_049396_2095_RED 2017-02-08 11:06:50.365   \n",
       "387    PSP_004431_2095_RED 2007-07-07 17:22:25.759   \n",
       "388  PSP_005420_2095_COLOR 2007-09-22 18:55:51.659   \n",
       "389    PSP_005420_2095_RED 2007-09-22 18:55:51.641   \n",
       "\n",
       "     CENTER_LATITUDE_(IF_AVAILABLE)  CENTER_LONGITUDE_(IF_AVAILABLE)  \\\n",
       "370                         29.0630                          72.7070   \n",
       "371                         29.0610                          72.6950   \n",
       "372                         29.5820                          72.9020   \n",
       "373                         29.5820                          72.9020   \n",
       "374                         28.9130                          72.9210   \n",
       "375                         28.9130                          72.9210   \n",
       "376                         29.0680                          72.7030   \n",
       "377                         29.0680                          72.7030   \n",
       "378                         29.4060                          72.5620   \n",
       "379                         29.4070                          72.5680   \n",
       "380                         29.5100                          73.1260   \n",
       "381                         29.5110                          73.1320   \n",
       "382                         29.0270                          72.8060   \n",
       "383                         29.0260                          72.8110   \n",
       "384                         29.0340                          72.8020   \n",
       "385                         29.0350                          72.8080   \n",
       "386                         29.0400                          72.5140   \n",
       "387                         29.1470                          72.9770   \n",
       "388                         29.1514                          72.9765   \n",
       "389                         29.1505                          72.9766   \n",
       "\n",
       "                    ORBITAL_DATA_EXPLORER_PRODUCT_LINK  \\\n",
       "370  https://ode.rsl.wustl.edu/mars/indexproductpag...   \n",
       "371  https://ode.rsl.wustl.edu/mars/indexproductpag...   \n",
       "372  https://ode.rsl.wustl.edu/mars/indexproductpag...   \n",
       "373  https://ode.rsl.wustl.edu/mars/indexproductpag...   \n",
       "374  https://ode.rsl.wustl.edu/mars/indexproductpag...   \n",
       "375  https://ode.rsl.wustl.edu/mars/indexproductpag...   \n",
       "376  https://ode.rsl.wustl.edu/mars/indexproductpag...   \n",
       "377  https://ode.rsl.wustl.edu/mars/indexproductpag...   \n",
       "378  https://ode.rsl.wustl.edu/mars/indexproductpag...   \n",
       "379  https://ode.rsl.wustl.edu/mars/indexproductpag...   \n",
       "380  https://ode.rsl.wustl.edu/mars/indexproductpag...   \n",
       "381  https://ode.rsl.wustl.edu/mars/indexproductpag...   \n",
       "382  https://ode.rsl.wustl.edu/mars/indexproductpag...   \n",
       "383  https://ode.rsl.wustl.edu/mars/indexproductpag...   \n",
       "384  https://ode.rsl.wustl.edu/mars/indexproductpag...   \n",
       "385  https://ode.rsl.wustl.edu/mars/indexproductpag...   \n",
       "386  https://ode.rsl.wustl.edu/mars/indexproductpag...   \n",
       "387  https://ode.rsl.wustl.edu/mars/indexproductpag...   \n",
       "388  https://ode.rsl.wustl.edu/mars/indexproductpag...   \n",
       "389  https://ode.rsl.wustl.edu/mars/indexproductpag...   \n",
       "\n",
       "              ORBITAL_DATA_EXPLORER_PRODUCT_FILES_LINK  PDS_VERSION  \\\n",
       "370  https://ode.rsl.wustl.edu/mars/productfiles.as...            3   \n",
       "371  https://ode.rsl.wustl.edu/mars/productfiles.as...            3   \n",
       "372  https://ode.rsl.wustl.edu/mars/productfiles.as...            3   \n",
       "373  https://ode.rsl.wustl.edu/mars/productfiles.as...            3   \n",
       "374  https://ode.rsl.wustl.edu/mars/productfiles.as...            3   \n",
       "375  https://ode.rsl.wustl.edu/mars/productfiles.as...            3   \n",
       "376  https://ode.rsl.wustl.edu/mars/productfiles.as...            3   \n",
       "377  https://ode.rsl.wustl.edu/mars/productfiles.as...            3   \n",
       "378  https://ode.rsl.wustl.edu/mars/productfiles.as...            3   \n",
       "379  https://ode.rsl.wustl.edu/mars/productfiles.as...            3   \n",
       "380  https://ode.rsl.wustl.edu/mars/productfiles.as...            3   \n",
       "381  https://ode.rsl.wustl.edu/mars/productfiles.as...            3   \n",
       "382  https://ode.rsl.wustl.edu/mars/productfiles.as...            3   \n",
       "383  https://ode.rsl.wustl.edu/mars/productfiles.as...            3   \n",
       "384  https://ode.rsl.wustl.edu/mars/productfiles.as...            3   \n",
       "385  https://ode.rsl.wustl.edu/mars/productfiles.as...            3   \n",
       "386  https://ode.rsl.wustl.edu/mars/productfiles.as...            3   \n",
       "387  https://ode.rsl.wustl.edu/mars/productfiles.as...            3   \n",
       "388  https://ode.rsl.wustl.edu/mars/productfiles.as...            3   \n",
       "389  https://ode.rsl.wustl.edu/mars/productfiles.as...            3   \n",
       "\n",
       "    BUNDLE_ID_(IF_PDS4) COLLECTION_ID_(IF_PDS4) PRODUCT_LID_(IF_PDS4)  \\\n",
       "370                                                                     \n",
       "371                                                                     \n",
       "372                                                                     \n",
       "373                                                                     \n",
       "374                                                                     \n",
       "375                                                                     \n",
       "376                                                                     \n",
       "377                                                                     \n",
       "378                                                                     \n",
       "379                                                                     \n",
       "380                                                                     \n",
       "381                                                                     \n",
       "382                                                                     \n",
       "383                                                                     \n",
       "384                                                                     \n",
       "385                                                                     \n",
       "386                                                                     \n",
       "387                                                                     \n",
       "388                                                                     \n",
       "389                                                                     \n",
       "\n",
       "    PRODUCT_TITLE_(IF_PDS4) ORBITAL_DATA_EXPLORER_PRODUCT_DISPLAY_LABEL  \n",
       "370                                               ESP_016430_2095_COLOR  \n",
       "371                                                 ESP_016430_2095_RED  \n",
       "372                                               ESP_017208_2100_COLOR  \n",
       "373                                                 ESP_017208_2100_RED  \n",
       "374                                               ESP_017564_2090_COLOR  \n",
       "375                                                 ESP_017564_2090_RED  \n",
       "376                                               ESP_019120_2095_COLOR  \n",
       "377                                                 ESP_019120_2095_RED  \n",
       "378                                               ESP_025779_2105_COLOR  \n",
       "379                                                 ESP_025779_2105_RED  \n",
       "380                                               ESP_026557_2100_COLOR  \n",
       "381                                                 ESP_026557_2100_RED  \n",
       "382                                               ESP_044504_2095_COLOR  \n",
       "383                                                 ESP_044504_2095_RED  \n",
       "384                                               ESP_044860_2095_COLOR  \n",
       "385                                                 ESP_044860_2095_RED  \n",
       "386                                                 ESP_049396_2095_RED  \n",
       "387                                                 PSP_004431_2095_RED  \n",
       "388                                               PSP_005420_2095_COLOR  \n",
       "389                                                 PSP_005420_2095_RED  "
      ]
     },
     "execution_count": 3,
     "metadata": {},
     "output_type": "execute_result"
    }
   ],
   "source": [
    "df = pd.read_json(ode_results)\n",
    "df"
   ]
  },
  {
   "cell_type": "markdown",
   "metadata": {},
   "source": [
    "## Define query function and test-query the API"
   ]
  },
  {
   "cell_type": "code",
   "execution_count": 4,
   "metadata": {},
   "outputs": [
    {
     "data": {
      "text/plain": [
       "'ESP_016430_2095_COLOR'"
      ]
     },
     "execution_count": 4,
     "metadata": {},
     "output_type": "execute_result"
    }
   ],
   "source": [
    "PID = df['PRODUCT_ID'].iloc[0]\n",
    "PID"
   ]
  },
  {
   "cell_type": "code",
   "execution_count": 5,
   "metadata": {},
   "outputs": [],
   "source": [
    "import ode\n",
    "from ode import request_product\n",
    "\n",
    "api_endpoint = ode.API_URL"
   ]
  },
  {
   "cell_type": "code",
   "execution_count": 6,
   "metadata": {},
   "outputs": [
    {
     "data": {
      "text/plain": [
       "<Response [200]>"
      ]
     },
     "execution_count": 6,
     "metadata": {},
     "output_type": "execute_result"
    }
   ],
   "source": [
    "req = request_product(PID, api_endpoint)\n",
    "req"
   ]
  },
  {
   "cell_type": "code",
   "execution_count": 7,
   "metadata": {},
   "outputs": [
    {
     "data": {
      "text/plain": [
       "{'ODEResults': {'Products': {'Product': {'BB_georeferenced': 'True',\n",
       "    'Center_georeferenced': 'True',\n",
       "    'Center_latitude': '29.063',\n",
       "    'Center_longitude': '72.707',\n",
       "    'Comment': 'Well-exposed layered deposits in Nilosyrtis Mensae region',\n",
       "    'Data_Set_Id': 'MRO-M-HIRISE-3-RDR-V1.1',\n",
       "    'Description': 'HiRISE projected and mosaicked product  HiRISE RDR V1.1 files has map projection data embedded in the header - please see SIS for more details.',\n",
       "    'Easternmost_longitude': '72.74',\n",
       "    'Emission_angle': '0.345931',\n",
       "    'External_url': 'http://www.uahirise.org/ESP_016430_2095',\n",
       "    'External_url2': 'jpip://hijpip.lpl.arizona.edu:8064/PDS/RDR/ESP/ORB_016400_016499/ESP_016430_2095/ESP_016430_2095_COLOR.JP2',\n",
       "    'FilesURL': 'http://ode.rsl.wustl.edu/mars/productfiles.aspx?product_id=ESP_016430_2095_COLOR&product_idGeo=13841579',\n",
       "    'Footprint_C0_geometry': 'POLYGON ((72.74 28.822, 72.717 28.82, 72.65 29.3, 72.673 29.303, 72.74 28.822))',\n",
       "    'Footprint_geometry': 'POLYGON ((72.74 28.822, 72.717 28.82, 72.65 29.3, 72.673 29.303, 72.74 28.822))',\n",
       "    'Footprint_GL_geometry': 'POLYGON ((72.74 28.822, 72.717 28.82, 72.65 29.3, 72.673 29.303, 72.74 28.822))',\n",
       "    'Footprint_NP_geometry': 'MULTIPOLYGON EMPTY',\n",
       "    'Footprint_souce': 'PDS Archive Index Table',\n",
       "    'Footprint_SP_geometry': 'MULTIPOLYGON EMPTY',\n",
       "    'Footprints_cross_meridian': 'False',\n",
       "    'ihid': 'MRO',\n",
       "    'iid': 'HIRISE',\n",
       "    'Incidence_angle': '40.281507',\n",
       "    'LabelFileName': 'esp_016430_2095_color.lbl',\n",
       "    'LabelURL': 'https://hirise.lpl.arizona.edu/PDS/RDR/ESP/ORB_016400_016499/ESP_016430_2095/ESP_016430_2095_COLOR.LBL',\n",
       "    'Map_resolution': '118423.85738967',\n",
       "    'Map_scale': '0.5',\n",
       "    'Maximum_latitude': '29.303',\n",
       "    'Minimum_latitude': '28.82',\n",
       "    'Observation_id': 'ESP_016430_2095',\n",
       "    'Observation_time': '2010-01-27T17:48:41.108',\n",
       "    'ODE_notes': {'ODE_note': ['NOTE: Product Type set by ODE',\n",
       "      'NOTE: Label keyword Orbit number value used for start orbit number value',\n",
       "      'NOTE: Label keyword Orbit number value used for stop orbit number value',\n",
       "      'NOTE: Map Resolution set from label map projection object',\n",
       "      'NOTE: Map scale from the label map projection object',\n",
       "      'NOTE: Observation time set to mid-point between start time and stop time',\n",
       "      'NOTE: Index Record:',\n",
       "      '\"MROHR_0001\",\"RDR/ESP/ORB_016400_016499/ESP_016430_2095/ESP_016430_2095_COLOR.JP2\",\"MRO\",\"HIRISE\",\"ESP_016430_2095\",\"ESP_016430_2095_COLOR\",\"1  \",\"MARS                            \", 16430,\"Extended Science Phase        \",\"Well-exposed layered deposits in Nilosyrtis Mensae region                  \",\"2010-01-27T17:48:36     \",\"949081747:07341 \",\"2010-01-27T17:48:36     \",\"949081747:10609 \",\"2010-01-27T17:48:45     \",\"949081756:30193 \", 57220,  9566, 0.31098,40.2813, 40.3320, 286.907,3677.37, 286.897,  270.0000,  172.4916,   17.0999,   30.6119,   29.0837,   72.6959,   1.64696,    43.691,   14.8056,\"YES\",   28.8145,   29.3070,   72.6062,   72.7833, 0.50,118423.859,\"EQUIRECTANGULAR    \", 25.0, 180.000,   3470079.5,  11521670.0,   28.8218,   72.7395,   28.8195,   72.7172,   29.3003,   72.6503,   29.3026,   72.6727',\n",
       "      'NOTE: HIRISE location data updated from index table entry']},\n",
       "    'pdsid': 'ESP_016430_2095_COLOR',\n",
       "    'PDSVolume_Id': 'MROHR_0001',\n",
       "    'Phase_angle': '40.333961',\n",
       "    'Pole_state': 'none',\n",
       "    'Producer_id': 'UA',\n",
       "    'Product_creation_time': '2010-02-12T07:25:48.000',\n",
       "    'Product_files': {'Product_file': [{'Description': 'MAP PROJECTION FILE',\n",
       "       'FileName': 'DSMAP.CAT',\n",
       "       'KBytes': '7',\n",
       "       'Type': 'Referenced',\n",
       "       'URL': 'https://hirise.lpl.arizona.edu/PDS/CATALOG/DSMAP.CAT'},\n",
       "      {'Description': 'ANNOTATED BROWSE',\n",
       "       'FileName': 'ESP_016430_2095_COLOR.ABROWSE.JPG',\n",
       "       'KBytes': '647',\n",
       "       'Type': 'Browse',\n",
       "       'URL': 'https://hirise.lpl.arizona.edu/PDS/EXTRAS/RDR/ESP/ORB_016400_016499/ESP_016430_2095/ESP_016430_2095_COLOR.abrowse.jpg'},\n",
       "      {'Description': 'BROWSE',\n",
       "       'FileName': 'ESP_016430_2095_COLOR.BROWSE.JPG',\n",
       "       'KBytes': '704',\n",
       "       'Type': 'Browse',\n",
       "       'URL': 'https://hirise.lpl.arizona.edu/PDS/EXTRAS/RDR/ESP/ORB_016400_016499/ESP_016430_2095/ESP_016430_2095_COLOR.browse.jpg'},\n",
       "      {'Description': 'PRODUCT DATA FILE',\n",
       "       'FileName': 'ESP_016430_2095_COLOR.JP2',\n",
       "       'KBytes': '251882',\n",
       "       'Type': 'Product',\n",
       "       'URL': 'https://hirise.lpl.arizona.edu/PDS/RDR/ESP/ORB_016400_016499/ESP_016430_2095/ESP_016430_2095_COLOR.JP2'},\n",
       "      {'Description': 'PRODUCT LABEL FILE',\n",
       "       'FileName': 'ESP_016430_2095_COLOR.LBL',\n",
       "       'KBytes': '8',\n",
       "       'Type': 'Product',\n",
       "       'URL': 'https://hirise.lpl.arizona.edu/PDS/RDR/ESP/ORB_016400_016499/ESP_016430_2095/ESP_016430_2095_COLOR.LBL'},\n",
       "      {'Description': 'QUICKLOOK JP2',\n",
       "       'FileName': 'ESP_016430_2095_COLOR.QLOOK.JP2',\n",
       "       'KBytes': '125618',\n",
       "       'Type': 'Browse',\n",
       "       'URL': 'https://hirise.lpl.arizona.edu/PDS/EXTRAS/RDR/ESP/ORB_016400_016499/ESP_016430_2095/ESP_016430_2095_COLOR.QLOOK.JP2'},\n",
       "      {'Description': 'THUMBNAIL',\n",
       "       'FileName': 'ESP_016430_2095_COLOR.THUMB.JPG',\n",
       "       'KBytes': '204',\n",
       "       'Type': 'Browse',\n",
       "       'URL': 'https://hirise.lpl.arizona.edu/PDS/EXTRAS/RDR/ESP/ORB_016400_016499/ESP_016430_2095/ESP_016430_2095_COLOR.thumb.jpg'},\n",
       "      {'Creation_date': '2015-10-19T04:24:13.456',\n",
       "       'Description': 'PRODUCT KML FILE <A HREF=\"PAGEHELP/QUICKSTARTGUIDE/ABOUTFOOTPRINTS.HTM\" TARGET=\"_BLANK\">HELP</A>',\n",
       "       'FileName': 'ESP_016430_2095_COLOR_LBL.KML',\n",
       "       'KBytes': '3',\n",
       "       'Type': 'Derived',\n",
       "       'URL': 'http://ode.rsl.wustl.edu/mars/datafile/kmlfiles/mro-m-hirise-3-rdr-v11/mrohr_0001/rdr/esp/orb_016400_016499/esp_016430_2095/esp_016430_2095_color_lbl.kml'},\n",
       "      {'Creation_date': '2015-10-19T04:24:13.292',\n",
       "       'Description': 'PRODUCT FOOTPRINT SHAPEFILES (TAR.GZ) <A HREF=\"PAGEHELP/QUICKSTARTGUIDE/ABOUTFOOTPRINTS.HTM\" TARGET=\"_BLANK\">HELP</A>',\n",
       "       'FileName': 'ESP_016430_2095_COLOR_LBL.TAR.GZ',\n",
       "       'KBytes': '3',\n",
       "       'Type': 'Derived',\n",
       "       'URL': 'http://ode.rsl.wustl.edu/mars/datafile/shapefiles/mro-m-hirise-3-rdr-v11/mrohr_0001/rdr/esp/orb_016400_016499/esp_016430_2095/esp_016430_2095_color_lbl.tar.gz'},\n",
       "      {'Creation_date': '2015-10-19T04:24:13.148',\n",
       "       'Description': 'PRODUCT FOOTPRINT SHAPEFILES (ZIP) <A HREF=\"PAGEHELP/QUICKSTARTGUIDE/ABOUTFOOTPRINTS.HTM\" TARGET=\"_BLANK\">HELP</A>',\n",
       "       'FileName': 'ESP_016430_2095_COLOR_LBL.ZIP',\n",
       "       'KBytes': '26',\n",
       "       'Type': 'Derived',\n",
       "       'URL': 'http://ode.rsl.wustl.edu/mars/datafile/shapefiles/mro-m-hirise-3-rdr-v11/mrohr_0001/rdr/esp/orb_016400_016499/esp_016430_2095/esp_016430_2095_color_lbl.zip'},\n",
       "      {'Description': 'IRB BROWSE',\n",
       "       'FileName': 'ESP_016430_2095_IRB.NOMAP.BROWSE.JPG',\n",
       "       'KBytes': '2475',\n",
       "       'Type': 'Browse',\n",
       "       'URL': 'https://hirise.lpl.arizona.edu/PDS/EXTRAS/RDR/ESP/ORB_016400_016499/ESP_016430_2095/ESP_016430_2095_IRB.NOMAP.browse.jpg'},\n",
       "      {'Description': 'IRB JP2',\n",
       "       'FileName': 'ESP_016430_2095_IRB.NOMAP.JP2',\n",
       "       'KBytes': '228702',\n",
       "       'Type': 'Browse',\n",
       "       'URL': 'https://hirise.lpl.arizona.edu/PDS/EXTRAS/RDR/ESP/ORB_016400_016499/ESP_016430_2095/ESP_016430_2095_IRB.NOMAP.JP2'},\n",
       "      {'Description': 'IRB THUMBNAIL',\n",
       "       'FileName': 'ESP_016430_2095_IRB.NOMAP.THUMB.JPG',\n",
       "       'KBytes': '166',\n",
       "       'Type': 'Browse',\n",
       "       'URL': 'https://hirise.lpl.arizona.edu/PDS/EXTRAS/RDR/ESP/ORB_016400_016499/ESP_016430_2095/ESP_016430_2095_IRB.NOMAP.thumb.jpg'},\n",
       "      {'Description': 'ANNOTATED MERGED IRB BROWSE',\n",
       "       'FileName': 'ESP_016430_2095_MIRB.ABROWSE.JPG',\n",
       "       'KBytes': '2844',\n",
       "       'Type': 'Browse',\n",
       "       'URL': 'https://hirise.lpl.arizona.edu/PDS/EXTRAS/RDR/ESP/ORB_016400_016499/ESP_016430_2095/ESP_016430_2095_MIRB.abrowse.jpg'},\n",
       "      {'Description': 'MERGED IRB BROWSE',\n",
       "       'FileName': 'ESP_016430_2095_MIRB.BROWSE.JPG',\n",
       "       'KBytes': '3024',\n",
       "       'Type': 'Browse',\n",
       "       'URL': 'https://hirise.lpl.arizona.edu/PDS/EXTRAS/RDR/ESP/ORB_016400_016499/ESP_016430_2095/ESP_016430_2095_MIRB.browse.jpg'},\n",
       "      {'Description': 'MERGED IRB JP2',\n",
       "       'FileName': 'ESP_016430_2095_MIRB.JP2',\n",
       "       'KBytes': '501090',\n",
       "       'Type': 'Browse',\n",
       "       'URL': 'https://hirise.lpl.arizona.edu/PDS/EXTRAS/RDR/ESP/ORB_016400_016499/ESP_016430_2095/ESP_016430_2095_MIRB.JP2'},\n",
       "      {'Description': 'MERGED IRB LABEL',\n",
       "       'FileName': 'ESP_016430_2095_MIRB.LBL',\n",
       "       'KBytes': '9',\n",
       "       'Type': 'Browse',\n",
       "       'URL': 'https://hirise.lpl.arizona.edu/PDS/EXTRAS/RDR/ESP/ORB_016400_016499/ESP_016430_2095/ESP_016430_2095_MIRB.LBL'},\n",
       "      {'Description': 'MERGED IRB THUMBNAIL',\n",
       "       'FileName': 'ESP_016430_2095_MIRB.THUMB.JPG',\n",
       "       'KBytes': '211',\n",
       "       'Type': 'Browse',\n",
       "       'URL': 'https://hirise.lpl.arizona.edu/PDS/EXTRAS/RDR/ESP/ORB_016400_016499/ESP_016430_2095/ESP_016430_2095_MIRB.thumb.jpg'},\n",
       "      {'Description': 'ANNOTATED MERGED RGB BROWSE',\n",
       "       'FileName': 'ESP_016430_2095_MRGB.ABROWSE.JPG',\n",
       "       'KBytes': '2887',\n",
       "       'Type': 'Browse',\n",
       "       'URL': 'https://hirise.lpl.arizona.edu/PDS/EXTRAS/RDR/ESP/ORB_016400_016499/ESP_016430_2095/ESP_016430_2095_MRGB.abrowse.jpg'},\n",
       "      {'Description': 'MERGED RGB BROWSE',\n",
       "       'FileName': 'ESP_016430_2095_MRGB.BROWSE.JPG',\n",
       "       'KBytes': '3073',\n",
       "       'Type': 'Browse',\n",
       "       'URL': 'https://hirise.lpl.arizona.edu/PDS/EXTRAS/RDR/ESP/ORB_016400_016499/ESP_016430_2095/ESP_016430_2095_MRGB.browse.jpg'},\n",
       "      {'Description': 'MERGED RGB JP2',\n",
       "       'FileName': 'ESP_016430_2095_MRGB.JP2',\n",
       "       'KBytes': '473949',\n",
       "       'Type': 'Browse',\n",
       "       'URL': 'https://hirise.lpl.arizona.edu/PDS/EXTRAS/RDR/ESP/ORB_016400_016499/ESP_016430_2095/ESP_016430_2095_MRGB.JP2'},\n",
       "      {'Description': 'MERGED RGB LABEL',\n",
       "       'FileName': 'ESP_016430_2095_MRGB.LBL',\n",
       "       'KBytes': '9',\n",
       "       'Type': 'Browse',\n",
       "       'URL': 'https://hirise.lpl.arizona.edu/PDS/EXTRAS/RDR/ESP/ORB_016400_016499/ESP_016430_2095/ESP_016430_2095_MRGB.LBL'},\n",
       "      {'Description': 'MERGED RGB THUMBNAIL',\n",
       "       'FileName': 'ESP_016430_2095_MRGB.THUMB.JPG',\n",
       "       'KBytes': '214',\n",
       "       'Type': 'Browse',\n",
       "       'URL': 'https://hirise.lpl.arizona.edu/PDS/EXTRAS/RDR/ESP/ORB_016400_016499/ESP_016430_2095/ESP_016430_2095_MRGB.thumb.jpg'},\n",
       "      {'Description': 'RGB BROWSE',\n",
       "       'FileName': 'ESP_016430_2095_RGB.NOMAP.BROWSE.JPG',\n",
       "       'KBytes': '2262',\n",
       "       'Type': 'Browse',\n",
       "       'URL': 'https://hirise.lpl.arizona.edu/PDS/EXTRAS/RDR/ESP/ORB_016400_016499/ESP_016430_2095/ESP_016430_2095_RGB.NOMAP.browse.jpg'},\n",
       "      {'Description': 'RGB JP2',\n",
       "       'FileName': 'ESP_016430_2095_RGB.NOMAP.JP2',\n",
       "       'KBytes': '218485',\n",
       "       'Type': 'Browse',\n",
       "       'URL': 'https://hirise.lpl.arizona.edu/PDS/EXTRAS/RDR/ESP/ORB_016400_016499/ESP_016430_2095/ESP_016430_2095_RGB.NOMAP.JP2'},\n",
       "      {'Description': 'RGB THUMBNAIL',\n",
       "       'FileName': 'ESP_016430_2095_RGB.NOMAP.THUMB.JPG',\n",
       "       'KBytes': '151',\n",
       "       'Type': 'Browse',\n",
       "       'URL': 'https://hirise.lpl.arizona.edu/PDS/EXTRAS/RDR/ESP/ORB_016400_016499/ESP_016430_2095/ESP_016430_2095_RGB.NOMAP.thumb.jpg'},\n",
       "      {'Description': 'DESCRIPTION FILE',\n",
       "       'FileName': 'JP2INFO.TXT',\n",
       "       'KBytes': '9',\n",
       "       'Type': 'Referenced',\n",
       "       'URL': 'https://hirise.lpl.arizona.edu/PDS/DOCUMENT/JP2INFO.TXT'}]},\n",
       "    'Product_version_id': '1.0',\n",
       "    'ProductURL': 'http://ode.rsl.wustl.edu/mars/indexproductpage.aspx?product_id=ESP_016430_2095_COLOR&product_idGeo=13841579',\n",
       "    'pt': 'RDRV11',\n",
       "    'RelativePathtoVol': 'rdr\\\\esp\\\\orb_016400_016499\\\\esp_016430_2095\\\\',\n",
       "    'Solar_longitude': '43.690602',\n",
       "    'Solar_time': '14.80555',\n",
       "    'SpaceCraft_clock_start_count': '949081747:10609',\n",
       "    'SpaceCraft_clock_stop_count': '949081756:30193',\n",
       "    'Start_orbit_number': '16430',\n",
       "    'Stop_orbit_number': '16430',\n",
       "    'Target_name': 'MARS',\n",
       "    'UTC_start_time': '2010-01-27T17:48:36.431',\n",
       "    'UTC_stop_time': '2010-01-27T17:48:45.785',\n",
       "    'Westernmost_longitude': '72.65'}},\n",
       "  'QuerySummary': {'Date': '2020-09-02T09:33:48.170',\n",
       "   'output': 'JSON',\n",
       "   'productId': 'ESP_016430_2095_COLOR',\n",
       "   'query': 'PRODUCT',\n",
       "   'Query_Elapsed_Time': '00:00:00.0156334',\n",
       "   'results': 'FMP'},\n",
       "  'Status': 'Success'}}"
      ]
     },
     "execution_count": 7,
     "metadata": {},
     "output_type": "execute_result"
    }
   ],
   "source": [
    "# Response:\n",
    "req.json()"
   ]
  },
  {
   "cell_type": "markdown",
   "metadata": {},
   "source": [
    "### Read Product files of interest\n",
    "\n",
    "Inspecting this output we recognize the fields of interest as:\n",
    "* ODEResults\n",
    "  * Products\n",
    "    * Product\n",
    "      * Product_files\n",
    "        * Product_file: [\n",
    "          * 'Description' field match 'PRODUCT DATA FILE'\n",
    "              * URL\n",
    "          * 'Description' field match 'PRODUCT LABEL FILE'\n",
    "              * URL\n",
    "          * 'Description' field match 'BROWSE'\n",
    "              * URL\n",
    "          * 'Description' field match 'THUMBNAIL'\n",
    "              * URL\n",
    "        * ]"
   ]
  },
  {
   "cell_type": "markdown",
   "metadata": {},
   "source": [
    "PRODUCT DATA FILE### Product descriptors\n",
    "\n",
    "Product files are mapped as:\n",
    "```\n",
    "DESCRIPTORS = {\n",
    "    'product_image': ('Description', 'PRODUCT DATA FILE'),\n",
    "    'product_label': ('Description', 'PRODUCT LABEL FILE'),\n",
    "    'browse_image': ('Description', 'BROWSE'),\n",
    "    'browse_thumbnail': ('Description', 'THUMBNAIL')\n",
    "}\n",
    "```"
   ]
  },
  {
   "cell_type": "code",
   "execution_count": 8,
   "metadata": {},
   "outputs": [],
   "source": [
    "# import importlib\n",
    "# importlib.reload(ode)"
   ]
  },
  {
   "cell_type": "code",
   "execution_count": 9,
   "metadata": {},
   "outputs": [
    {
     "data": {
      "text/plain": [
       "[{'Description': 'MAP PROJECTION FILE',\n",
       "  'FileName': 'DSMAP.CAT',\n",
       "  'KBytes': '7',\n",
       "  'Type': 'Referenced',\n",
       "  'URL': 'https://hirise.lpl.arizona.edu/PDS/CATALOG/DSMAP.CAT'},\n",
       " {'Description': 'ANNOTATED BROWSE',\n",
       "  'FileName': 'ESP_016430_2095_COLOR.ABROWSE.JPG',\n",
       "  'KBytes': '647',\n",
       "  'Type': 'Browse',\n",
       "  'URL': 'https://hirise.lpl.arizona.edu/PDS/EXTRAS/RDR/ESP/ORB_016400_016499/ESP_016430_2095/ESP_016430_2095_COLOR.abrowse.jpg'},\n",
       " {'Description': 'BROWSE',\n",
       "  'FileName': 'ESP_016430_2095_COLOR.BROWSE.JPG',\n",
       "  'KBytes': '704',\n",
       "  'Type': 'Browse',\n",
       "  'URL': 'https://hirise.lpl.arizona.edu/PDS/EXTRAS/RDR/ESP/ORB_016400_016499/ESP_016430_2095/ESP_016430_2095_COLOR.browse.jpg'},\n",
       " {'Description': 'PRODUCT DATA FILE',\n",
       "  'FileName': 'ESP_016430_2095_COLOR.JP2',\n",
       "  'KBytes': '251882',\n",
       "  'Type': 'Product',\n",
       "  'URL': 'https://hirise.lpl.arizona.edu/PDS/RDR/ESP/ORB_016400_016499/ESP_016430_2095/ESP_016430_2095_COLOR.JP2'},\n",
       " {'Description': 'PRODUCT LABEL FILE',\n",
       "  'FileName': 'ESP_016430_2095_COLOR.LBL',\n",
       "  'KBytes': '8',\n",
       "  'Type': 'Product',\n",
       "  'URL': 'https://hirise.lpl.arizona.edu/PDS/RDR/ESP/ORB_016400_016499/ESP_016430_2095/ESP_016430_2095_COLOR.LBL'},\n",
       " {'Description': 'QUICKLOOK JP2',\n",
       "  'FileName': 'ESP_016430_2095_COLOR.QLOOK.JP2',\n",
       "  'KBytes': '125618',\n",
       "  'Type': 'Browse',\n",
       "  'URL': 'https://hirise.lpl.arizona.edu/PDS/EXTRAS/RDR/ESP/ORB_016400_016499/ESP_016430_2095/ESP_016430_2095_COLOR.QLOOK.JP2'},\n",
       " {'Description': 'THUMBNAIL',\n",
       "  'FileName': 'ESP_016430_2095_COLOR.THUMB.JPG',\n",
       "  'KBytes': '204',\n",
       "  'Type': 'Browse',\n",
       "  'URL': 'https://hirise.lpl.arizona.edu/PDS/EXTRAS/RDR/ESP/ORB_016400_016499/ESP_016430_2095/ESP_016430_2095_COLOR.thumb.jpg'},\n",
       " {'Creation_date': '2015-10-19T04:24:13.456',\n",
       "  'Description': 'PRODUCT KML FILE <A HREF=\"PAGEHELP/QUICKSTARTGUIDE/ABOUTFOOTPRINTS.HTM\" TARGET=\"_BLANK\">HELP</A>',\n",
       "  'FileName': 'ESP_016430_2095_COLOR_LBL.KML',\n",
       "  'KBytes': '3',\n",
       "  'Type': 'Derived',\n",
       "  'URL': 'http://ode.rsl.wustl.edu/mars/datafile/kmlfiles/mro-m-hirise-3-rdr-v11/mrohr_0001/rdr/esp/orb_016400_016499/esp_016430_2095/esp_016430_2095_color_lbl.kml'},\n",
       " {'Creation_date': '2015-10-19T04:24:13.292',\n",
       "  'Description': 'PRODUCT FOOTPRINT SHAPEFILES (TAR.GZ) <A HREF=\"PAGEHELP/QUICKSTARTGUIDE/ABOUTFOOTPRINTS.HTM\" TARGET=\"_BLANK\">HELP</A>',\n",
       "  'FileName': 'ESP_016430_2095_COLOR_LBL.TAR.GZ',\n",
       "  'KBytes': '3',\n",
       "  'Type': 'Derived',\n",
       "  'URL': 'http://ode.rsl.wustl.edu/mars/datafile/shapefiles/mro-m-hirise-3-rdr-v11/mrohr_0001/rdr/esp/orb_016400_016499/esp_016430_2095/esp_016430_2095_color_lbl.tar.gz'},\n",
       " {'Creation_date': '2015-10-19T04:24:13.148',\n",
       "  'Description': 'PRODUCT FOOTPRINT SHAPEFILES (ZIP) <A HREF=\"PAGEHELP/QUICKSTARTGUIDE/ABOUTFOOTPRINTS.HTM\" TARGET=\"_BLANK\">HELP</A>',\n",
       "  'FileName': 'ESP_016430_2095_COLOR_LBL.ZIP',\n",
       "  'KBytes': '26',\n",
       "  'Type': 'Derived',\n",
       "  'URL': 'http://ode.rsl.wustl.edu/mars/datafile/shapefiles/mro-m-hirise-3-rdr-v11/mrohr_0001/rdr/esp/orb_016400_016499/esp_016430_2095/esp_016430_2095_color_lbl.zip'},\n",
       " {'Description': 'IRB BROWSE',\n",
       "  'FileName': 'ESP_016430_2095_IRB.NOMAP.BROWSE.JPG',\n",
       "  'KBytes': '2475',\n",
       "  'Type': 'Browse',\n",
       "  'URL': 'https://hirise.lpl.arizona.edu/PDS/EXTRAS/RDR/ESP/ORB_016400_016499/ESP_016430_2095/ESP_016430_2095_IRB.NOMAP.browse.jpg'},\n",
       " {'Description': 'IRB JP2',\n",
       "  'FileName': 'ESP_016430_2095_IRB.NOMAP.JP2',\n",
       "  'KBytes': '228702',\n",
       "  'Type': 'Browse',\n",
       "  'URL': 'https://hirise.lpl.arizona.edu/PDS/EXTRAS/RDR/ESP/ORB_016400_016499/ESP_016430_2095/ESP_016430_2095_IRB.NOMAP.JP2'},\n",
       " {'Description': 'IRB THUMBNAIL',\n",
       "  'FileName': 'ESP_016430_2095_IRB.NOMAP.THUMB.JPG',\n",
       "  'KBytes': '166',\n",
       "  'Type': 'Browse',\n",
       "  'URL': 'https://hirise.lpl.arizona.edu/PDS/EXTRAS/RDR/ESP/ORB_016400_016499/ESP_016430_2095/ESP_016430_2095_IRB.NOMAP.thumb.jpg'},\n",
       " {'Description': 'ANNOTATED MERGED IRB BROWSE',\n",
       "  'FileName': 'ESP_016430_2095_MIRB.ABROWSE.JPG',\n",
       "  'KBytes': '2844',\n",
       "  'Type': 'Browse',\n",
       "  'URL': 'https://hirise.lpl.arizona.edu/PDS/EXTRAS/RDR/ESP/ORB_016400_016499/ESP_016430_2095/ESP_016430_2095_MIRB.abrowse.jpg'},\n",
       " {'Description': 'MERGED IRB BROWSE',\n",
       "  'FileName': 'ESP_016430_2095_MIRB.BROWSE.JPG',\n",
       "  'KBytes': '3024',\n",
       "  'Type': 'Browse',\n",
       "  'URL': 'https://hirise.lpl.arizona.edu/PDS/EXTRAS/RDR/ESP/ORB_016400_016499/ESP_016430_2095/ESP_016430_2095_MIRB.browse.jpg'},\n",
       " {'Description': 'MERGED IRB JP2',\n",
       "  'FileName': 'ESP_016430_2095_MIRB.JP2',\n",
       "  'KBytes': '501090',\n",
       "  'Type': 'Browse',\n",
       "  'URL': 'https://hirise.lpl.arizona.edu/PDS/EXTRAS/RDR/ESP/ORB_016400_016499/ESP_016430_2095/ESP_016430_2095_MIRB.JP2'},\n",
       " {'Description': 'MERGED IRB LABEL',\n",
       "  'FileName': 'ESP_016430_2095_MIRB.LBL',\n",
       "  'KBytes': '9',\n",
       "  'Type': 'Browse',\n",
       "  'URL': 'https://hirise.lpl.arizona.edu/PDS/EXTRAS/RDR/ESP/ORB_016400_016499/ESP_016430_2095/ESP_016430_2095_MIRB.LBL'},\n",
       " {'Description': 'MERGED IRB THUMBNAIL',\n",
       "  'FileName': 'ESP_016430_2095_MIRB.THUMB.JPG',\n",
       "  'KBytes': '211',\n",
       "  'Type': 'Browse',\n",
       "  'URL': 'https://hirise.lpl.arizona.edu/PDS/EXTRAS/RDR/ESP/ORB_016400_016499/ESP_016430_2095/ESP_016430_2095_MIRB.thumb.jpg'},\n",
       " {'Description': 'ANNOTATED MERGED RGB BROWSE',\n",
       "  'FileName': 'ESP_016430_2095_MRGB.ABROWSE.JPG',\n",
       "  'KBytes': '2887',\n",
       "  'Type': 'Browse',\n",
       "  'URL': 'https://hirise.lpl.arizona.edu/PDS/EXTRAS/RDR/ESP/ORB_016400_016499/ESP_016430_2095/ESP_016430_2095_MRGB.abrowse.jpg'},\n",
       " {'Description': 'MERGED RGB BROWSE',\n",
       "  'FileName': 'ESP_016430_2095_MRGB.BROWSE.JPG',\n",
       "  'KBytes': '3073',\n",
       "  'Type': 'Browse',\n",
       "  'URL': 'https://hirise.lpl.arizona.edu/PDS/EXTRAS/RDR/ESP/ORB_016400_016499/ESP_016430_2095/ESP_016430_2095_MRGB.browse.jpg'},\n",
       " {'Description': 'MERGED RGB JP2',\n",
       "  'FileName': 'ESP_016430_2095_MRGB.JP2',\n",
       "  'KBytes': '473949',\n",
       "  'Type': 'Browse',\n",
       "  'URL': 'https://hirise.lpl.arizona.edu/PDS/EXTRAS/RDR/ESP/ORB_016400_016499/ESP_016430_2095/ESP_016430_2095_MRGB.JP2'},\n",
       " {'Description': 'MERGED RGB LABEL',\n",
       "  'FileName': 'ESP_016430_2095_MRGB.LBL',\n",
       "  'KBytes': '9',\n",
       "  'Type': 'Browse',\n",
       "  'URL': 'https://hirise.lpl.arizona.edu/PDS/EXTRAS/RDR/ESP/ORB_016400_016499/ESP_016430_2095/ESP_016430_2095_MRGB.LBL'},\n",
       " {'Description': 'MERGED RGB THUMBNAIL',\n",
       "  'FileName': 'ESP_016430_2095_MRGB.THUMB.JPG',\n",
       "  'KBytes': '214',\n",
       "  'Type': 'Browse',\n",
       "  'URL': 'https://hirise.lpl.arizona.edu/PDS/EXTRAS/RDR/ESP/ORB_016400_016499/ESP_016430_2095/ESP_016430_2095_MRGB.thumb.jpg'},\n",
       " {'Description': 'RGB BROWSE',\n",
       "  'FileName': 'ESP_016430_2095_RGB.NOMAP.BROWSE.JPG',\n",
       "  'KBytes': '2262',\n",
       "  'Type': 'Browse',\n",
       "  'URL': 'https://hirise.lpl.arizona.edu/PDS/EXTRAS/RDR/ESP/ORB_016400_016499/ESP_016430_2095/ESP_016430_2095_RGB.NOMAP.browse.jpg'},\n",
       " {'Description': 'RGB JP2',\n",
       "  'FileName': 'ESP_016430_2095_RGB.NOMAP.JP2',\n",
       "  'KBytes': '218485',\n",
       "  'Type': 'Browse',\n",
       "  'URL': 'https://hirise.lpl.arizona.edu/PDS/EXTRAS/RDR/ESP/ORB_016400_016499/ESP_016430_2095/ESP_016430_2095_RGB.NOMAP.JP2'},\n",
       " {'Description': 'RGB THUMBNAIL',\n",
       "  'FileName': 'ESP_016430_2095_RGB.NOMAP.THUMB.JPG',\n",
       "  'KBytes': '151',\n",
       "  'Type': 'Browse',\n",
       "  'URL': 'https://hirise.lpl.arizona.edu/PDS/EXTRAS/RDR/ESP/ORB_016400_016499/ESP_016430_2095/ESP_016430_2095_RGB.NOMAP.thumb.jpg'},\n",
       " {'Description': 'DESCRIPTION FILE',\n",
       "  'FileName': 'JP2INFO.TXT',\n",
       "  'KBytes': '9',\n",
       "  'Type': 'Referenced',\n",
       "  'URL': 'https://hirise.lpl.arizona.edu/PDS/DOCUMENT/JP2INFO.TXT'}]"
      ]
     },
     "execution_count": 9,
     "metadata": {},
     "output_type": "execute_result"
    }
   ],
   "source": [
    "product_files = ode.requested_product_files(req)\n",
    "product_files"
   ]
  },
  {
   "cell_type": "code",
   "execution_count": 10,
   "metadata": {},
   "outputs": [
    {
     "name": "stdout",
     "output_type": "stream",
     "text": [
      "{'ctx': {'product_image': ('Description', 'PRODUCT DATA FILE WITH LABEL'), 'browse_image': ('Description', 'BROWSE IMAGE'), 'browse_thumbnail': ('Description', 'THUMBNAIL IMAGE')}, 'hirise': {'product_image': ('Description', 'PRODUCT DATA FILE'), 'product_label': ('Description', 'PRODUCT LABEL FILE'), 'browse_image': ('Description', 'BROWSE'), 'browse_thumbnail': ('Description', 'THUMBNAIL')}}\n"
     ]
    }
   ],
   "source": [
    "import importlib\n",
    "importlib.reload(ode)\n",
    "print(ode.DESCRIPTORS)"
   ]
  },
  {
   "cell_type": "code",
   "execution_count": 11,
   "metadata": {},
   "outputs": [],
   "source": [
    "prod_img_data = ode.find_product_file(product_files, 'product_image', descriptors=ode.DESCRIPTORS['hirise'])\n",
    "prod_lbl_data = ode.find_product_file(product_files, 'product_label', descriptors=ode.DESCRIPTORS['hirise'])\n",
    "prod_img_browse = ode.find_product_file(product_files, 'browse_image', descriptors=ode.DESCRIPTORS['hirise'])\n",
    "prod_img_thumbnail = ode.find_product_file(product_files, 'browse_thumbnail', descriptors=ode.DESCRIPTORS['hirise'])"
   ]
  },
  {
   "cell_type": "code",
   "execution_count": 12,
   "metadata": {},
   "outputs": [
    {
     "data": {
      "text/plain": [
       "'https://hirise.lpl.arizona.edu/PDS/RDR/ESP/ORB_016400_016499/ESP_016430_2095/ESP_016430_2095_COLOR.JP2'"
      ]
     },
     "execution_count": 12,
     "metadata": {},
     "output_type": "execute_result"
    }
   ],
   "source": [
    "prod_img_data['URL']"
   ]
  },
  {
   "cell_type": "code",
   "execution_count": 13,
   "metadata": {},
   "outputs": [
    {
     "data": {
      "text/plain": [
       "'https://hirise.lpl.arizona.edu/PDS/RDR/ESP/ORB_016400_016499/ESP_016430_2095/ESP_016430_2095_COLOR.LBL'"
      ]
     },
     "execution_count": 13,
     "metadata": {},
     "output_type": "execute_result"
    }
   ],
   "source": [
    "prod_lbl_data['URL']"
   ]
  },
  {
   "cell_type": "code",
   "execution_count": 14,
   "metadata": {},
   "outputs": [
    {
     "data": {
      "text/plain": [
       "'https://hirise.lpl.arizona.edu/PDS/EXTRAS/RDR/ESP/ORB_016400_016499/ESP_016430_2095/ESP_016430_2095_COLOR.browse.jpg'"
      ]
     },
     "execution_count": 14,
     "metadata": {},
     "output_type": "execute_result"
    }
   ],
   "source": [
    "prod_img_browse['URL']"
   ]
  },
  {
   "cell_type": "code",
   "execution_count": 15,
   "metadata": {},
   "outputs": [
    {
     "data": {
      "text/plain": [
       "'https://hirise.lpl.arizona.edu/PDS/EXTRAS/RDR/ESP/ORB_016400_016499/ESP_016430_2095/ESP_016430_2095_COLOR.thumb.jpg'"
      ]
     },
     "execution_count": 15,
     "metadata": {},
     "output_type": "execute_result"
    }
   ],
   "source": [
    "prod_img_thumbnail['URL']"
   ]
  },
  {
   "cell_type": "markdown",
   "metadata": {},
   "source": [
    "## Download file(s)"
   ]
  },
  {
   "cell_type": "code",
   "execution_count": 16,
   "metadata": {},
   "outputs": [
    {
     "name": "stdout",
     "output_type": "stream",
     "text": [
      "--> Downloading file ./ESP_016430_2095_COLOR.thumb.jpg ..\n",
      "--> File downloaded.\n"
     ]
    },
    {
     "data": {
      "text/plain": [
       "'./ESP_016430_2095_COLOR.thumb.jpg'"
      ]
     },
     "execution_count": 16,
     "metadata": {},
     "output_type": "execute_result"
    }
   ],
   "source": [
    "import download\n",
    "from download import get_product, get_products\n",
    "from importlib import reload\n",
    "\n",
    "# Download a file...\n",
    "download.download_file(prod_img_thumbnail['URL'])"
   ]
  },
  {
   "cell_type": "markdown",
   "metadata": {},
   "source": [
    "![sample thumbnail](./ESP_011417_1755_COLOR.thumb.jpg)"
   ]
  },
  {
   "cell_type": "markdown",
   "metadata": {},
   "source": [
    "### Download sample of products (serially)\n",
    "\n",
    "Downloading:\n",
    "* product_image : 'PRODUCT DATA FILE WITH LABEL'\n",
    "* browse_image : 'BROWSE IMAGE'\n",
    "* browse_thumbnail : 'THUMBNAIL IMAGE'\n"
   ]
  },
  {
   "cell_type": "code",
   "execution_count": 17,
   "metadata": {},
   "outputs": [
    {
     "data": {
      "text/plain": [
       "388    PSP_005420_2095_COLOR\n",
       "374    ESP_017564_2090_COLOR\n",
       "Name: PRODUCT_ID, dtype: object"
      ]
     },
     "execution_count": 17,
     "metadata": {},
     "output_type": "execute_result"
    }
   ],
   "source": [
    "N_SAMPLE = 2\n",
    "\n",
    "product_types = ['browse_thumbnail','browse_image']#, 'product_image']\n",
    "\n",
    "PIDs = df['PRODUCT_ID'].sample(N_SAMPLE)\n",
    "PIDs"
   ]
  },
  {
   "cell_type": "markdown",
   "metadata": {},
   "source": [
    "### Get products for `PID`"
   ]
  },
  {
   "cell_type": "code",
   "execution_count": 18,
   "metadata": {},
   "outputs": [
    {
     "name": "stdout",
     "output_type": "stream",
     "text": [
      "Querying ODE for Product ESP_016430_2095_COLOR ..\n",
      "-> Downloading Image data and Browse products for ESP_016430_2095_COLOR ..\n",
      "--> Downloading file ./data/ESP_016430_2095_COLOR/ESP_016430_2095_COLOR.thumb.jpg ..\n"
     ]
    },
    {
     "name": "stderr",
     "output_type": "stream",
     "text": [
      "./data/ESP_016430_2095_COLOR/ESP_016430_2095_COLOR.thumb.jpg: 200KB [00:01, 195.02KB/s]                         \n"
     ]
    },
    {
     "name": "stdout",
     "output_type": "stream",
     "text": [
      "--> File downloaded.\n",
      "--> Downloading file ./data/ESP_016430_2095_COLOR/ESP_016430_2095_COLOR.browse.jpg ..\n"
     ]
    },
    {
     "name": "stderr",
     "output_type": "stream",
     "text": [
      "./data/ESP_016430_2095_COLOR/ESP_016430_2095_COLOR.browse.jpg: 687KB [00:02, 263.94KB/s]                         "
     ]
    },
    {
     "name": "stdout",
     "output_type": "stream",
     "text": [
      "--> File downloaded.\n",
      "-> Data products downloaded.\n",
      "Done.\n"
     ]
    },
    {
     "name": "stderr",
     "output_type": "stream",
     "text": [
      "\n"
     ]
    },
    {
     "data": {
      "text/plain": [
       "{'browse_thumbnail': './data/ESP_016430_2095_COLOR/ESP_016430_2095_COLOR.thumb.jpg',\n",
       " 'browse_image': './data/ESP_016430_2095_COLOR/ESP_016430_2095_COLOR.browse.jpg'}"
      ]
     },
     "execution_count": 18,
     "metadata": {},
     "output_type": "execute_result"
    }
   ],
   "source": [
    "reload(download)\n",
    "\n",
    "# file_types: product_types, \n",
    "# api_endpoint: ode.API_URL, \n",
    "# path: './data/'\n",
    "kwargs = dict(\n",
    "    file_types=product_types, \n",
    "    descriptors=ode.DESCRIPTORS['hirise'],\n",
    "    api_endpoint=ode.API_URL, \n",
    "    path='./data/')\n",
    "\n",
    "download.get_product(PID, **kwargs)"
   ]
  },
  {
   "cell_type": "markdown",
   "metadata": {},
   "source": [
    "### Get Products for `PIDs`"
   ]
  },
  {
   "cell_type": "code",
   "execution_count": 19,
   "metadata": {},
   "outputs": [
    {
     "name": "stdout",
     "output_type": "stream",
     "text": [
      "Get-Products: (0/2) PSP_005420_2095_COLOR\n",
      "Querying ODE for Product PSP_005420_2095_COLOR ..\n",
      "-> Downloading Image data and Browse products for PSP_005420_2095_COLOR ..\n",
      "--> Downloading file ./data/PSP_005420_2095_COLOR/PSP_005420_2095_COLOR.thumb.jpg ..\n"
     ]
    },
    {
     "name": "stderr",
     "output_type": "stream",
     "text": [
      "./data/PSP_005420_2095_COLOR/PSP_005420_2095_COLOR.thumb.jpg: 261KB [00:01, 211.19KB/s]                         \n"
     ]
    },
    {
     "name": "stdout",
     "output_type": "stream",
     "text": [
      "--> File downloaded.\n",
      "--> Downloading file ./data/PSP_005420_2095_COLOR/PSP_005420_2095_COLOR.browse.jpg ..\n"
     ]
    },
    {
     "name": "stderr",
     "output_type": "stream",
     "text": [
      "./data/PSP_005420_2095_COLOR/PSP_005420_2095_COLOR.browse.jpg: 907KB [00:03, 286.12KB/s]                         \n"
     ]
    },
    {
     "name": "stdout",
     "output_type": "stream",
     "text": [
      "--> File downloaded.\n",
      "-> Data products downloaded.\n",
      "Done.\n",
      "---\n",
      "Get-Products: (1/2) ESP_017564_2090_COLOR\n",
      "Querying ODE for Product ESP_017564_2090_COLOR ..\n",
      "-> Downloading Image data and Browse products for ESP_017564_2090_COLOR ..\n",
      "--> Downloading file ./data/ESP_017564_2090_COLOR/ESP_017564_2090_COLOR.thumb.jpg ..\n"
     ]
    },
    {
     "name": "stderr",
     "output_type": "stream",
     "text": [
      "./data/ESP_017564_2090_COLOR/ESP_017564_2090_COLOR.thumb.jpg: 207KB [00:01, 119.82KB/s]                        \n"
     ]
    },
    {
     "name": "stdout",
     "output_type": "stream",
     "text": [
      "--> File downloaded.\n",
      "--> Downloading file ./data/ESP_017564_2090_COLOR/ESP_017564_2090_COLOR.browse.jpg ..\n"
     ]
    },
    {
     "name": "stderr",
     "output_type": "stream",
     "text": [
      "./data/ESP_017564_2090_COLOR/ESP_017564_2090_COLOR.browse.jpg: 741KB [00:03, 243.28KB/s]                         "
     ]
    },
    {
     "name": "stdout",
     "output_type": "stream",
     "text": [
      "--> File downloaded.\n",
      "-> Data products downloaded.\n",
      "Done.\n",
      "---\n"
     ]
    },
    {
     "name": "stderr",
     "output_type": "stream",
     "text": [
      "\n"
     ]
    },
    {
     "data": {
      "text/plain": [
       "{'PSP_005420_2095_COLOR': {'browse_thumbnail': './data/PSP_005420_2095_COLOR/PSP_005420_2095_COLOR.thumb.jpg',\n",
       "  'browse_image': './data/PSP_005420_2095_COLOR/PSP_005420_2095_COLOR.browse.jpg'},\n",
       " 'ESP_017564_2090_COLOR': {'browse_thumbnail': './data/ESP_017564_2090_COLOR/ESP_017564_2090_COLOR.thumb.jpg',\n",
       "  'browse_image': './data/ESP_017564_2090_COLOR/ESP_017564_2090_COLOR.browse.jpg'}}"
      ]
     },
     "execution_count": 19,
     "metadata": {},
     "output_type": "execute_result"
    }
   ],
   "source": [
    "reload(download)\n",
    "products_data = download.get_products(PIDs, **kwargs)\n",
    "products_data"
   ]
  },
  {
   "cell_type": "markdown",
   "metadata": {},
   "source": [
    "## Download all Browse products"
   ]
  },
  {
   "cell_type": "code",
   "execution_count": 20,
   "metadata": {},
   "outputs": [
    {
     "data": {
      "text/plain": [
       "370    ESP_016430_2095_COLOR\n",
       "371      ESP_016430_2095_RED\n",
       "372    ESP_017208_2100_COLOR\n",
       "373      ESP_017208_2100_RED\n",
       "374    ESP_017564_2090_COLOR\n",
       "375      ESP_017564_2090_RED\n",
       "376    ESP_019120_2095_COLOR\n",
       "377      ESP_019120_2095_RED\n",
       "378    ESP_025779_2105_COLOR\n",
       "379      ESP_025779_2105_RED\n",
       "380    ESP_026557_2100_COLOR\n",
       "381      ESP_026557_2100_RED\n",
       "382    ESP_044504_2095_COLOR\n",
       "383      ESP_044504_2095_RED\n",
       "384    ESP_044860_2095_COLOR\n",
       "385      ESP_044860_2095_RED\n",
       "386      ESP_049396_2095_RED\n",
       "387      PSP_004431_2095_RED\n",
       "388    PSP_005420_2095_COLOR\n",
       "389      PSP_005420_2095_RED\n",
       "Name: PRODUCT_ID, dtype: object"
      ]
     },
     "execution_count": 20,
     "metadata": {},
     "output_type": "execute_result"
    }
   ],
   "source": [
    "df['PRODUCT_ID']"
   ]
  },
  {
   "cell_type": "code",
   "execution_count": null,
   "metadata": {},
   "outputs": [
    {
     "name": "stdout",
     "output_type": "stream",
     "text": [
      "{'file_types': ['browse_thumbnail', 'browse_image', 'product_image', 'product_label'], 'descriptors': {'product_image': ('Description', 'PRODUCT DATA FILE'), 'product_label': ('Description', 'PRODUCT LABEL FILE'), 'browse_image': ('Description', 'BROWSE'), 'browse_thumbnail': ('Description', 'THUMBNAIL')}, 'api_endpoint': 'https://oderest.rsl.wustl.edu/live2', 'path': './data/'}\n",
      "Get-Products: (0/20) ESP_016430_2095_COLOR\n",
      "Querying ODE for Product ESP_016430_2095_COLOR ..\n",
      "-> Downloading Image data and Browse products for ESP_016430_2095_COLOR ..\n",
      "--> Downloading file ./data/ESP_016430_2095_COLOR/ESP_016430_2095_COLOR.thumb.jpg ..\n"
     ]
    },
    {
     "name": "stderr",
     "output_type": "stream",
     "text": [
      "./data/ESP_016430_2095_COLOR/ESP_016430_2095_COLOR.thumb.jpg: 200KB [00:01, 163.41KB/s]                         \n"
     ]
    },
    {
     "name": "stdout",
     "output_type": "stream",
     "text": [
      "--> File downloaded.\n",
      "--> Downloading file ./data/ESP_016430_2095_COLOR/ESP_016430_2095_COLOR.browse.jpg ..\n"
     ]
    },
    {
     "name": "stderr",
     "output_type": "stream",
     "text": [
      "./data/ESP_016430_2095_COLOR/ESP_016430_2095_COLOR.browse.jpg: 687KB [00:03, 210.86KB/s]                         \n"
     ]
    },
    {
     "name": "stdout",
     "output_type": "stream",
     "text": [
      "--> File downloaded.\n",
      "--> Downloading file ./data/ESP_016430_2095_COLOR/ESP_016430_2095_COLOR.JP2 ..\n"
     ]
    },
    {
     "name": "stderr",
     "output_type": "stream",
     "text": [
      "./data/ESP_016430_2095_COLOR/ESP_016430_2095_COLOR.JP2: 245979KB [02:08, 1907.23KB/s]                            \n"
     ]
    },
    {
     "name": "stdout",
     "output_type": "stream",
     "text": [
      "--> File downloaded.\n",
      "--> Downloading file ./data/ESP_016430_2095_COLOR/ESP_016430_2095_COLOR.LBL ..\n"
     ]
    },
    {
     "name": "stderr",
     "output_type": "stream",
     "text": [
      "./data/ESP_016430_2095_COLOR/ESP_016430_2095_COLOR.LBL: 8KB [00:00, 39.78KB/s]                       \n"
     ]
    },
    {
     "name": "stdout",
     "output_type": "stream",
     "text": [
      "--> File downloaded.\n",
      "-> Data products downloaded.\n",
      "Done.\n",
      "---\n",
      "Get-Products: (1/20) ESP_016430_2095_RED\n",
      "Querying ODE for Product ESP_016430_2095_RED ..\n",
      "-> Downloading Image data and Browse products for ESP_016430_2095_RED ..\n",
      "--> Downloading file ./data/ESP_016430_2095_RED/ESP_016430_2095_RED.thumb.jpg ..\n",
      "--> Downloading file ./data/ESP_016430_2095_RED/ESP_016430_2095_RED.browse.jpg ..\n"
     ]
    }
   ],
   "source": [
    "# Let's get the first 100\n",
    "\n",
    "reload(download)\n",
    "\n",
    "kwargs.update({'file_types': ['browse_thumbnail','browse_image','product_image','product_label']})\n",
    "print(kwargs)\n",
    "\n",
    "PIDs_100 = df['PRODUCT_ID']\n",
    "\n",
    "Products_100 = download.get_products(PIDs_100, **kwargs)"
   ]
  },
  {
   "cell_type": "code",
   "execution_count": null,
   "metadata": {},
   "outputs": [],
   "source": []
  }
 ],
 "metadata": {
  "kernelspec": {
   "display_name": "Python 3",
   "language": "python",
   "name": "python3"
  },
  "language_info": {
   "codemirror_mode": {
    "name": "ipython",
    "version": 3
   },
   "file_extension": ".py",
   "mimetype": "text/x-python",
   "name": "python",
   "nbconvert_exporter": "python",
   "pygments_lexer": "ipython3",
   "version": "3.7.8"
  }
 },
 "nbformat": 4,
 "nbformat_minor": 4
}
