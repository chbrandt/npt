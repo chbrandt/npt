{
 "cells": [
  {
   "cell_type": "code",
   "execution_count": 1,
   "metadata": {},
   "outputs": [],
   "source": [
    "import sys\n",
    "import os\n",
    "sys.path.append(os.path.abspath('../'))"
   ]
  },
  {
   "cell_type": "code",
   "execution_count": 2,
   "metadata": {},
   "outputs": [
    {
     "data": {
      "text/plain": [
       "<module 'pipelines' from '/Users/chbrandt/Coisas/repos/NEANIAS/notebooks/pipelines.py'>"
      ]
     },
     "execution_count": 2,
     "metadata": {},
     "output_type": "execute_result"
    }
   ],
   "source": [
    "import pipelines\n",
    "from importlib import reload\n",
    "reload(pipelines)"
   ]
  },
  {
   "cell_type": "code",
   "execution_count": 3,
   "metadata": {},
   "outputs": [
    {
     "name": "stdout",
     "output_type": "stream",
     "text": [
      "Directory './data' already exists\n"
     ]
    }
   ],
   "source": [
    "import os\n",
    "try:\n",
    "    outdir = './data'\n",
    "    os.mkdir(outdir)\n",
    "except FileExistsError as err:\n",
    "    print(\"Directory '{}' already exists\".format(outdir))"
   ]
  },
  {
   "cell_type": "code",
   "execution_count": 4,
   "metadata": {},
   "outputs": [
    {
     "name": "stdout",
     "output_type": "stream",
     "text": [
      "GeoJSON loaded, 6 features in it\n"
     ]
    }
   ],
   "source": [
    "with open('hirise.geojson', 'r') as fp:\n",
    "    import json\n",
    "    geojson = json.load(fp)\n",
    "    print(\"GeoJSON loaded, {} features in it\".format(len(geojson['features'])))"
   ]
  },
  {
   "cell_type": "code",
   "execution_count": 5,
   "metadata": {},
   "outputs": [
    {
     "name": "stdout",
     "output_type": "stream",
     "text": [
      "Help on function run in module pipelines:\n",
      "\n",
      "run(product_feature, base_path, progressbar=False)\n",
      "    Download data products (Image, Label) inside 'base_path'\n",
      "    \n",
      "    Inputs:\n",
      "    * product_feature:\n",
      "        Feature from GeoJSON from Search/Listing stage\n",
      "        Field 'image_url' is expected, field 'image_path' will be added\n",
      "        Field 'label_url' is optional, if present will be download also\n",
      "    * base_path:\n",
      "        Base filesystem path (directory) where product will be downloaded\n",
      "    * progressbar (False):\n",
      "        If a (tqdm) progress-bar should show download progress\n",
      "\n"
     ]
    }
   ],
   "source": [
    "help(pipelines.Download.run)"
   ]
  },
  {
   "cell_type": "code",
   "execution_count": 6,
   "metadata": {},
   "outputs": [
    {
     "name": "stdout",
     "output_type": "stream",
     "text": [
      "--> Downloading file ./data/PSP_007361_1800_COLOR.JP2 ..\n"
     ]
    },
    {
     "name": "stderr",
     "output_type": "stream",
     "text": [
      "./data/PSP_007361_1800_COLOR.JP2: 185144KB [08:02, 383.79KB/s]                             \n"
     ]
    },
    {
     "name": "stdout",
     "output_type": "stream",
     "text": [
      "--> File downloaded.\n",
      "--> Downloading file ./data/PSP_007361_1800_COLOR.LBL ..\n"
     ]
    },
    {
     "name": "stderr",
     "output_type": "stream",
     "text": [
      "./data/PSP_007361_1800_COLOR.LBL: 8KB [00:00, 26.21KB/s]                       \n"
     ]
    },
    {
     "name": "stdout",
     "output_type": "stream",
     "text": [
      "--> File downloaded.\n",
      "--> Downloading file ./data/PSP_007361_1800_RED.JP2 ..\n"
     ]
    },
    {
     "name": "stderr",
     "output_type": "stream",
     "text": [
      "./data/PSP_007361_1800_RED.JP2: 443944KB [17:58, 411.53KB/s]                             \n"
     ]
    },
    {
     "name": "stdout",
     "output_type": "stream",
     "text": [
      "--> File downloaded.\n",
      "--> Downloading file ./data/PSP_007361_1800_RED.LBL ..\n"
     ]
    },
    {
     "name": "stderr",
     "output_type": "stream",
     "text": [
      "./data/PSP_007361_1800_RED.LBL: 8KB [00:00, 26.06KB/s]                       "
     ]
    },
    {
     "name": "stdout",
     "output_type": "stream",
     "text": [
      "--> File downloaded.\n"
     ]
    },
    {
     "name": "stderr",
     "output_type": "stream",
     "text": [
      "\n"
     ]
    }
   ],
   "source": [
    "for feature_product in geojson['features'][:2]:\n",
    "    pipelines.Download.run(feature_product, outdir, progressbar=True)"
   ]
  },
  {
   "cell_type": "code",
   "execution_count": 7,
   "metadata": {},
   "outputs": [
    {
     "name": "stdout",
     "output_type": "stream",
     "text": [
      "{\n",
      "\"type\": \"FeatureCollection\",\n",
      "\"features\": [\n",
      "{ \"type\": \"Feature\", \"properties\": { \"id\": \"P06_003392_1819_XI_01N000W\", \"mission\": \"MRO\", \"inst\": \"CTX\", \"type\": \"EDR\", \"image_url\": \"https:\\/\\/pds-imaging.jpl.nasa.gov\\/data\\/mro\\/mars_reconnaissance_orbiter\\/ctx\\/mrox_0090\\/data\\/P06_003392_1819_XI_01N000W.IMG\", \"label_url\": \"https:\\/\\/pds-imaging.jpl.nasa.gov\\/data\\/mro\\/mars_reconnaissance_orbiter\\/ctx\\/mrox_0090\\/data\\/P06_003392_1819_XI_01N000W.IMG\" }, \"geometry\": { \"type\": \"Polygon\", \"coordinates\": [ [ [ 359.94, 2.7968 ], [ 0.23, 0.5534 ], [ 359.62, 0.4744 ], [ 359.32, 2.7277 ], [ 359.94, 2.7968 ] ] ] } },\n",
      "{ \"type\": \"Feature\", \"properties\": { \"id\": \"P07_003669_1784_XN_01S359W\", \"mission\": \"MRO\", \"inst\": \"CTX\", \"type\": \"EDR\", \"image_url\": \"https:\\/\\/pds-imaging.jpl.nasa.gov\\/data\\/mro\\/mars_reconnaissance_orbiter\\/ctx\\/mrox_0109\\/data\\/P07_003669_1784_XN_01S359W.IMG\", \"label_url\": \"https:\\/\\/pds-imaging.jpl.nasa.gov\\/data\\/mro\\/mars_reconnaissance_orbiter\\/ctx\\/mrox_0109\\/data\\/P07_003669_1784_XN_01S359W.IMG\" }, \"geometry\": { \"type\": \"Polygon\", \"coordinates\": [ [ [ 0.19, 1.0377 ], [ 0.83, -4.1904 ], [ 0.38, -4.2497 ], [ 359.74, 0.9883 ], [ 0.19, 1.0377 ] ] ] } },\n",
      "{ \"type\": \"Feature\", \"properties\": { \"id\": \"P14_006504_1783_XN_01S000W\", \"mission\": \"MRO\", \"inst\": \"CTX\", \"type\": \"EDR\", \"image_url\": \"https:\\/\\/pds-imaging.jpl.nasa.gov\\/data\\/mro\\/mars_reconnaissance_orbiter\\/ctx\\/mrox_0326\\/data\\/P14_006504_1783_XN_01S000W.IMG\", \"label_url\": \"https:\\/\\/pds-imaging.jpl.nasa.gov\\/data\\/mro\\/mars_reconnaissance_orbiter\\/ctx\\/mrox_0326\\/data\\/P14_006504_1783_XN_01S000W.IMG\" }, \"geometry\": { \"type\": \"Polygon\", \"coordinates\": [ [ [ 359.94, 0.8796 ], [ 0.57, -4.3584 ], [ 0.13, -4.4079 ], [ 359.49, 0.8301 ], [ 359.94, 0.8796 ] ] ] } },\n",
      "{ \"type\": \"Feature\", \"properties\": { \"id\": \"P16_007216_1790_XN_01S000W\", \"mission\": \"MRO\", \"inst\": \"CTX\", \"type\": \"EDR\", \"image_url\": \"https:\\/\\/pds-imaging.jpl.nasa.gov\\/data\\/mro\\/mars_reconnaissance_orbiter\\/ctx\\/mrox_0419\\/data\\/P16_007216_1790_XN_01S000W.IMG\", \"label_url\": \"https:\\/\\/pds-imaging.jpl.nasa.gov\\/data\\/mro\\/mars_reconnaissance_orbiter\\/ctx\\/mrox_0419\\/data\\/P16_007216_1790_XN_01S000W.IMG\" }, \"geometry\": { \"type\": \"Polygon\", \"coordinates\": [ [ [ 359.5, 1.5318 ], [ 0.14, -3.7061 ], [ 359.69, -3.7555 ], [ 359.05, 1.4824 ], [ 359.5, 1.5318 ] ] ] } },\n",
      "{ \"type\": \"Feature\", \"properties\": { \"id\": \"P16_007361_1800_XN_00S000W\", \"mission\": \"MRO\", \"inst\": \"CTX\", \"type\": \"EDR\", \"image_url\": \"https:\\/\\/pds-imaging.jpl.nasa.gov\\/data\\/mro\\/mars_reconnaissance_orbiter\\/ctx\\/mrox_0433\\/data\\/P16_007361_1800_XN_00S000W.IMG\", \"label_url\": \"https:\\/\\/pds-imaging.jpl.nasa.gov\\/data\\/mro\\/mars_reconnaissance_orbiter\\/ctx\\/mrox_0433\\/data\\/P16_007361_1800_XN_00S000W.IMG\" }, \"geometry\": { \"type\": \"Polygon\", \"coordinates\": [ [ [ 0.18, 0.4052 ], [ 0.27, -0.3064 ], [ 359.82, -0.3657 ], [ 359.74, 0.3558 ], [ 0.18, 0.4052 ] ] ] } },\n",
      "{ \"type\": \"Feature\", \"properties\": { \"id\": \"P17_007651_1797_XN_00S359W\", \"mission\": \"MRO\", \"inst\": \"CTX\", \"type\": \"EDR\", \"image_url\": \"https:\\/\\/pds-imaging.jpl.nasa.gov\\/data\\/mro\\/mars_reconnaissance_orbiter\\/ctx\\/mrox_0481\\/data\\/P17_007651_1797_XN_00S359W.IMG\", \"label_url\": \"https:\\/\\/pds-imaging.jpl.nasa.gov\\/data\\/mro\\/mars_reconnaissance_orbiter\\/ctx\\/mrox_0481\\/data\\/P17_007651_1797_XN_00S359W.IMG\" }, \"geometry\": { \"type\": \"Polygon\", \"coordinates\": [ [ [ 0.42, 2.2335 ], [ 1.08, -2.9945 ], [ 0.62, -3.0439 ], [ 359.95, 2.1742 ], [ 0.42, 2.2335 ] ] ] } },\n",
      "{ \"type\": \"Feature\", \"properties\": { \"id\": \"D21_035566_1822_XN_02N000W\", \"mission\": \"MRO\", \"inst\": \"CTX\", \"type\": \"EDR\", \"image_url\": \"https:\\/\\/pds-imaging.jpl.nasa.gov\\/data\\/mro\\/mars_reconnaissance_orbiter\\/ctx\\/mrox_2008\\/data\\/D21_035566_1822_XN_02N000W.IMG\", \"label_url\": \"https:\\/\\/pds-imaging.jpl.nasa.gov\\/data\\/mro\\/mars_reconnaissance_orbiter\\/ctx\\/mrox_2008\\/data\\/D21_035566_1822_XN_02N000W.IMG\" }, \"geometry\": { \"type\": \"Polygon\", \"coordinates\": [ [ [ 359.33, 4.408 ], [ 359.85, 0.0 ], [ 359.4, -0.049 ], [ 358.87, 4.358 ], [ 359.33, 4.408 ] ] ] } },\n",
      "{ \"type\": \"Feature\", \"properties\": { \"id\": \"F02_036621_1822_XI_02N000W\", \"mission\": \"MRO\", \"inst\": \"CTX\", \"type\": \"EDR\", \"image_url\": \"https:\\/\\/pds-imaging.jpl.nasa.gov\\/data\\/mro\\/mars_reconnaissance_orbiter\\/ctx\\/mrox_2127\\/data\\/F02_036621_1822_XI_02N000W.IMG\", \"label_url\": \"https:\\/\\/pds-imaging.jpl.nasa.gov\\/data\\/mro\\/mars_reconnaissance_orbiter\\/ctx\\/mrox_2127\\/data\\/F02_036621_1822_XI_02N000W.IMG\" }, \"geometry\": { \"type\": \"Polygon\", \"coordinates\": [ [ [ 359.3, 4.477 ], [ 359.89, -0.03 ], [ 359.39, -0.089 ], [ 358.8, 4.418 ], [ 359.3, 4.477 ] ] ] } },\n",
      "{ \"type\": \"Feature\", \"properties\": { \"id\": \"F16_041909_1793_XN_00S359W\", \"mission\": \"MRO\", \"inst\": \"CTX\", \"type\": \"EDR\", \"image_url\": \"https:\\/\\/pds-imaging.jpl.nasa.gov\\/data\\/mro\\/mars_reconnaissance_orbiter\\/ctx\\/mrox_2397\\/data\\/F16_041909_1793_XN_00S359W.IMG\", \"label_url\": \"https:\\/\\/pds-imaging.jpl.nasa.gov\\/data\\/mro\\/mars_reconnaissance_orbiter\\/ctx\\/mrox_2397\\/data\\/F16_041909_1793_XN_00S359W.IMG\" }, \"geometry\": { \"type\": \"Polygon\", \"coordinates\": [ [ [ 0.1, 1.453 ], [ 0.65, -2.955 ], [ 0.13, -3.014 ], [ 359.58, 1.393 ], [ 0.1, 1.453 ] ] ] } },\n",
      "{ \"type\": \"Feature\", \"properties\": { \"id\": \"F17_042542_1793_XI_00S000W\", \"mission\": \"MRO\", \"inst\": \"CTX\", \"type\": \"EDR\", \"image_url\": \"https:\\/\\/pds-imaging.jpl.nasa.gov\\/data\\/mro\\/mars_reconnaissance_orbiter\\/ctx\\/mrox_2415\\/data\\/F17_042542_1793_XI_00S000W.IMG\", \"label_url\": \"https:\\/\\/pds-imaging.jpl.nasa.gov\\/data\\/mro\\/mars_reconnaissance_orbiter\\/ctx\\/mrox_2415\\/data\\/F17_042542_1793_XI_00S000W.IMG\" }, \"geometry\": { \"type\": \"Polygon\", \"coordinates\": [ [ [ 0.06, 1.403 ], [ 0.58, -3.004 ], [ 0.12, -3.064 ], [ 359.59, 1.354 ], [ 0.06, 1.403 ] ] ] } },\n",
      "{ \"type\": \"Feature\", \"properties\": { \"id\": \"F19_043254_1784_XI_01S000W\", \"mission\": \"MRO\", \"inst\": \"CTX\", \"type\": \"EDR\", \"image_url\": \"https:\\/\\/pds-imaging.jpl.nasa.gov\\/data\\/mro\\/mars_reconnaissance_orbiter\\/ctx\\/mrox_2440\\/data\\/F19_043254_1784_XI_01S000W.IMG\", \"label_url\": \"https:\\/\\/pds-imaging.jpl.nasa.gov\\/data\\/mro\\/mars_reconnaissance_orbiter\\/ctx\\/mrox_2440\\/data\\/F19_043254_1784_XI_01S000W.IMG\" }, \"geometry\": { \"type\": \"Polygon\", \"coordinates\": [ [ [ 359.59, 1.028 ], [ 0.21, -4.2 ], [ 359.76, -4.26 ], [ 359.13, 0.978 ], [ 359.59, 1.028 ] ] ] } },\n",
      "{ \"type\": \"Feature\", \"properties\": { \"id\": \"F19_043320_1784_XI_01S000W\", \"mission\": \"MRO\", \"inst\": \"CTX\", \"type\": \"EDR\", \"image_url\": \"https:\\/\\/pds-imaging.jpl.nasa.gov\\/data\\/mro\\/mars_reconnaissance_orbiter\\/ctx\\/mrox_2442\\/data\\/F19_043320_1784_XI_01S000W.IMG\", \"label_url\": \"https:\\/\\/pds-imaging.jpl.nasa.gov\\/data\\/mro\\/mars_reconnaissance_orbiter\\/ctx\\/mrox_2442\\/data\\/F19_043320_1784_XI_01S000W.IMG\" }, \"geometry\": { \"type\": \"Polygon\", \"coordinates\": [ [ [ 359.57, 1.067 ], [ 0.19, -4.171 ], [ 359.71, -4.23 ], [ 359.08, 1.008 ], [ 359.57, 1.067 ] ] ] } },\n",
      "{ \"type\": \"Feature\", \"properties\": { \"id\": \"F20_043544_1795_XI_00S359W\", \"mission\": \"MRO\", \"inst\": \"CTX\", \"type\": \"EDR\", \"image_url\": \"https:\\/\\/pds-imaging.jpl.nasa.gov\\/data\\/mro\\/mars_reconnaissance_orbiter\\/ctx\\/mrox_2449\\/data\\/F20_043544_1795_XI_00S359W.IMG\", \"label_url\": \"https:\\/\\/pds-imaging.jpl.nasa.gov\\/data\\/mro\\/mars_reconnaissance_orbiter\\/ctx\\/mrox_2449\\/data\\/F20_043544_1795_XI_00S359W.IMG\" }, \"geometry\": { \"type\": \"Polygon\", \"coordinates\": [ [ [ 0.61, 2.075 ], [ 1.2, -3.163 ], [ 0.62, -3.232 ], [ 0.03, 2.006 ], [ 0.61, 2.075 ] ] ] } },\n",
      "{ \"type\": \"Feature\", \"properties\": { \"id\": \"J16_050902_1784_XN_01S000W\", \"mission\": \"MRO\", \"inst\": \"CTX\", \"type\": \"EDR\", \"image_url\": \"https:\\/\\/pds-imaging.jpl.nasa.gov\\/data\\/mro\\/mars_reconnaissance_orbiter\\/ctx\\/mrox_2914\\/data\\/J16_050902_1784_XN_01S000W.IMG\", \"label_url\": \"https:\\/\\/pds-imaging.jpl.nasa.gov\\/data\\/mro\\/mars_reconnaissance_orbiter\\/ctx\\/mrox_2914\\/data\\/J16_050902_1784_XN_01S000W.IMG\" }, \"geometry\": { \"type\": \"Polygon\", \"coordinates\": [ [ [ 0.05, 0.2767 ], [ 0.51, -3.5183 ], [ 0.06, -3.5677 ], [ 359.6, 0.2273 ], [ 0.05, 0.2767 ] ] ] } },\n",
      "{ \"type\": \"Feature\", \"properties\": { \"id\": \"J16_050968_1784_XN_01S000W\", \"mission\": \"MRO\", \"inst\": \"CTX\", \"type\": \"EDR\", \"image_url\": \"https:\\/\\/pds-imaging.jpl.nasa.gov\\/data\\/mro\\/mars_reconnaissance_orbiter\\/ctx\\/mrox_2917\\/data\\/J16_050968_1784_XN_01S000W.IMG\", \"label_url\": \"https:\\/\\/pds-imaging.jpl.nasa.gov\\/data\\/mro\\/mars_reconnaissance_orbiter\\/ctx\\/mrox_2917\\/data\\/J16_050968_1784_XN_01S000W.IMG\" }, \"geometry\": { \"type\": \"Polygon\", \"coordinates\": [ [ [ 0.07, 0.2965 ], [ 0.53, -3.4986 ], [ 359.99, -3.5677 ], [ 359.53, 0.2372 ], [ 0.07, 0.2965 ] ] ] } }\n",
      "]\n",
      "}\n"
     ]
    }
   ],
   "source": [
    "!cat ctx.geojson"
   ]
  },
  {
   "cell_type": "code",
   "execution_count": null,
   "metadata": {},
   "outputs": [],
   "source": []
  }
 ],
 "metadata": {
  "kernelspec": {
   "display_name": "Python 3",
   "language": "python",
   "name": "python3"
  },
  "language_info": {
   "codemirror_mode": {
    "name": "ipython",
    "version": 3
   },
   "file_extension": ".py",
   "mimetype": "text/x-python",
   "name": "python",
   "nbconvert_exporter": "python",
   "pygments_lexer": "ipython3",
   "version": "3.7.8"
  }
 },
 "nbformat": 4,
 "nbformat_minor": 4
}
