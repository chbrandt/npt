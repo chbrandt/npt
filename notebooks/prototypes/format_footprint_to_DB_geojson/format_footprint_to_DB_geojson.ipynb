{
 "cells": [
  {
   "cell_type": "markdown",
   "metadata": {},
   "source": [
    "# From ODE footprints, create a GeoJSONs\n",
    "\n",
    "[GeoJSON] nowadays are broadly used not only on GIS suite (e.g, QGIS) but also to ingest data in spatial databases. It is very reasonable, then, to have one done for our footprints' ingestion on a database (e.g, [MongoDB]) or for quick visualization (e.g, [Leaflet]).\n",
    "\n",
    "The documents (i.e, features) in our GeoJSON should have the following fields:\n",
    "\n",
    "- geometry\n",
    "- productId\n",
    "- datasetId\n",
    "- UTCstart\n",
    "- UTCEnd\n",
    "- productType\n",
    "- path image\n",
    "- path header\n",
    "\n",
    ", those are the attributes expected by MEEO's database.\n",
    "\n",
    "[GeoJSON]: https://en.wikipedia.org/wiki/GeoJSON\n",
    "[Leaflet]: https://leafletjs.com/examples/geojson/\n",
    "[MongoDB]: https://docs.mongodb.com/manual/reference/geojson/"
   ]
  },
  {
   "cell_type": "code",
   "execution_count": 1,
   "metadata": {},
   "outputs": [],
   "source": [
    "import geopandas as gpd\n",
    "import pandas as pd\n",
    "pd.options.display.max_columns = 100"
   ]
  },
  {
   "cell_type": "markdown",
   "metadata": {},
   "source": [
    "## MEX/HRSC"
   ]
  },
  {
   "cell_type": "code",
   "execution_count": 2,
   "metadata": {},
   "outputs": [],
   "source": [
    "mex = gpd.read_file('mars_mex_hrsc_refdr3_c0a/mars_mex_hrsc_refdr3_c0a.shp')"
   ]
  },
  {
   "cell_type": "code",
   "execution_count": 3,
   "metadata": {},
   "outputs": [
    {
     "data": {
      "text/plain": [
       "CenterLat                                              -38.9095\n",
       "CenterLon                                               90.5398\n",
       "MaxLat                                                  -31.035\n",
       "MinLat                                                  -46.769\n",
       "EastLon                                                  92.022\n",
       "WestLon                                                  87.875\n",
       "EmAngle                                                      -1\n",
       "InAngle                                                      -1\n",
       "PhAngle                                                      -1\n",
       "SolLong                                                      -1\n",
       "NPoleState                                                    F\n",
       "SPoleState                                                    F\n",
       "Target                                                     MARS\n",
       "ProductId                                    H0010_0000_BL3.JP2\n",
       "DatasetId                  MEX-M-HRSC-5-REFDR-MAPPROJECTED-V3.0\n",
       "InstHostId                                                  MEX\n",
       "InstId                                                     HRSC\n",
       "UTCstart                                2004-01-10T13:52:00.489\n",
       "UTCend                                  2004-01-10T13:56:37.552\n",
       "PDSVolId                                            MEXHRS_1003\n",
       "ProdType                                                 REFDR3\n",
       "CreateDate                              2016-03-02T10:19:25.000\n",
       "ShpSource                     Footprint from index/geo_mars.tab\n",
       "ExtURL        https://ode.rsl.wustl.edu/mars/indexproductpag...\n",
       "Ext2URL                                                    None\n",
       "Ext3URL                                                    None\n",
       "ProdURL       https://ode.rsl.wustl.edu/mars/indexproductpag...\n",
       "FilesURL      https://ode.rsl.wustl.edu/mars/productfiles.as...\n",
       "LabelURL      https://pds-geosciences.wustl.edu/mex/mex-m-hr...\n",
       "PILOTURL                                                   None\n",
       "ODEId                                                  25112608\n",
       "SubSiteTag                                                 None\n",
       "geometry      POLYGON ((87.875 -46.68, 87.93300000000001 -46...\n",
       "Name: 0, dtype: object"
      ]
     },
     "execution_count": 3,
     "metadata": {},
     "output_type": "execute_result"
    }
   ],
   "source": [
    "mex.iloc[0]"
   ]
  },
  {
   "cell_type": "code",
   "execution_count": 4,
   "metadata": {},
   "outputs": [
    {
     "name": "stdout",
     "output_type": "stream",
     "text": [
      "https://ode.rsl.wustl.edu/mars/indexproductpage.aspx?product_id=H0010_0000_BL3.JP2&product_idGeo=25112608\n",
      "https://ode.rsl.wustl.edu/mars/indexproductpage.aspx?product_id=H0010_0000_BL3.JP2&product_idGeo=25112608\n",
      "https://ode.rsl.wustl.edu/mars/productfiles.aspx?product_id=H0010_0000_BL3.JP2&product_idGeo=25112608\n",
      "https://pds-geosciences.wustl.edu/mex/mex-m-hrsc-5-refdr-mapprojected-v3/mexhrs_1003/data/0010/h0010_0000_bl3.lbl\n"
     ]
    }
   ],
   "source": [
    "print(mex.ExtURL.iloc[0])\n",
    "print(mex.ProdURL.iloc[0])\n",
    "print(mex.FilesURL.iloc[0])\n",
    "print(mex.LabelURL.iloc[0])"
   ]
  },
  {
   "cell_type": "code",
   "execution_count": 5,
   "metadata": {},
   "outputs": [],
   "source": [
    "columns = ['geometry', 'ProductId', 'DatasetId', 'InstHostId', 'InstId', 'UTCstart', 'UTCend', 'ProdType']"
   ]
  },
  {
   "cell_type": "code",
   "execution_count": 6,
   "metadata": {},
   "outputs": [],
   "source": [
    "df = mex[columns]"
   ]
  },
  {
   "cell_type": "code",
   "execution_count": 7,
   "metadata": {},
   "outputs": [
    {
     "data": {
      "text/plain": [
       "geometry      POLYGON ((87.875 -46.68, 87.93300000000001 -46...\n",
       "ProductId                                    H0010_0000_BL3.JP2\n",
       "DatasetId                  MEX-M-HRSC-5-REFDR-MAPPROJECTED-V3.0\n",
       "InstHostId                                                  MEX\n",
       "InstId                                                     HRSC\n",
       "UTCstart                                2004-01-10T13:52:00.489\n",
       "UTCend                                  2004-01-10T13:56:37.552\n",
       "ProdType                                                 REFDR3\n",
       "Name: 0, dtype: object"
      ]
     },
     "execution_count": 7,
     "metadata": {},
     "output_type": "execute_result"
    }
   ],
   "source": [
    "df.iloc[0]"
   ]
  },
  {
   "cell_type": "code",
   "execution_count": 8,
   "metadata": {},
   "outputs": [],
   "source": [
    "df.to_file('mars_mex_hrsc_refdr3_c0a.geojson', driver='GeoJSON')"
   ]
  },
  {
   "cell_type": "markdown",
   "metadata": {},
   "source": [
    "## MRO/CTX"
   ]
  },
  {
   "cell_type": "code",
   "execution_count": 9,
   "metadata": {},
   "outputs": [],
   "source": [
    "def shapefile2geojson(shapefile, geojson, columns=None, rows=None):\n",
    "    '''\n",
    "    Transform Shapefile to GeoJSON, write it and return GeoDataFrame\n",
    "\n",
    "    # 'rows' not implemented yet, \n",
    "    # the idea is to accept integer (for # top lines) or list of integers (for the line numbers).\n",
    "    '''\n",
    "    import geopandas as gpd\n",
    "    \n",
    "    shp = gpd.read_file(shapefile)\n",
    "    df = shp[columns] if columns else shp\n",
    "    df.to_file(geojson, driver='GeoJSON')\n",
    "    return df"
   ]
  },
  {
   "cell_type": "code",
   "execution_count": 10,
   "metadata": {},
   "outputs": [],
   "source": [
    "from os.path import basename\n",
    "\n",
    "columns = ['geometry', 'ProductId', 'DatasetId', 'InstHostId', 'InstId', 'UTCstart', 'UTCend', 'ProdType']\n",
    "# missing\n",
    "# - 'path_image'\n",
    "# - 'path_label\n",
    "\n",
    "# input\n",
    "shapefile = 'mars_mro_ctx_edr_c0a/mars_mro_ctx_edr_c0a.shp'\n",
    "\n",
    "# output geojson file here\n",
    "geojson = basename(shapefile).replace('.shp','.geojson')\n",
    "\n",
    "ctx = shapefile2geojson(shapefile, geojson, columns)"
   ]
  },
  {
   "cell_type": "code",
   "execution_count": 11,
   "metadata": {},
   "outputs": [
    {
     "data": {
      "text/html": [
       "<div>\n",
       "<style scoped>\n",
       "    .dataframe tbody tr th:only-of-type {\n",
       "        vertical-align: middle;\n",
       "    }\n",
       "\n",
       "    .dataframe tbody tr th {\n",
       "        vertical-align: top;\n",
       "    }\n",
       "\n",
       "    .dataframe thead th {\n",
       "        text-align: right;\n",
       "    }\n",
       "</style>\n",
       "<table border=\"1\" class=\"dataframe\">\n",
       "  <thead>\n",
       "    <tr style=\"text-align: right;\">\n",
       "      <th></th>\n",
       "      <th>geometry</th>\n",
       "      <th>ProductId</th>\n",
       "      <th>DatasetId</th>\n",
       "      <th>InstHostId</th>\n",
       "      <th>InstId</th>\n",
       "      <th>UTCstart</th>\n",
       "      <th>UTCend</th>\n",
       "      <th>ProdType</th>\n",
       "    </tr>\n",
       "  </thead>\n",
       "  <tbody>\n",
       "    <tr>\n",
       "      <th>0</th>\n",
       "      <td>POLYGON ((-55.26000 -21.68670, -53.84000 -14.5...</td>\n",
       "      <td>MOI_000009_0186_XI_18S051W</td>\n",
       "      <td>MRO-M-CTX-2-EDR-L0-V1.0</td>\n",
       "      <td>MRO</td>\n",
       "      <td>CTX</td>\n",
       "      <td>2006-03-24T04:28:07.724</td>\n",
       "      <td>2006-03-24T04:34:13.285</td>\n",
       "      <td>EDR</td>\n",
       "    </tr>\n",
       "    <tr>\n",
       "      <th>1</th>\n",
       "      <td>POLYGON ((-63.11000 -58.78100, -57.16000 -31.8...</td>\n",
       "      <td>MOI_000009_0438_XN_43S057W</td>\n",
       "      <td>MRO-M-CTX-2-EDR-L0-V1.0</td>\n",
       "      <td>MRO</td>\n",
       "      <td>CTX</td>\n",
       "      <td>2006-03-24T04:41:07.728</td>\n",
       "      <td>2006-03-24T04:53:18.850</td>\n",
       "      <td>EDR</td>\n",
       "    </tr>\n",
       "    <tr>\n",
       "      <th>2</th>\n",
       "      <td>POLYGON ((164.78000 -44.11190, 164.87000 -44.6...</td>\n",
       "      <td>T01_000801_1353_XN_44S195W</td>\n",
       "      <td>MRO-M-CTX-2-EDR-L0-V1.0</td>\n",
       "      <td>MRO</td>\n",
       "      <td>CTX</td>\n",
       "      <td>2006-09-27T21:58:33.012</td>\n",
       "      <td>2006-09-27T21:58:42.621</td>\n",
       "      <td>EDR</td>\n",
       "    </tr>\n",
       "    <tr>\n",
       "      <th>3</th>\n",
       "      <td>POLYGON ((158.10000 7.12620, 158.21000 6.19700...</td>\n",
       "      <td>T01_000801_1867_XN_06N202W</td>\n",
       "      <td>MRO-M-CTX-2-EDR-L0-V1.0</td>\n",
       "      <td>MRO</td>\n",
       "      <td>CTX</td>\n",
       "      <td>2006-09-27T22:14:19.059</td>\n",
       "      <td>2006-09-27T22:14:36.355</td>\n",
       "      <td>EDR</td>\n",
       "    </tr>\n",
       "    <tr>\n",
       "      <th>4</th>\n",
       "      <td>POLYGON ((140.82000 78.51880, 141.26000 78.124...</td>\n",
       "      <td>T01_000801_2584_XN_78N219W</td>\n",
       "      <td>MRO-M-CTX-2-EDR-L0-V1.0</td>\n",
       "      <td>MRO</td>\n",
       "      <td>CTX</td>\n",
       "      <td>2006-09-27T22:37:04.430</td>\n",
       "      <td>2006-09-27T22:37:12.117</td>\n",
       "      <td>EDR</td>\n",
       "    </tr>\n",
       "  </tbody>\n",
       "</table>\n",
       "</div>"
      ],
      "text/plain": [
       "                                            geometry  \\\n",
       "0  POLYGON ((-55.26000 -21.68670, -53.84000 -14.5...   \n",
       "1  POLYGON ((-63.11000 -58.78100, -57.16000 -31.8...   \n",
       "2  POLYGON ((164.78000 -44.11190, 164.87000 -44.6...   \n",
       "3  POLYGON ((158.10000 7.12620, 158.21000 6.19700...   \n",
       "4  POLYGON ((140.82000 78.51880, 141.26000 78.124...   \n",
       "\n",
       "                    ProductId                DatasetId InstHostId InstId  \\\n",
       "0  MOI_000009_0186_XI_18S051W  MRO-M-CTX-2-EDR-L0-V1.0        MRO    CTX   \n",
       "1  MOI_000009_0438_XN_43S057W  MRO-M-CTX-2-EDR-L0-V1.0        MRO    CTX   \n",
       "2  T01_000801_1353_XN_44S195W  MRO-M-CTX-2-EDR-L0-V1.0        MRO    CTX   \n",
       "3  T01_000801_1867_XN_06N202W  MRO-M-CTX-2-EDR-L0-V1.0        MRO    CTX   \n",
       "4  T01_000801_2584_XN_78N219W  MRO-M-CTX-2-EDR-L0-V1.0        MRO    CTX   \n",
       "\n",
       "                  UTCstart                   UTCend ProdType  \n",
       "0  2006-03-24T04:28:07.724  2006-03-24T04:34:13.285      EDR  \n",
       "1  2006-03-24T04:41:07.728  2006-03-24T04:53:18.850      EDR  \n",
       "2  2006-09-27T21:58:33.012  2006-09-27T21:58:42.621      EDR  \n",
       "3  2006-09-27T22:14:19.059  2006-09-27T22:14:36.355      EDR  \n",
       "4  2006-09-27T22:37:04.430  2006-09-27T22:37:12.117      EDR  "
      ]
     },
     "execution_count": 11,
     "metadata": {},
     "output_type": "execute_result"
    }
   ],
   "source": [
    "ctx.head()"
   ]
  },
  {
   "cell_type": "markdown",
   "metadata": {},
   "source": [
    "## MRO/HiRISE"
   ]
  },
  {
   "cell_type": "code",
   "execution_count": 12,
   "metadata": {},
   "outputs": [],
   "source": [
    "shapefile = 'mars_mro_hirise_rdr_c0a/mars_mro_hirise_rdr_c0a.shp'\n",
    "geojson = basename(shapefile).replace('.shp','.geojson')\n",
    "\n",
    "hirise = shapefile2geojson(shapefile, geojson, columns)"
   ]
  },
  {
   "cell_type": "code",
   "execution_count": 13,
   "metadata": {},
   "outputs": [
    {
     "data": {
      "text/html": [
       "<div>\n",
       "<style scoped>\n",
       "    .dataframe tbody tr th:only-of-type {\n",
       "        vertical-align: middle;\n",
       "    }\n",
       "\n",
       "    .dataframe tbody tr th {\n",
       "        vertical-align: top;\n",
       "    }\n",
       "\n",
       "    .dataframe thead th {\n",
       "        text-align: right;\n",
       "    }\n",
       "</style>\n",
       "<table border=\"1\" class=\"dataframe\">\n",
       "  <thead>\n",
       "    <tr style=\"text-align: right;\">\n",
       "      <th></th>\n",
       "      <th>geometry</th>\n",
       "      <th>ProductId</th>\n",
       "      <th>DatasetId</th>\n",
       "      <th>InstHostId</th>\n",
       "      <th>InstId</th>\n",
       "      <th>UTCstart</th>\n",
       "      <th>UTCend</th>\n",
       "      <th>ProdType</th>\n",
       "    </tr>\n",
       "  </thead>\n",
       "  <tbody>\n",
       "    <tr>\n",
       "      <th>0</th>\n",
       "      <td>POLYGON ((142.55300 -46.80300, 143.39100 -46.8...</td>\n",
       "      <td>AEB_000002_0100_RED</td>\n",
       "      <td>MRO-M-HIRISE-3-RDR-V1.0</td>\n",
       "      <td>MRO</td>\n",
       "      <td>HIRISE</td>\n",
       "      <td>2006-03-25T16:18:52.639</td>\n",
       "      <td>2006-03-25T16:19:09.646</td>\n",
       "      <td>RDR</td>\n",
       "    </tr>\n",
       "    <tr>\n",
       "      <th>1</th>\n",
       "      <td>POLYGON ((155.98300 8.65400, 155.88800 8.64200...</td>\n",
       "      <td>PSP_001804_1890_RED</td>\n",
       "      <td>MRO-M-HIRISE-3-RDR-V1.0</td>\n",
       "      <td>MRO</td>\n",
       "      <td>HIRISE</td>\n",
       "      <td>2006-12-15T00:29:16.882</td>\n",
       "      <td>2006-12-15T00:29:23.845</td>\n",
       "      <td>RDR</td>\n",
       "    </tr>\n",
       "    <tr>\n",
       "      <th>2</th>\n",
       "      <td>POLYGON ((-158.37900 -6.72600, -158.39700 -6.7...</td>\n",
       "      <td>PSP_002343_1735_COLOR</td>\n",
       "      <td>MRO-M-HIRISE-3-RDR-V1.0</td>\n",
       "      <td>MRO</td>\n",
       "      <td>HIRISE</td>\n",
       "      <td>2007-01-26T00:24:20.300</td>\n",
       "      <td>2007-01-26T00:24:23.904</td>\n",
       "      <td>RDR</td>\n",
       "    </tr>\n",
       "    <tr>\n",
       "      <th>3</th>\n",
       "      <td>POLYGON ((-158.34300 -6.72200, -158.43400 -6.7...</td>\n",
       "      <td>PSP_002343_1735_RED</td>\n",
       "      <td>MRO-M-HIRISE-3-RDR-V1.0</td>\n",
       "      <td>MRO</td>\n",
       "      <td>HIRISE</td>\n",
       "      <td>2007-01-26T00:24:20.368</td>\n",
       "      <td>2007-01-26T00:24:23.776</td>\n",
       "      <td>RDR</td>\n",
       "    </tr>\n",
       "    <tr>\n",
       "      <th>4</th>\n",
       "      <td>POLYGON ((61.29800 22.75100, 61.19400 22.73900...</td>\n",
       "      <td>PSP_004471_2030_RED</td>\n",
       "      <td>MRO-M-HIRISE-3-RDR-V1.0</td>\n",
       "      <td>MRO</td>\n",
       "      <td>HIRISE</td>\n",
       "      <td>2007-07-10T20:08:42.980</td>\n",
       "      <td>2007-07-10T20:08:51.989</td>\n",
       "      <td>RDR</td>\n",
       "    </tr>\n",
       "  </tbody>\n",
       "</table>\n",
       "</div>"
      ],
      "text/plain": [
       "                                            geometry              ProductId  \\\n",
       "0  POLYGON ((142.55300 -46.80300, 143.39100 -46.8...    AEB_000002_0100_RED   \n",
       "1  POLYGON ((155.98300 8.65400, 155.88800 8.64200...    PSP_001804_1890_RED   \n",
       "2  POLYGON ((-158.37900 -6.72600, -158.39700 -6.7...  PSP_002343_1735_COLOR   \n",
       "3  POLYGON ((-158.34300 -6.72200, -158.43400 -6.7...    PSP_002343_1735_RED   \n",
       "4  POLYGON ((61.29800 22.75100, 61.19400 22.73900...    PSP_004471_2030_RED   \n",
       "\n",
       "                 DatasetId InstHostId  InstId                 UTCstart  \\\n",
       "0  MRO-M-HIRISE-3-RDR-V1.0        MRO  HIRISE  2006-03-25T16:18:52.639   \n",
       "1  MRO-M-HIRISE-3-RDR-V1.0        MRO  HIRISE  2006-12-15T00:29:16.882   \n",
       "2  MRO-M-HIRISE-3-RDR-V1.0        MRO  HIRISE  2007-01-26T00:24:20.300   \n",
       "3  MRO-M-HIRISE-3-RDR-V1.0        MRO  HIRISE  2007-01-26T00:24:20.368   \n",
       "4  MRO-M-HIRISE-3-RDR-V1.0        MRO  HIRISE  2007-07-10T20:08:42.980   \n",
       "\n",
       "                    UTCend ProdType  \n",
       "0  2006-03-25T16:19:09.646      RDR  \n",
       "1  2006-12-15T00:29:23.845      RDR  \n",
       "2  2007-01-26T00:24:23.904      RDR  \n",
       "3  2007-01-26T00:24:23.776      RDR  \n",
       "4  2007-07-10T20:08:51.989      RDR  "
      ]
     },
     "execution_count": 13,
     "metadata": {},
     "output_type": "execute_result"
    }
   ],
   "source": [
    "hirise.head()"
   ]
  },
  {
   "cell_type": "code",
   "execution_count": null,
   "metadata": {},
   "outputs": [],
   "source": []
  }
 ],
 "metadata": {
  "kernelspec": {
   "display_name": "Python 3",
   "language": "python",
   "name": "python3"
  },
  "language_info": {
   "codemirror_mode": {
    "name": "ipython",
    "version": 3
   },
   "file_extension": ".py",
   "mimetype": "text/x-python",
   "name": "python",
   "nbconvert_exporter": "python",
   "pygments_lexer": "ipython3",
   "version": "3.7.8"
  }
 },
 "nbformat": 4,
 "nbformat_minor": 4
}
