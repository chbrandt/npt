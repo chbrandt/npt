{
 "cells": [
  {
   "cell_type": "markdown",
   "id": "e016c141-9e29-4c27-8099-984930928ac4",
   "metadata": {},
   "source": [
    "# Download PDS data products\n",
    "\n",
    "In the previous/first step we have queried PDS/ODE API for the data products over a region (Mawrth Vallis) of Mars.\n",
    "In particular, we search for data from the MRO/CTX, MRO/HiRISE, and MEX/HRSC instruments.\n",
    "The results -- i.e., footprints and associated metadata -- were written in GeoJSON file(s).\n",
    "\n",
    "We will go now through the process of (1) downloading the/some data products, and (2) updating the metadata set we have for each image. Naturally, we are going to the (NPT) library to do it."
   ]
  },
  {
   "cell_type": "code",
   "execution_count": 1,
   "id": "5f3b1618-4e76-4bc9-b98d-dd4ada383be5",
   "metadata": {},
   "outputs": [],
   "source": [
    "search_results = 'Mawrth_Vallis_ODE_products_intersect.geojson'"
   ]
  },
  {
   "cell_type": "code",
   "execution_count": 2,
   "id": "18e99881-55ef-499b-bc6f-4ababc838e6d",
   "metadata": {},
   "outputs": [],
   "source": [
    "import npt\n",
    "\n",
    "gjson = npt.utils.read_geojson(search_results)"
   ]
  },
  {
   "cell_type": "code",
   "execution_count": 3,
   "id": "1625e16e-0301-429f-a8ea-998bcd216373",
   "metadata": {},
   "outputs": [],
   "source": [
    "import geopandas\n",
    "import pandas\n",
    "pandas.set_option('display.max_columns',100)"
   ]
  },
  {
   "cell_type": "code",
   "execution_count": 4,
   "id": "368e8a1b-5026-4d01-b3e4-4b2f1c5dc10d",
   "metadata": {},
   "outputs": [
    {
     "data": {
      "text/html": [
       "<div>\n",
       "<style scoped>\n",
       "    .dataframe tbody tr th:only-of-type {\n",
       "        vertical-align: middle;\n",
       "    }\n",
       "\n",
       "    .dataframe tbody tr th {\n",
       "        vertical-align: top;\n",
       "    }\n",
       "\n",
       "    .dataframe thead th {\n",
       "        text-align: right;\n",
       "    }\n",
       "</style>\n",
       "<table border=\"1\" class=\"dataframe\">\n",
       "  <thead>\n",
       "    <tr style=\"text-align: right;\">\n",
       "      <th></th>\n",
       "      <th>id</th>\n",
       "      <th>mission</th>\n",
       "      <th>inst</th>\n",
       "      <th>type</th>\n",
       "      <th>Target_name</th>\n",
       "      <th>Footprints_cross_meridian</th>\n",
       "      <th>Map_scale</th>\n",
       "      <th>Center_latitude</th>\n",
       "      <th>Center_longitude</th>\n",
       "      <th>Easternmost_longitude</th>\n",
       "      <th>Westernmost_longitude</th>\n",
       "      <th>Minimum_latitude</th>\n",
       "      <th>Maximum_latitude</th>\n",
       "      <th>Emission_angle</th>\n",
       "      <th>Incidence_angle</th>\n",
       "      <th>Phase_angle</th>\n",
       "      <th>Solar_longitude</th>\n",
       "      <th>Observation_time</th>\n",
       "      <th>Product_creation_time</th>\n",
       "      <th>UTC_start_time</th>\n",
       "      <th>UTC_stop_time</th>\n",
       "      <th>image_url</th>\n",
       "      <th>label_url</th>\n",
       "      <th>browse_url</th>\n",
       "      <th>geometry</th>\n",
       "    </tr>\n",
       "  </thead>\n",
       "  <tbody>\n",
       "    <tr>\n",
       "      <th>0</th>\n",
       "      <td>H1293_0000_ND3.JP2</td>\n",
       "      <td>MEX</td>\n",
       "      <td>HRSC</td>\n",
       "      <td>REFDR3</td>\n",
       "      <td>MARS</td>\n",
       "      <td>False</td>\n",
       "      <td>12.5</td>\n",
       "      <td>29.7761</td>\n",
       "      <td>341.8979</td>\n",
       "      <td>342.89</td>\n",
       "      <td>340.677</td>\n",
       "      <td>19.519</td>\n",
       "      <td>40.065</td>\n",
       "      <td>None</td>\n",
       "      <td>None</td>\n",
       "      <td>None</td>\n",
       "      <td>None</td>\n",
       "      <td>2005-01-19T19:06:48.344002</td>\n",
       "      <td>2016-03-04T20:31:26</td>\n",
       "      <td>2005-01-19T19:04:06.841000</td>\n",
       "      <td>2005-01-19T19:09:29.847000</td>\n",
       "      <td>https://pds-geosciences.wustl.edu/mex/mex-m-hr...</td>\n",
       "      <td>https://pds-geosciences.wustl.edu/mex/mex-m-hr...</td>\n",
       "      <td>https://pds-geosciences.wustl.edu/mex/mex-m-hr...</td>\n",
       "      <td>POLYGON ((342.180 40.065, 342.190 39.882, 342....</td>\n",
       "    </tr>\n",
       "    <tr>\n",
       "      <th>1</th>\n",
       "      <td>H2196_0001_ND3.JP2</td>\n",
       "      <td>MEX</td>\n",
       "      <td>HRSC</td>\n",
       "      <td>REFDR3</td>\n",
       "      <td>MARS</td>\n",
       "      <td>False</td>\n",
       "      <td>25</td>\n",
       "      <td>16.2676</td>\n",
       "      <td>344.0262</td>\n",
       "      <td>345.891</td>\n",
       "      <td>342.568</td>\n",
       "      <td>8.632</td>\n",
       "      <td>23.902</td>\n",
       "      <td>None</td>\n",
       "      <td>None</td>\n",
       "      <td>None</td>\n",
       "      <td>None</td>\n",
       "      <td>2005-09-29T15:28:07.719000</td>\n",
       "      <td>2016-03-14T11:38:04</td>\n",
       "      <td>2005-09-29T15:25:45.728001</td>\n",
       "      <td>2005-09-29T15:30:29.709999</td>\n",
       "      <td>https://pds-geosciences.wustl.edu/mex/mex-m-hr...</td>\n",
       "      <td>https://pds-geosciences.wustl.edu/mex/mex-m-hr...</td>\n",
       "      <td>https://pds-geosciences.wustl.edu/mex/mex-m-hr...</td>\n",
       "      <td>POLYGON ((343.406 8.632, 343.399 8.787, 343.39...</td>\n",
       "    </tr>\n",
       "    <tr>\n",
       "      <th>2</th>\n",
       "      <td>P01_001388_2034_XI_23N017W</td>\n",
       "      <td>MRO</td>\n",
       "      <td>CTX</td>\n",
       "      <td>EDR</td>\n",
       "      <td>MARS</td>\n",
       "      <td>False</td>\n",
       "      <td>5.66</td>\n",
       "      <td>23.2688</td>\n",
       "      <td>342.4958</td>\n",
       "      <td>342.8</td>\n",
       "      <td>342.19</td>\n",
       "      <td>22.8866</td>\n",
       "      <td>23.6504</td>\n",
       "      <td>5.85</td>\n",
       "      <td>48.88</td>\n",
       "      <td>43.11</td>\n",
       "      <td>134.36</td>\n",
       "      <td>2006-11-12T15:12:52.777000</td>\n",
       "      <td>2007-05-18T22:07:23</td>\n",
       "      <td>2006-11-12T15:12:46.050999</td>\n",
       "      <td>2006-11-12T15:12:59.504002</td>\n",
       "      <td>https://pds-imaging.jpl.nasa.gov/data/mro/mars...</td>\n",
       "      <td>None</td>\n",
       "      <td>None</td>\n",
       "      <td>POLYGON ((342.710 23.650, 342.800 22.936, 342....</td>\n",
       "    </tr>\n",
       "    <tr>\n",
       "      <th>3</th>\n",
       "      <td>P04_002641_2046_XN_24N017W</td>\n",
       "      <td>MRO</td>\n",
       "      <td>CTX</td>\n",
       "      <td>EDR</td>\n",
       "      <td>MARS</td>\n",
       "      <td>False</td>\n",
       "      <td>5.66</td>\n",
       "      <td>24.3758</td>\n",
       "      <td>342.2817</td>\n",
       "      <td>342.87</td>\n",
       "      <td>341.66</td>\n",
       "      <td>21.7462</td>\n",
       "      <td>27.0054</td>\n",
       "      <td>0.09</td>\n",
       "      <td>59.39</td>\n",
       "      <td>59.41</td>\n",
       "      <td>185.96</td>\n",
       "      <td>2007-02-18T05:52:00.318000</td>\n",
       "      <td>2007-08-09T21:43:46</td>\n",
       "      <td>2007-02-18T05:51:11.313000</td>\n",
       "      <td>2007-02-18T05:52:49.324001</td>\n",
       "      <td>https://pds-imaging.jpl.nasa.gov/data/mro/mars...</td>\n",
       "      <td>None</td>\n",
       "      <td>None</td>\n",
       "      <td>POLYGON ((342.200 27.005, 342.870 21.806, 342....</td>\n",
       "    </tr>\n",
       "    <tr>\n",
       "      <th>4</th>\n",
       "      <td>PSP_001388_2035_RED</td>\n",
       "      <td>MRO</td>\n",
       "      <td>HIRISE</td>\n",
       "      <td>RDRV11</td>\n",
       "      <td>MARS</td>\n",
       "      <td>False</td>\n",
       "      <td>0.25</td>\n",
       "      <td>23.2452</td>\n",
       "      <td>342.5015</td>\n",
       "      <td>342.563</td>\n",
       "      <td>342.439</td>\n",
       "      <td>23.161</td>\n",
       "      <td>23.3293</td>\n",
       "      <td>5.816564</td>\n",
       "      <td>48.900419</td>\n",
       "      <td>43.137054</td>\n",
       "      <td>134.35984</td>\n",
       "      <td>2006-11-12T15:12:52.248001</td>\n",
       "      <td>2009-09-22T22:45:09</td>\n",
       "      <td>2006-11-12T15:12:50.716999</td>\n",
       "      <td>2006-11-12T15:12:53.779999</td>\n",
       "      <td>https://hirise.lpl.arizona.edu/PDS/RDR/PSP/ORB...</td>\n",
       "      <td>https://hirise.lpl.arizona.edu/PDS/RDR/PSP/ORB...</td>\n",
       "      <td>https://hirise.lpl.arizona.edu/PDS/EXTRAS/RDR/...</td>\n",
       "      <td>POLYGON ((342.563 23.172, 342.459 23.161, 342....</td>\n",
       "    </tr>\n",
       "    <tr>\n",
       "      <th>5</th>\n",
       "      <td>PSP_002641_2025_RED</td>\n",
       "      <td>MRO</td>\n",
       "      <td>HIRISE</td>\n",
       "      <td>RDRV11</td>\n",
       "      <td>MARS</td>\n",
       "      <td>False</td>\n",
       "      <td>0.25</td>\n",
       "      <td>22.2517</td>\n",
       "      <td>342.551</td>\n",
       "      <td>342.621</td>\n",
       "      <td>342.481</td>\n",
       "      <td>22.1027</td>\n",
       "      <td>22.4007</td>\n",
       "      <td>0.295027</td>\n",
       "      <td>58.737351</td>\n",
       "      <td>58.835998</td>\n",
       "      <td>185.953173</td>\n",
       "      <td>2007-02-18T05:51:20.181000</td>\n",
       "      <td>2009-11-11T10:51:58</td>\n",
       "      <td>2007-02-18T05:51:17.450001</td>\n",
       "      <td>2007-02-18T05:51:22.912001</td>\n",
       "      <td>https://hirise.lpl.arizona.edu/PDS/RDR/PSP/ORB...</td>\n",
       "      <td>https://hirise.lpl.arizona.edu/PDS/RDR/PSP/ORB...</td>\n",
       "      <td>https://hirise.lpl.arizona.edu/PDS/EXTRAS/RDR/...</td>\n",
       "      <td>POLYGON ((342.621 22.114, 342.518 22.103, 342....</td>\n",
       "    </tr>\n",
       "  </tbody>\n",
       "</table>\n",
       "</div>"
      ],
      "text/plain": [
       "                           id mission    inst    type Target_name  \\\n",
       "0          H1293_0000_ND3.JP2     MEX    HRSC  REFDR3        MARS   \n",
       "1          H2196_0001_ND3.JP2     MEX    HRSC  REFDR3        MARS   \n",
       "2  P01_001388_2034_XI_23N017W     MRO     CTX     EDR        MARS   \n",
       "3  P04_002641_2046_XN_24N017W     MRO     CTX     EDR        MARS   \n",
       "4         PSP_001388_2035_RED     MRO  HIRISE  RDRV11        MARS   \n",
       "5         PSP_002641_2025_RED     MRO  HIRISE  RDRV11        MARS   \n",
       "\n",
       "  Footprints_cross_meridian Map_scale Center_latitude Center_longitude  \\\n",
       "0                     False      12.5         29.7761         341.8979   \n",
       "1                     False        25         16.2676         344.0262   \n",
       "2                     False      5.66         23.2688         342.4958   \n",
       "3                     False      5.66         24.3758         342.2817   \n",
       "4                     False      0.25         23.2452         342.5015   \n",
       "5                     False      0.25         22.2517          342.551   \n",
       "\n",
       "  Easternmost_longitude Westernmost_longitude Minimum_latitude  \\\n",
       "0                342.89               340.677           19.519   \n",
       "1               345.891               342.568            8.632   \n",
       "2                 342.8                342.19          22.8866   \n",
       "3                342.87                341.66          21.7462   \n",
       "4               342.563               342.439           23.161   \n",
       "5               342.621               342.481          22.1027   \n",
       "\n",
       "  Maximum_latitude Emission_angle Incidence_angle Phase_angle Solar_longitude  \\\n",
       "0           40.065           None            None        None            None   \n",
       "1           23.902           None            None        None            None   \n",
       "2          23.6504           5.85           48.88       43.11          134.36   \n",
       "3          27.0054           0.09           59.39       59.41          185.96   \n",
       "4          23.3293       5.816564       48.900419   43.137054       134.35984   \n",
       "5          22.4007       0.295027       58.737351   58.835998      185.953173   \n",
       "\n",
       "             Observation_time Product_creation_time  \\\n",
       "0  2005-01-19T19:06:48.344002   2016-03-04T20:31:26   \n",
       "1  2005-09-29T15:28:07.719000   2016-03-14T11:38:04   \n",
       "2  2006-11-12T15:12:52.777000   2007-05-18T22:07:23   \n",
       "3  2007-02-18T05:52:00.318000   2007-08-09T21:43:46   \n",
       "4  2006-11-12T15:12:52.248001   2009-09-22T22:45:09   \n",
       "5  2007-02-18T05:51:20.181000   2009-11-11T10:51:58   \n",
       "\n",
       "               UTC_start_time               UTC_stop_time  \\\n",
       "0  2005-01-19T19:04:06.841000  2005-01-19T19:09:29.847000   \n",
       "1  2005-09-29T15:25:45.728001  2005-09-29T15:30:29.709999   \n",
       "2  2006-11-12T15:12:46.050999  2006-11-12T15:12:59.504002   \n",
       "3  2007-02-18T05:51:11.313000  2007-02-18T05:52:49.324001   \n",
       "4  2006-11-12T15:12:50.716999  2006-11-12T15:12:53.779999   \n",
       "5  2007-02-18T05:51:17.450001  2007-02-18T05:51:22.912001   \n",
       "\n",
       "                                           image_url  \\\n",
       "0  https://pds-geosciences.wustl.edu/mex/mex-m-hr...   \n",
       "1  https://pds-geosciences.wustl.edu/mex/mex-m-hr...   \n",
       "2  https://pds-imaging.jpl.nasa.gov/data/mro/mars...   \n",
       "3  https://pds-imaging.jpl.nasa.gov/data/mro/mars...   \n",
       "4  https://hirise.lpl.arizona.edu/PDS/RDR/PSP/ORB...   \n",
       "5  https://hirise.lpl.arizona.edu/PDS/RDR/PSP/ORB...   \n",
       "\n",
       "                                           label_url  \\\n",
       "0  https://pds-geosciences.wustl.edu/mex/mex-m-hr...   \n",
       "1  https://pds-geosciences.wustl.edu/mex/mex-m-hr...   \n",
       "2                                               None   \n",
       "3                                               None   \n",
       "4  https://hirise.lpl.arizona.edu/PDS/RDR/PSP/ORB...   \n",
       "5  https://hirise.lpl.arizona.edu/PDS/RDR/PSP/ORB...   \n",
       "\n",
       "                                          browse_url  \\\n",
       "0  https://pds-geosciences.wustl.edu/mex/mex-m-hr...   \n",
       "1  https://pds-geosciences.wustl.edu/mex/mex-m-hr...   \n",
       "2                                               None   \n",
       "3                                               None   \n",
       "4  https://hirise.lpl.arizona.edu/PDS/EXTRAS/RDR/...   \n",
       "5  https://hirise.lpl.arizona.edu/PDS/EXTRAS/RDR/...   \n",
       "\n",
       "                                            geometry  \n",
       "0  POLYGON ((342.180 40.065, 342.190 39.882, 342....  \n",
       "1  POLYGON ((343.406 8.632, 343.399 8.787, 343.39...  \n",
       "2  POLYGON ((342.710 23.650, 342.800 22.936, 342....  \n",
       "3  POLYGON ((342.200 27.005, 342.870 21.806, 342....  \n",
       "4  POLYGON ((342.563 23.172, 342.459 23.161, 342....  \n",
       "5  POLYGON ((342.621 22.114, 342.518 22.103, 342....  "
      ]
     },
     "execution_count": 4,
     "metadata": {},
     "output_type": "execute_result"
    }
   ],
   "source": [
    "gdf = geopandas.read_file(search_results)\n",
    "\n",
    "gdf_sample = gdf.groupby('inst').head(2).reset_index(drop=True)\n",
    "\n",
    "gdf_sample"
   ]
  },
  {
   "cell_type": "markdown",
   "id": "760e73b9-e4d5-4efc-9099-198f3284ace5",
   "metadata": {},
   "source": [
    "## Overview\n",
    "\n",
    "During the whole of the downloading process is when we will fix eventual gaps in our metadata set.\n",
    "For instance, have a look at the sample table above -- we have been carefull to select a couple of entries from the different datasets (_instruments_) so we can have a general view of the dataset at hand.\n",
    "\n",
    "We notice the following points that should be fixed/adjusted at the end of this process:\n",
    "\n",
    "- HRSC `id` is literally the product filename: remove the file extension from it to better define it as ID;\n",
    "- Longitude coordinates are in the range [0:360]: shift it to [-180:180] to be compatible with typical geo-spatial databases and tools;\n",
    "- HRSC entries have no values for `Emission_angle`, `Incidence_angle`, `Phase_angle`, `Solar_longitude`: recover them from image headers/Label files;\n",
    "- CTX products have no separated Label files: write them from the Label information in the image headers."
   ]
  },
  {
   "cell_type": "markdown",
   "id": "1bc6fdc5-c021-4fb7-b6a7-c1e466132f9b",
   "metadata": {},
   "source": [
    "## Split data\n",
    "\n",
    "To keep things simple and under control, we want to download data products for each instrument separately."
   ]
  },
  {
   "cell_type": "code",
   "execution_count": 5,
   "id": "2f9a6635-db6d-4690-9405-01435057029b",
   "metadata": {},
   "outputs": [],
   "source": [
    "gdf_sample_ctx = gdf_sample.query('inst == \"CTX\"')\n",
    "\n",
    "gdf_sample_hirise = gdf_sample.query('inst == \"HIRISE\"')\n",
    "\n",
    "gdf_sample_hrsc = gdf_sample.query('inst == \"HRSC\"')"
   ]
  },
  {
   "cell_type": "markdown",
   "id": "69780c02-eef4-454e-af6a-fc98b3ebb463",
   "metadata": {},
   "source": [
    "## Convert (DF) tables to GeoJSON\n",
    "\n",
    "GeoJSON (features) -- i.e., Python dictionaries -- is the data structure used in NPT download function(s)."
   ]
  },
  {
   "cell_type": "code",
   "execution_count": 6,
   "id": "0b19ed00-4b8c-4ccd-a3c0-abd14022d2ed",
   "metadata": {},
   "outputs": [],
   "source": [
    "import json\n",
    "\n",
    "gjson_ctx = json.loads(gdf_sample_ctx.to_json())\n",
    "\n",
    "gjson_hirise = json.loads(gdf_sample_hirise.to_json())\n",
    "\n",
    "gjson_hrsc = json.loads(gdf_sample_hrsc.to_json())"
   ]
  },
  {
   "cell_type": "markdown",
   "id": "1b9b598c-b2c2-4775-b14a-94a5afdbc1cc",
   "metadata": {},
   "source": [
    "## CTX"
   ]
  },
  {
   "cell_type": "code",
   "execution_count": 7,
   "id": "fb699bd3-62e4-4e08-be72-8454e26ffa03",
   "metadata": {},
   "outputs": [],
   "source": [
    "import npt"
   ]
  },
  {
   "cell_type": "code",
   "execution_count": 8,
   "id": "b21695e3-47c0-4da4-8880-ad97edcabfa4",
   "metadata": {},
   "outputs": [
    {
     "name": "stdout",
     "output_type": "stream",
     "text": [
      "function _is_downloaded()\n",
      "*url = https://pds-imaging.jpl.nasa.gov/data/mro/mars_reconnaissance_orbiter/ctx/mrox_0008/data/P01_001388_2034_XI_23N017W.IMG\n",
      "*filename = data/ctx/P01_001388_2034_XI_23N017W.IMG\n",
      "-return True\n",
      "PDS LABEL file 'data/ctx/P01_001388_2034_XI_23N017W.lbl' created.\n",
      "function _is_downloaded()\n",
      "*url = https://pds-imaging.jpl.nasa.gov/data/mro/mars_reconnaissance_orbiter/ctx/mrox_0057/data/P04_002641_2046_XN_24N017W.IMG\n",
      "*filename = data/ctx/P04_002641_2046_XN_24N017W.IMG\n",
      "-return True\n",
      "PDS LABEL file 'data/ctx/P04_002641_2046_XN_24N017W.lbl' created.\n"
     ]
    }
   ],
   "source": [
    "gjson_ctx_new = npt.download.from_geojson(gjson_ctx, basepath='data/ctx', progressbar=True)"
   ]
  },
  {
   "cell_type": "code",
   "execution_count": 9,
   "id": "01b61965-6b2e-4283-a29c-671e6dd87d58",
   "metadata": {},
   "outputs": [
    {
     "name": "stdout",
     "output_type": "stream",
     "text": [
      "function _is_downloaded()\n",
      "*url = https://hirise.lpl.arizona.edu/PDS/RDR/PSP/ORB_001300_001399/PSP_001388_2035/PSP_001388_2035_RED.JP2\n",
      "*filename = data/hirise/PSP_001388_2035_RED.JP2\n",
      "-return False\n",
      "--> Downloading file data/hirise/PSP_001388_2035_RED.JP2 ..\n"
     ]
    },
    {
     "name": "stderr",
     "output_type": "stream",
     "text": [
      "data/hirise/PSP_001388_2035_RED.JP2: 364637KB [23:26, 259.31KB/s]                                                                                                                              \n"
     ]
    },
    {
     "name": "stdout",
     "output_type": "stream",
     "text": [
      "--> File downloaded.\n",
      "function _is_downloaded()\n",
      "*url = https://hirise.lpl.arizona.edu/PDS/RDR/PSP/ORB_001300_001399/PSP_001388_2035/PSP_001388_2035_RED.LBL\n",
      "*filename = data/hirise/PSP_001388_2035_RED.LBL\n",
      "-return False\n",
      "--> Downloading file data/hirise/PSP_001388_2035_RED.LBL ..\n"
     ]
    },
    {
     "name": "stderr",
     "output_type": "stream",
     "text": [
      "data/hirise/PSP_001388_2035_RED.LBL: 8KB [00:00, 3076.98KB/s]                                                                                                                                  \n"
     ]
    },
    {
     "name": "stdout",
     "output_type": "stream",
     "text": [
      "--> File downloaded.\n",
      "function _is_downloaded()\n",
      "*url = https://hirise.lpl.arizona.edu/PDS/RDR/PSP/ORB_002600_002699/PSP_002641_2025/PSP_002641_2025_RED.JP2\n",
      "*filename = data/hirise/PSP_002641_2025_RED.JP2\n",
      "-return False\n",
      "--> Downloading file data/hirise/PSP_002641_2025_RED.JP2 ..\n"
     ]
    },
    {
     "name": "stderr",
     "output_type": "stream",
     "text": [
      "data/hirise/PSP_002641_2025_RED.JP2: 957981KB [54:03, 295.31KB/s]                                                                                                                              \n"
     ]
    },
    {
     "name": "stdout",
     "output_type": "stream",
     "text": [
      "--> File downloaded.\n",
      "function _is_downloaded()\n",
      "*url = https://hirise.lpl.arizona.edu/PDS/RDR/PSP/ORB_002600_002699/PSP_002641_2025/PSP_002641_2025_RED.LBL\n",
      "*filename = data/hirise/PSP_002641_2025_RED.LBL\n",
      "-return False\n",
      "--> Downloading file data/hirise/PSP_002641_2025_RED.LBL ..\n"
     ]
    },
    {
     "name": "stderr",
     "output_type": "stream",
     "text": [
      "data/hirise/PSP_002641_2025_RED.LBL: 8KB [00:00, 3210.34KB/s]                                                                                                                                  "
     ]
    },
    {
     "name": "stdout",
     "output_type": "stream",
     "text": [
      "--> File downloaded.\n"
     ]
    },
    {
     "name": "stderr",
     "output_type": "stream",
     "text": [
      "\n"
     ]
    }
   ],
   "source": [
    "gjson_hirise_new = npt.download.from_geojson(gjson_hirise, basepath='data/hirise', progressbar=True)"
   ]
  },
  {
   "cell_type": "code",
   "execution_count": 10,
   "id": "ffba7964-0711-4676-b8a9-a5cfeb0abf6b",
   "metadata": {},
   "outputs": [
    {
     "name": "stdout",
     "output_type": "stream",
     "text": [
      "function _is_downloaded()\n",
      "*url = https://pds-geosciences.wustl.edu/mex/mex-m-hrsc-5-refdr-mapprojected-v3/mexhrs_1003/data/1293/h1293_0000_nd3.jp2\n",
      "*filename = data/hrsc/h1293_0000_nd3.jp2\n",
      "-return False\n",
      "--> Downloading file data/hrsc/h1293_0000_nd3.jp2 ..\n"
     ]
    },
    {
     "name": "stderr",
     "output_type": "stream",
     "text": [
      "data/hrsc/h1293_0000_nd3.jp2: 279607KB [09:58, 467.43KB/s]                                                                                                                                     \n"
     ]
    },
    {
     "name": "stdout",
     "output_type": "stream",
     "text": [
      "--> File downloaded.\n",
      "function _is_downloaded()\n",
      "*url = https://pds-geosciences.wustl.edu/mex/mex-m-hrsc-5-refdr-mapprojected-v3/mexhrs_1003/data/1293/h1293_0000_nd3.lbl\n",
      "*filename = data/hrsc/h1293_0000_nd3.lbl\n",
      "-return False\n",
      "--> Downloading file data/hrsc/h1293_0000_nd3.lbl ..\n"
     ]
    },
    {
     "name": "stderr",
     "output_type": "stream",
     "text": [
      "data/hrsc/h1293_0000_nd3.lbl: 4KB [00:00, 640.91KB/s]                                                                                                                                          \n"
     ]
    },
    {
     "name": "stdout",
     "output_type": "stream",
     "text": [
      "--> File downloaded.\n",
      "function _is_downloaded()\n",
      "*url = https://pds-geosciences.wustl.edu/mex/mex-m-hrsc-5-refdr-mapprojected-v3/mexhrs_1003/data/2196/h2196_0001_nd3.jp2\n",
      "*filename = data/hrsc/h2196_0001_nd3.jp2\n",
      "-return False\n",
      "--> Downloading file data/hrsc/h2196_0001_nd3.jp2 ..\n"
     ]
    },
    {
     "name": "stderr",
     "output_type": "stream",
     "text": [
      "data/hrsc/h2196_0001_nd3.jp2: 92268KB [04:05, 375.93KB/s]                                                                                                                                      \n"
     ]
    },
    {
     "name": "stdout",
     "output_type": "stream",
     "text": [
      "--> File downloaded.\n",
      "function _is_downloaded()\n",
      "*url = https://pds-geosciences.wustl.edu/mex/mex-m-hrsc-5-refdr-mapprojected-v3/mexhrs_1003/data/2196/h2196_0001_nd3.lbl\n",
      "*filename = data/hrsc/h2196_0001_nd3.lbl\n",
      "-return False\n",
      "--> Downloading file data/hrsc/h2196_0001_nd3.lbl ..\n"
     ]
    },
    {
     "name": "stderr",
     "output_type": "stream",
     "text": [
      "data/hrsc/h2196_0001_nd3.lbl: 4KB [00:00, 1277.10KB/s]                                                                                                                                         "
     ]
    },
    {
     "name": "stdout",
     "output_type": "stream",
     "text": [
      "--> File downloaded.\n"
     ]
    },
    {
     "name": "stderr",
     "output_type": "stream",
     "text": [
      "\n"
     ]
    }
   ],
   "source": [
    "gjson_hrsc_new = npt.download.from_geojson(gjson_hrsc, basepath='data/hrsc', progressbar=True)"
   ]
  },
  {
   "cell_type": "code",
   "execution_count": null,
   "id": "d6eae446-1fa0-4281-b1c1-eb1123e1eaff",
   "metadata": {},
   "outputs": [],
   "source": []
  }
 ],
 "metadata": {
  "kernelspec": {
   "display_name": "Python (NPT)",
   "language": "python",
   "name": "npt"
  },
  "language_info": {
   "codemirror_mode": {
    "name": "ipython",
    "version": 3
   },
   "file_extension": ".py",
   "mimetype": "text/x-python",
   "name": "python",
   "nbconvert_exporter": "python",
   "pygments_lexer": "ipython3",
   "version": "3.10.2"
  }
 },
 "nbformat": 4,
 "nbformat_minor": 5
}
